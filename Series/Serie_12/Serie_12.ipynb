{
 "cells": [
  {
   "cell_type": "markdown",
   "metadata": {
    "deletable": false,
    "editable": false,
    "run_control": {
     "frozen": true
    }
   },
   "source": [
    "# ICS - Travaux Pratiques 12\n",
    "\n",
    "21.05.25\n",
    "\n",
    "\n",
    "<font color=grey>_Dans ce 12e TP, nous reviendrons sur les formules d'interpolations de polynômes en utilisant les polynomes de Lagrange. Nous étudierons également les premières méthodes d'intégration numérique vues en cours.._ \n",
    "\n",
    "_Note : ne vous sentez pas obligé.e.s de finir la série pendant la séance! Celle-ci est conçue de manière à ce que vous gardiez certains exercices pour vos révisions._ </font>"
   ]
  },
  {
   "cell_type": "markdown",
   "metadata": {},
   "source": [
    "***"
   ]
  },
  {
   "cell_type": "code",
   "execution_count": 1,
   "metadata": {
    "deletable": false,
    "run_control": {
     "frozen": true
    }
   },
   "outputs": [],
   "source": [
    "# importation des librairies numpy et matplotlib que nous allons utiliser dans ce notebook  \n",
    "import numpy as np\n",
    "import matplotlib.pyplot as plt"
   ]
  },
  {
   "cell_type": "markdown",
   "metadata": {
    "deletable": false,
    "editable": false,
    "jp-MarkdownHeadingCollapsed": true,
    "run_control": {
     "frozen": true
    }
   },
   "source": [
    "## Exercice 1 : interpolation de Lagrange\n",
    "  "
   ]
  },
  {
   "cell_type": "markdown",
   "metadata": {},
   "source": [
    "Dans cet exercice, on revient sur la **méthode d'interpolation de Lagrange** qui permet de construire le polynôme $p\\in \\mathbb{P}_n$ passant par $n+1$ points. On vous demande en particulier... \n",
    "1) ...de déterminer l'expression du **polynôme d'interpolation** $p(t)$ passant par :\n",
    "* les deux points $P_0=(t_0,p_0)$ et $P_1=(t_1,p_1)$ ;\n",
    "* les trois points $P_0=(t_0,p_0)$, $P_1=(t_1,p_1)$ et $P_2=(t_2,p_2)$.\n",
    "\n",
    "2) ...de représenter ces deux polynômes en posant $P_0=(1,4)$, $P_1=(4,7)$ et $P_2=(7,-3)$.\n",
    "\n",
    "Plus précisément, on vous demande \n",
    "   * de représenter, dans deux graphiques placés côte à côte dans la même figure de 12 pouces sur 6 pouces, les deux polynômes $p(t)$ obtenus,  ainsi que les points $P_0$, $P_1$ et $P_2$.\n",
    "   * de représenter également, dans ces mêmes graphiques, en pointillés, les polynômes correspondant à chacun des termes $p_j\\varphi_j(t)$, avec $j=0,1$ , respectivement $j=0,1,2$ , intervenant dans la combinaison linéaire définissant les deux polynômes d'interpolation $p$. Indiquez sur la représentation le (ou les) zéro(s) de ces polynômes.\n",
    "   * d'afficher un titre et une légende de manière à rendre la figure la plus lisible possible."
   ]
  },
  {
   "cell_type": "markdown",
   "metadata": {},
   "source": [
    "---\n",
    "*Note:* the notations of the implementation folow those on the wikipedia page for the method [Wikipedia](https://en.wikipedia.org/wiki/Lagrange_polynomial)"
   ]
  },
  {
   "cell_type": "code",
   "execution_count": 103,
   "metadata": {},
   "outputs": [],
   "source": [
    "def lagrange_polyfit(x_arr, y_arr):\n",
    "    '''\n",
    "    Finds the polynomial fit to a set of points using the Lagrangian interpolation method\n",
    "\n",
    "    Args:\n",
    "        x_arr (linear iterable): list of the x values\n",
    "        y_arr (linear iterable): list of the y values\n",
    "\n",
    "    Returns:\n",
    "        L (function): the fitted function\n",
    "    '''\n",
    "    # compute lj's\n",
    "    lj_arr = []\n",
    "    for j in range(len(x_arr)):\n",
    "        \n",
    "        # craft lj function\n",
    "        def lj(x, j=j, xarr=x_arr): # note that xarr is internal to lj()\n",
    "            func = 1\n",
    "            xj = xarr[j]\n",
    "            \n",
    "            for k, xk in enumerate(xarr):\n",
    "                if k == j: # if index is same\n",
    "                    continue # skip to next j\n",
    "    \n",
    "                func *= (x - xk) / (xj - xk) # multiply by next term\n",
    "            \n",
    "            return func # returns value of lj(x)\n",
    "        lj_arr.append(lj)\n",
    "\n",
    "    # compute weighed sum: L(x)=y1*l1(x) + y2*l2(x) ...\n",
    "    L = lambda x: sum([yj*lj(x) for yj, lj in zip(y_arr, lj_arr)])\n",
    "    return L"
   ]
  },
  {
   "cell_type": "code",
   "execution_count": 104,
   "metadata": {},
   "outputs": [
    {
     "data": {
      "image/png": "[encoded data removed]",
      "text/plain": [
       "<Figure size 640x480 with 1 Axes>"
      ]
     },
     "metadata": {},
     "output_type": "display_data"
    }
   ],
   "source": [
    "x_arr = [1, 4, 9, 7, 10]\n",
    "y_arr = [9, 8, 6, 5, 10]\n",
    "\n",
    "L = lagrange_polyfit(x_arr, y_arr)\n",
    "plt.plot(x:=np.linspace(min(x_arr)-abs(0.5*max(x_arr)), max(x_arr)+abs(0.5*max(x_arr)), 100), L(x), color='navy', linewidth=0.75)\n",
    "plt.scatter(x_arr, y_arr, marker='x', color='navy', linewidth=0.75)\n",
    "plt.grid()\n",
    "plt.show()"
   ]
  },
  {
   "cell_type": "markdown",
   "metadata": {},
   "source": [
    "#### Performance of implementation vs scipy"
   ]
  },
  {
   "cell_type": "code",
   "execution_count": 109,
   "metadata": {},
   "outputs": [],
   "source": [
    "from scipy.interpolate import BarycentricInterpolator, lagrange\n",
    "import time as tm\n",
    "import random as rd\n",
    "\n",
    "n = 50\n",
    "scp_times = []\n",
    "custom_times = []\n",
    "bary_times = []\n",
    "\n",
    "rng = np.random.default_rng()\n",
    "\n",
    "for i in range(2, n):\n",
    "    x = rng.random(i) # random array of unique values\n",
    "    y = np.log2(x) # any function, has to be injective to guarantee all points will be different\n",
    "    \n",
    "    # scipy\n",
    "    a = tm.time()\n",
    "    L = lagrange(x, y)\n",
    "    b = tm.time()\n",
    "    scp_times.append(b - a)\n",
    "    \n",
    "    # custom\n",
    "    a = tm.time()\n",
    "    L = lagrange_polyfit(x, y)\n",
    "    b = tm.time()\n",
    "    custom_times.append(b - a)"
   ]
  },
  {
   "cell_type": "code",
   "execution_count": 110,
   "metadata": {},
   "outputs": [
    {
     "data": {
      "image/png": "[encoded data removed]",
      "text/plain": [
       "<Figure size 640x480 with 1 Axes>"
      ]
     },
     "metadata": {},
     "output_type": "display_data"
    }
   ],
   "source": [
    "plt.plot(custom_times, color='navy', label='lagrange_polyfit()', linewidth=0.75)\n",
    "plt.plot(scp_times, color='darkred', label='BarycentricInterpolator()', linewidth=0.75)\n",
    "plt.legend()\n",
    "plt.grid()\n",
    "plt.show()"
   ]
  },
  {
   "cell_type": "markdown",
   "metadata": {},
   "source": [
    "We can see that our `lagrange_polyfit()` function tops scipy's implementation, this is due to how scipy stores the function as a `numpy.poly1d` object, which allows for operations like integration and derivation to be applied to the polynom, it's usually uninteresting to compute the interpolation fast because it's only a one time use sort of thing, but having a `poly1d` object is way easier to handle and goes faster when computing values of the function (numpy is C based) "
   ]
  },
  {
   "cell_type": "markdown",
   "metadata": {},
   "source": [
    "***"
   ]
  },
  {
   "cell_type": "markdown",
   "metadata": {
    "deletable": false,
    "editable": false,
    "run_control": {
     "frozen": true
    }
   },
   "source": [
    "## Exercice 2 : Méthodes de quadrature non composites"
   ]
  },
  {
   "cell_type": "markdown",
   "metadata": {},
   "source": [
    "<font color=grey>**Rappel**\n",
    "\n",
    "Le principe général des **méthodes non composites** est de remplacer le calcul de l'intégrale définie d'une fonction $f(x)$ entre $a$ et $b$, \n",
    "$$\n",
    "I = \\int_{a}^{b}{f(x)dx}\\,,\n",
    "$$\n",
    "(c'est-à-dire le calcul de l'aire sous la courbe, avec signe) par l'évaluation de la superficie qui se trouve sous la courbe correspondant à un polynôme d'interpolation $p\\in \\mathbb{P}_n$ passant par $n+1$ points $(x,f(x))$ :\n",
    "$$\n",
    "I_n = \\int_{a}^{b}{p(x)dx}\\,.\n",
    "$$\n",
    "\n",
    "Selon la valeur de $n$ (c'est-à-dire selon le nombre de points d'interpolation considérés), on peut donc distinguer :\n",
    "* les **méthodes du \"point de gauche\"**, **du \"point de droite\"**, **du \"point milieu\"** ou **de Riemann** qui correspondent au cas $n=0$. \n",
    "On fait alors passer une **fonction constante** par l'**unique point** choisi : \n",
    "    * $(a,f(a))$ (*point de gauche*) , \n",
    "    * $(b,f(b))$ (*point de droite*) ,\n",
    "    * $(\\frac{a+b}{2},f(\\frac{a+b}{2}))$ (*point milieu*) ,\n",
    "    * $(\\xi,f(\\xi))$ (*point choisi au hasard*) ;\n",
    "* la **méthode du trapèze** qui correspond au cas $n=1$. \n",
    "On fait alors passer une **fonction affine** (droite) par les **deux points** choisis :\n",
    "    * en général, $(a,f(a))$ et $(b,f(b))$ ;\n",
    "* d'**autres méthodes** (**Simpson**, etc.) que nous aurons l'occasion d'étudier plus tard.</font>"
   ]
  },
  {
   "cell_type": "markdown",
   "metadata": {
    "deletable": false,
    "editable": false,
    "run_control": {
     "frozen": true
    }
   },
   "source": [
    "\n",
    "Dans cet exercice, nous allons considérer la fonction réelle d'une variable réelle $f: \\mathbb{R}\\rightarrow \\mathbb{R}$ définie par :\n",
    "\n",
    "$$\n",
    "f(x) = (x^2-2x)\\exp{(-x)}\\,.\n",
    "$$\n",
    "Plus précisément, on vous demande de :\n",
    "* représenter la fonction $f(x)$ sur l'intervalle $[0,6.5]$ ;\n",
    "* calculer numériquement la valeur approchée des intégrales $I_1 = \\int_{0.5}^{4}{f(x)dx}$ et \n",
    "$I_2 = \\int_{4}^{6}{f(x)dx}$ en utilisant les **méthodes de quadrature non composites** énumérées plus haut (méthodes du *point de gauche*, du *point de droite*, du *point milieu*, de *Riemann* (*point choisi au hasard*) et du *trapèze*). <br>\n",
    "Pour ce faire, on vous propose de définir une fonction `integration_noncomposite` admettant comme arguments : la fonction `f` à intégrer, les bornes `a` et `b` de l'intervalle d'intégration considéré, ainsi que la `methode` choisie (`gauche`, `droite`, `milieu`, `riemann` ou `trapeze`). <br>\n",
    "Cette fonction devra afficher un message d'erreur \n",
    "    - si $a\\ge b$ ;  \n",
    "    - si la méthode précisée en argument ne fait pas partie des méthodes prises en charge par la fonction. \n",
    "\n",
    "  L'implémentation de la méthode de Riemann, doit se faire grâce à la fonction `random.uniform()` du module `random` de Python pour déterminer un point au hasard dans l'intervalle $[a,b]$ (`random.uniform(a,b)`).<br>\n",
    "Vos résultats devront être affichés clairement à l'aide de quelques instructions `print()`. <br>\n",
    "Dans le cas de la *méthode du trapèze*, on vous demande de plus de représenter la fonction $f(x)$ en mettant en évidence l'aire calculée à l'aide de la méthode `plt.fill()` qui permet de colorier l'intérieur d'un polygone.\n",
    "* discuter vos résultats en les comparant entre eux et avec les valeurs exactes obtenues en cherchant la primitive de $f$ :\n",
    "\n",
    "$$\n",
    "I_1 \\cong -0.1414175573 ~~~~\\text{et}~~~~I_2 \\cong 0.2038151439\\,.\n",
    "$$"
   ]
  },
  {
   "cell_type": "code",
   "execution_count": null,
   "metadata": {},
   "outputs": [],
   "source": []
  },
  {
   "cell_type": "markdown",
   "metadata": {},
   "source": [
    "***"
   ]
  },
  {
   "cell_type": "markdown",
   "metadata": {
    "deletable": false,
    "editable": false,
    "run_control": {
     "frozen": true
    }
   },
   "source": [
    "## Exercice 3 :  Méthodes de quadrature composites\n"
   ]
  },
  {
   "cell_type": "markdown",
   "metadata": {},
   "source": [
    "<font color=grey>**Rappel** \n",
    "\n",
    "Sur un intervalle $[a,b]$ grand, il est possible d'appliquer une méthode de quadrature non composite telle que décrite ci-dessus en prenant soin de considérer un polynôme $p\\in \\mathbb{P}_n$ avec $n$ grand (de manière à interpoler le mieux possible la fonction $f(x)$ sur l'intervalle). Toutefois, il est souvent préférable d'appliquer une **méthode de quadrature composite** : on divise l'intervalle $[a,b]$ en un certain nombre de sous-intervalles (autrement dit, on crée une partition de $[a,b]$) dans lesquels on interpole grâce à des polynômes $p\\in \\mathbb{P}_n$ avec $n$ petit. </font>"
   ]
  },
  {
   "cell_type": "markdown",
   "metadata": {
    "deletable": false,
    "editable": false,
    "run_control": {
     "frozen": true
    }
   },
   "source": [
    "Dans cet exercice, on vous propose d'affiner le calcul des intégrales définies $I_1$ et $I_2$ déjà abordé à l'exercice 2. Plus précisément, on vous demande de :\n",
    "* définir une fonction `integration_composite` admettant comme arguments : la fonction `f` à intégrer, les bornes `a` et `b` de l'intervalle d'intégration, le nombre `n` de sous-intervalles de la partition (que l'on supposera régulière) considérée, ainsi que la méthode (unique) choisie (`gauche`, `droite`, `milieu`, `riemann` ou `trapeze`) pour intégrer chacun des sous-intervalles. Cette fonction devra utiliser la fonction `integration_noncomposite` de l'exercice 2 ;\n",
    "* calculer les intégrales définies $I_1$ et $I_2$ à l'aide des différentes méthodes ;\n",
    "* faire varier le nombre de sous-intervalles (c'est-à-dire de modifier la **finesse de la partition**) et d'observer l'incidence sur les valeurs obtenues ;\n",
    "* deviner une manière d'estimer l'erreur commise dans le calcul."
   ]
  },
  {
   "cell_type": "code",
   "execution_count": null,
   "metadata": {},
   "outputs": [],
   "source": []
  }
 ],
 "metadata": {
  "celltoolbar": "Format de la Cellule Texte Brut",
  "kernelspec": {
   "display_name": "Python 3 (ipykernel)",
   "language": "python",
   "name": "python3"
  },
  "language_info": {
   "codemirror_mode": {
    "name": "ipython",
    "version": 3
   },
   "file_extension": ".py",
   "mimetype": "text/x-python",
   "name": "python",
   "nbconvert_exporter": "python",
   "pygments_lexer": "ipython3",
   "version": "3.13.0"
  },
  "latex_envs": {
   "LaTeX_envs_menu_present": true,
   "autoclose": false,
   "autocomplete": true,
   "bibliofile": "biblio.bib",
   "cite_by": "apalike",
   "current_citInitial": 1,
   "eqLabelWithNumbers": true,
   "eqNumInitial": 1,
   "hotkeys": {
    "equation": "Ctrl-E",
    "itemize": "Ctrl-I"
   },
   "labels_anchors": false,
   "latex_user_defs": false,
   "report_style_numbering": false,
   "user_envs_cfg": false
  }
 },
 "nbformat": 4,
 "nbformat_minor": 4
}
