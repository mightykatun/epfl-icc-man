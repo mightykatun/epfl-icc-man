{
 "cells": [
  {
   "cell_type": "markdown",
   "metadata": {
    "deletable": false,
    "editable": false,
    "run_control": {
     "frozen": true
    }
   },
   "source": [
    "\n",
    "# ICS - Travaux Pratiques 8\n",
    "\n",
    "16.04.25\n",
    "\n",
    "\n",
    "<font color=grey>_Ce 8e TP est axé autour de la compréhension des algorithmes, et de ce qui qualifie un bon algorithme. Nous en profiterons pour réviser la représentation gaphique d'objets en Matplotlib et (enfin) utiliser nos connaissances en Python pour écrire des algorithmes fonctionnels. Bien que cette série soit sous forme de Jupyter Notebook, vous devrez résoudre une partie des exercices sur papier._ \n",
    "\n",
    "_Note : ne vous sentez pas obligé.e.s de finir la série pendant la séance! Celle-ci est conçue de manière à ce que vous gardiez certains exercices pour vos révisions._ </font>"
   ]
  },
  {
   "cell_type": "markdown",
   "metadata": {},
   "source": [
    "***"
   ]
  },
  {
   "cell_type": "markdown",
   "metadata": {},
   "source": [
    "## Exercice 0 : Echauffement"
   ]
  },
  {
   "cell_type": "markdown",
   "metadata": {},
   "source": [
    "On donne l'algorithme suivant :"
   ]
  },
  {
   "cell_type": "code",
   "execution_count": 4,
   "metadata": {},
   "outputs": [
    {
     "name": "stdout",
     "output_type": "stream",
     "text": [
      "1\n",
      "4\n",
      "0\n"
     ]
    }
   ],
   "source": [
    "def f(a, b):\n",
    "    \"\"\"\n",
    "    Input : a, b entiers , a >= b > 0\n",
    "    \"\"\"\n",
    "    r = a\n",
    "    k = 0\n",
    "    while r >= b:\n",
    "        r -= b\n",
    "        k += 1\n",
    "    return r\n",
    "\n",
    "print(f(3, 2))\n",
    "print(f(20, 16))\n",
    "print(f(20, 5))\n",
    "\n",
    "# F calcule a mod b\n",
    "# time complexity is O(a/b)"
   ]
  },
  {
   "cell_type": "markdown",
   "metadata": {},
   "source": [
    "1. **Sans exécuter le code**, donner la valeur de `f(3,2)`, `f(20,16)`, `f(20,5)`. Vérifiez ensuite en faisant tourner le code.\n",
    "\n",
    "2. Que calcule cet algorithme? \n",
    "\n",
    "3. Comme évolue le temps de parcours `T` en fonction de l'argument `a` donné en entrée? On suppose que `b`reste fixe."
   ]
  },
  {
   "cell_type": "markdown",
   "metadata": {},
   "source": [
    "***"
   ]
  },
  {
   "cell_type": "markdown",
   "metadata": {
    "deletable": false,
    "editable": false,
    "run_control": {
     "frozen": true
    }
   },
   "source": [
    "## Exercice 1 : Complexité"
   ]
  },
  {
   "cell_type": "markdown",
   "metadata": {},
   "source": [
    "1. Ordonnez sans justification les fonctions suivantes par ordre de croissance, c'est-à-dire pour deux fonctions données $f$ et $g$, faites apparaître $f$ avant $g$ si $f = \\mathcal{O}(g)$. Groupez ensemble les fonctions qui ont le même ordre de croissance (c'est-à-dire groupez ensemble $f$ et $g$ si $f = \\Theta(g)$).\n",
    "\n",
    "$$n + 50,\\,  n\\sqrt{n},\\, 2n,\\, 100,\\, 10n^{0.1},\\, n^2,\\, n^3 + n^2,\\, n^3,\\, n^{1.1},\\, \\left|\\sin(n)\\right| + 1,\\,  n^{10}$$"
   ]
  },
  {
   "cell_type": "markdown",
   "metadata": {},
   "source": [
    "2. Représentez graphiquement chacune de ces fonctions en utilisant la librairie Matplotlib."
   ]
  },
  {
   "cell_type": "code",
   "execution_count": null,
   "metadata": {},
   "outputs": [],
   "source": [
    "# Réponse au point 2.\n"
   ]
  },
  {
   "cell_type": "markdown",
   "metadata": {},
   "source": [
    "***"
   ]
  },
  {
   "cell_type": "markdown",
   "metadata": {
    "deletable": false,
    "editable": false,
    "run_control": {
     "frozen": true
    }
   },
   "source": [
    "## Exercice 2 : Notation de Landau"
   ]
  },
  {
   "cell_type": "markdown",
   "metadata": {},
   "source": [
    "Pour $n \\in \\N$, prouvez les affirmations suivantes en exhibant une constante $C$ (ou des constantes $C_1$ et $C_2$) et un rang $N$ appropriés:\n",
    "\n",
    "1. $2n + 100 = \\Theta(n)$\n",
    "\n",
    "2. $an + b = \\Theta(n)$ pour $a, b$ des réels strictement positifs\n",
    "\n",
    "3. $100n\\sqrt{n} = \\mathcal{O}(n^2)$.\n",
    "     "
   ]
  },
  {
   "cell_type": "markdown",
   "metadata": {},
   "source": [
    "***"
   ]
  },
  {
   "cell_type": "markdown",
   "metadata": {
    "deletable": false,
    "editable": false,
    "run_control": {
     "frozen": true
    }
   },
   "source": [
    "## Exercice 3 : Notation de Landau"
   ]
  },
  {
   "cell_type": "markdown",
   "metadata": {},
   "source": [
    "1. Soit $n \\in \\N$, et $f, g, h$ des fonctions positives de $n$ telles que $f = \\mathcal{O}(g)$ et $g = \\mathcal{O}(h)$. Prouvez que $f = \\mathcal{O}(h)$.\n",
    "\n",
    "2. Soient $T'(n)$ et $T''(n)$ les temps de parcours respectifs des algorithmes `max_somme` et `max_somme_lineaire` tels qu'ils ont été définis au cours. Déduisez du point 1. que $T''(n) = \\mathcal{O}(T'(n))$."
   ]
  },
  {
   "cell_type": "markdown",
   "metadata": {},
   "source": [
    "***"
   ]
  },
  {
   "cell_type": "markdown",
   "metadata": {},
   "source": [
    "## Exercice 4 : révision d'algorithme"
   ]
  },
  {
   "cell_type": "markdown",
   "metadata": {},
   "source": [
    "Reprenons l'exercice 5 de la série 3. Le point 1. est optionnel, mais peut être utile pour vous rafraichir la mémoire!"
   ]
  },
  {
   "attachments": {
    "image-2.png": {
     "image/png": "[encoded data removed]"
    },
    "image.png": {
     "image/png": "[encoded data removed]"
    }
   },
   "cell_type": "markdown",
   "metadata": {},
   "source": [
    "1. Donnez un algorithme `carre` qui prend un entier positif $n$ en entrée et affiche un carré de côté $n$. Par exemple, l'appel   `carre(5)` doit afficher:\n",
    "\n",
    "    ![image-2.png](attachment:image-2.png)\n",
    "\t\t\t\t\t\t\t\n",
    "L'espaçage entre les astérisques n'est pas important.\n",
    "\n",
    "2. Combien d'astérisques est-ce que votre code affiche, pour l'entrée $n$?\n",
    "\n",
    "3. Donnez, en notation $\\Theta(\\cdot)$, l'ordre de croissance du temps de parcours de votre algorithme en fonction de $n$.\n",
    "\n",
    "<font color=grey>**Remarque**: si votre algorithme contient des instructions de la forme `print(\"*\" * i)`,  sachez qu'une telle instruction ne prend pas temps constant! En effet la création et le stockage en mémoire d'une chaîne de caractère de taille $n$ prendra un temps (et un espace en mémoire) au moins linéaire en $n$.\n",
    "\n",
    "Un algorithme contenant deux boucles `for` imbriquées prendra le même temps de parcours mais ce temps de parcours sera plus facile à analyser.</font>\n",
    "\n",
    "4. Donnez un algorithme `triangle` qui prend un entier positif $n$ en entrée et affiche un triangle de côté $n$ de la forme ci-dessous (dans ce cas, ce triangle a été affiché par `triangle(5)`):\n",
    "\t\n",
    "\t![image.png](attachment:image.png)\n",
    "\t\n",
    "\tPuis répondez aux mêmes questions 2. et 3. pour l'algorithme `triangle`."
   ]
  },
  {
   "cell_type": "code",
   "execution_count": null,
   "metadata": {},
   "outputs": [],
   "source": [
    "# Réponse au point 1.\n"
   ]
  },
  {
   "cell_type": "code",
   "execution_count": null,
   "metadata": {},
   "outputs": [],
   "source": [
    "# Réponse au point 4\n"
   ]
  },
  {
   "cell_type": "markdown",
   "metadata": {},
   "source": [
    "***"
   ]
  },
  {
   "cell_type": "markdown",
   "metadata": {
    "deletable": false,
    "editable": false,
    "run_control": {
     "frozen": true
    }
   },
   "source": [
    "## Exercice 5 : Maximum d'une liste"
   ]
  },
  {
   "cell_type": "markdown",
   "metadata": {},
   "source": [
    "Soit `L` une liste de $n \\geq 3$ nombres. On s'intéresse à la plus grande somme de trois éléments distincts de la liste, c'est-à-dire au maximum de la valeur de `L[i] + L[j] + L[k]`, pour `i, j, k` des indices de `L` distincts deux à deux. \n",
    "\n",
    "1. Modifiez chacun des algorithmes `max_somme` et `max_somme_lineaire` vus en cours pour calculer le maximum demandé. Vous devrez réutiliser l'agorithme `max_liste` vu en cours\n",
    "\n",
    "2. Utilisez le module `time` comme vu en cours pour mesurer le temps de parcours de chacun de vos algorithmes sur une liste de nombre aléatoires dont vous ferez varier la taille. Est-ce que c'est soutenable de donner une liste de taille $1000$ à ces deux algorithmes? Une liste de taille $10'000$?\n",
    "\t\n",
    "3. Donnez, en notation $\\Theta(\\cdot)$, l'ordre de croissance du temps de parcours de chacun des deux algorithmes en fonction de la taille de l'entrée.\n",
    "\t\n",
    "<font color=grey>**Indication**: vous pouvez utiliser les identités $$\\sum_{k=1}^n k = \\frac{n(n+1)}{2}$$ et \t$$\\sum_{k=1}^n k^2 = \\frac{n(n+1)(2n+1)}{6}.$$ </font>"
   ]
  },
  {
   "cell_type": "code",
   "execution_count": 2,
   "metadata": {},
   "outputs": [],
   "source": [
    "# Réponse au point 1. \n"
   ]
  },
  {
   "cell_type": "code",
   "execution_count": null,
   "metadata": {},
   "outputs": [],
   "source": [
    "# Réponse au point 2.\n"
   ]
  },
  {
   "cell_type": "markdown",
   "metadata": {},
   "source": [
    "***"
   ]
  },
  {
   "cell_type": "markdown",
   "metadata": {},
   "source": [
    "## Exercice 6"
   ]
  },
  {
   "cell_type": "markdown",
   "metadata": {},
   "source": [
    "<font color=greblueen> Chaque semaine, je vous propose un exercice sans corrigé détaillé mais en vous indiquant la réponse finale. Ce sera donc à vous de faire l'effort de résoudre ce problème à l'aide des ressources à disposition : vos notes de cours, les forums sur internet ou même ChatGPT du moment que vous faites l'effort de comprendre le code que vous fournit ce Chatbot! </font>"
   ]
  },
  {
   "cell_type": "markdown",
   "metadata": {},
   "source": [
    "Cette semaine, nous n'aurons pas d'exercice supplémentaire mais je vous lance quelques pistes de réflexion pour anticiper le cours suivant.\n",
    "\n",
    "Saurez vous estimer le comportement asymptotique du temps de parcours des méthodes suivantes? N'hésitez pas à représenter graphiquement le temps de parcours $T(n)$ en fonction de la taille de la liste en entrée !\n",
    "- `pop()` (sans argument)\n",
    "- `pop(i)` (avec argument)\n",
    "- `append()`\n",
    "- `insert(i, x)`\n",
    "- `x in L` (chercher si un élément apparait dans une liste)\n",
    "- `len(L)`"
   ]
  },
  {
   "cell_type": "code",
   "execution_count": null,
   "metadata": {},
   "outputs": [],
   "source": [
    "def mymin(L):\n",
    "    m = float('inf')\n",
    "    for i in L:\n",
    "        if i < m:\n",
    "            m = i\n",
    "    return m\n",
    "\n",
    "L = [5,3,6,7,4,6,7,5]\n",
    "print(mymin(L))\n"
   ]
  },
  {
   "cell_type": "code",
   "execution_count": null,
   "metadata": {},
   "outputs": [],
   "source": [
    "def find_min(L):\n",
    "    m = []\n",
    "    for i in range(len(L)):\n",
    "        m.append(mymin(L[i:]))\n",
    "    return m \n",
    "        \n",
    "L = [5,3,6,7,4,6,7,5]\n",
    "print(find_min(L))\n",
    "        "
   ]
  },
  {
   "cell_type": "code",
   "execution_count": null,
   "metadata": {},
   "outputs": [],
   "source": [
    "def decomposition(N):\n",
    "    co = 0\n",
    "    x = N/2\n",
    "    while x >=1:\n",
    "        co +=1\n",
    "        x /= 2\n",
    "    reste = N-2**co\n",
    "    return co, reste\n",
    "\n",
    "out = decomposition(10)\n",
    "print(out)"
   ]
  }
 ],
 "metadata": {
  "celltoolbar": "Format de la Cellule Texte Brut",
  "kernelspec": {
   "display_name": "Python 3 (ipykernel)",
   "language": "python",
   "name": "python3"
  },
  "language_info": {
   "codemirror_mode": {
    "name": "ipython",
    "version": 3
   },
   "file_extension": ".py",
   "mimetype": "text/x-python",
   "name": "python",
   "nbconvert_exporter": "python",
   "pygments_lexer": "ipython3",
   "version": "3.13.0"
  },
  "latex_envs": {
   "LaTeX_envs_menu_present": true,
   "autoclose": false,
   "autocomplete": true,
   "bibliofile": "biblio.bib",
   "cite_by": "apalike",
   "current_citInitial": 1,
   "eqLabelWithNumbers": true,
   "eqNumInitial": 1,
   "hotkeys": {
    "equation": "Ctrl-E",
    "itemize": "Ctrl-I"
   },
   "labels_anchors": false,
   "latex_user_defs": false,
   "report_style_numbering": false,
   "user_envs_cfg": false
  }
 },
 "nbformat": 4,
 "nbformat_minor": 4
}
