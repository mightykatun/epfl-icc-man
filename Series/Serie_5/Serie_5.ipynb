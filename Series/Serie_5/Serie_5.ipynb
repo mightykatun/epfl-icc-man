{
 "cells": [
  {
   "cell_type": "markdown",
   "id": "e121f822",
   "metadata": {},
   "source": [
    "# ICS - Travaux Pratiques 5\n",
    "\n",
    "29.03.25\n",
    "\n",
    "\n",
    "<font color=grey>_Ce 5e TP se concentre sur les opérations élémentaires effectuées sur les autres structures complexes que nous avons vue dans ce cours : les tuples et les dictionnaires. Bien entendu, il reprend également certains éléments des cours précédents, dont les fonctions et les boucles. Il permet également d'entraîner votre logique à l'aide de petits programmes de plus en plus complexes._\n",
    "\n",
    "\n",
    "_Note : ne vous sentez pas obligé.e.s de finir la série pendant la séance! Celle-ci est conçue de manière à ce que vous gardiez certains exercices pour vos révisions._ </font>"
   ]
  },
  {
   "cell_type": "markdown",
   "id": "403448bf",
   "metadata": {},
   "source": [
    "***"
   ]
  },
  {
   "cell_type": "markdown",
   "id": "bb279251",
   "metadata": {},
   "source": [
    "## Exercice 1 : qu'affichent les programmes suivants\n",
    "\n"
   ]
  },
  {
   "cell_type": "markdown",
   "id": "8eb1efaf",
   "metadata": {},
   "source": [
    "Essayez de prédire la sortie de programmes ci-dessous. N'hésitez pas à changer les valeurs et tester différents paramètres ! "
   ]
  },
  {
   "cell_type": "code",
   "execution_count": 1,
   "id": "7d576674",
   "metadata": {},
   "outputs": [
    {
     "name": "stdout",
     "output_type": "stream",
     "text": [
      "{1: 2, 3: 4}\n",
      "(1, 3)\n",
      "[1, 3]\n"
     ]
    }
   ],
   "source": [
    "t = ((1, 2), (3, 4))\n",
    "d = dict(t)\n",
    "print(d)\n",
    "t1 = tuple(d)\n",
    "print(t1)\n",
    "L1 = list(d)\n",
    "print(L1)"
   ]
  },
  {
   "cell_type": "code",
   "execution_count": 4,
   "id": "3a8ca6bd",
   "metadata": {},
   "outputs": [
    {
     "name": "stdout",
     "output_type": "stream",
     "text": [
      "('a', 'b', 'c', 'd')\n"
     ]
    }
   ],
   "source": [
    "t1 = (\"a\", \"b\")\n",
    "t2 = (\"c\", \"d\")\n",
    "t = t1 + t2\n",
    "print(t)"
   ]
  },
  {
   "cell_type": "code",
   "execution_count": 3,
   "id": "d63048e3",
   "metadata": {},
   "outputs": [
    {
     "name": "stdout",
     "output_type": "stream",
     "text": [
      "138830094822016\n",
      "138830054694080\n",
      "138830094717936\n",
      "('a', 'b', 'c', 'd')\n"
     ]
    }
   ],
   "source": [
    "# pourquoi est-ce que le résultat ne contredit pas le fait que les tuple sont immutables?\n",
    "t1 = (\"a\", \"b\")\n",
    "print(id(t1))\n",
    "t2 = (\"c\", \"d\")\n",
    "print(id(t2))\n",
    "t1 = t1 + t2\n",
    "print(id(t1))\n",
    "print(t1)\n",
    "# Conseil : afficher les id de chaque variable !"
   ]
  },
  {
   "cell_type": "code",
   "execution_count": 7,
   "id": "835214f2",
   "metadata": {},
   "outputs": [
    {
     "name": "stdout",
     "output_type": "stream",
     "text": [
      "salut\n"
     ]
    },
    {
     "ename": "AttributeError",
     "evalue": "'tuple' object has no attribute 'append'",
     "output_type": "error",
     "traceback": [
      "\u001b[0;31m---------------------------------------------------------------------------\u001b[0m",
      "\u001b[0;31mAttributeError\u001b[0m                            Traceback (most recent call last)",
      "Cell \u001b[0;32mIn[7], line 3\u001b[0m\n\u001b[1;32m      1\u001b[0m mon_tuple \u001b[38;5;241m=\u001b[39m (\u001b[38;5;124m\"\u001b[39m\u001b[38;5;124msalut\u001b[39m\u001b[38;5;124m\"\u001b[39m,)\n\u001b[1;32m      2\u001b[0m \u001b[38;5;28mprint\u001b[39m(mon_tuple[\u001b[38;5;241m0\u001b[39m])\n\u001b[0;32m----> 3\u001b[0m \u001b[43mmon_tuple\u001b[49m\u001b[38;5;241;43m.\u001b[39;49m\u001b[43mappend\u001b[49m(\u001b[38;5;124m\"\u001b[39m\u001b[38;5;124mtoi\u001b[39m\u001b[38;5;124m\"\u001b[39m)\n",
      "\u001b[0;31mAttributeError\u001b[0m: 'tuple' object has no attribute 'append'"
     ]
    }
   ],
   "source": [
    "mon_tuple = (\"salut\",)\n",
    "print(mon_tuple[0])\n",
    "mon_tuple.append(\"toi\")"
   ]
  },
  {
   "cell_type": "code",
   "execution_count": 8,
   "id": "99adeda8",
   "metadata": {},
   "outputs": [
    {
     "name": "stdout",
     "output_type": "stream",
     "text": [
      "s\n"
     ]
    }
   ],
   "source": [
    "mon_tuple = (\"salut\")\n",
    "print(mon_tuple[0])"
   ]
  },
  {
   "cell_type": "code",
   "execution_count": 10,
   "id": "d1ec9a8d",
   "metadata": {},
   "outputs": [
    {
     "name": "stdout",
     "output_type": "stream",
     "text": [
      "{10: [], 14: [3], 18: [], 22: []}\n",
      "{10: [3], 14: [3], 18: [3], 22: [3]}\n",
      "138829922323456 138829922323520 138829922322624 138829922226176\n",
      "138829922323200 138829922323200 138829922323200 138829922323200\n"
     ]
    }
   ],
   "source": [
    "d1 = {i:[] for i in range(10, 25, 4)}\n",
    "d1[14].append(3)\n",
    "print(d1)\n",
    "\n",
    "# attention à la mutabilité!\n",
    "L = []\n",
    "d2 = {i:L for i in range(10, 25, 4)}\n",
    "d2[14].append(3)\n",
    "print(d2)\n",
    "\n",
    "# dans le premier cas, quatre objets \"liste vide\" sont créés. \n",
    "# dans le deuxième cas, un seul objet \"liste vide\" est créé\n",
    "# décommentez les lignes ci-dessous:\n",
    "\n",
    "print(id(d1[10]), id(d1[14]), id(d1[18]), id(d1[22]))\n",
    "print(id(d2[10]), id(d2[14]), id(d2[18]), id(d2[22]))"
   ]
  },
  {
   "cell_type": "code",
   "execution_count": 11,
   "id": "97f33758",
   "metadata": {},
   "outputs": [
    {
     "name": "stdout",
     "output_type": "stream",
     "text": [
      "(6, 10) <class 'tuple'>\n",
      "6 10\n"
     ]
    }
   ],
   "source": [
    "def aire_perim_rect(x, y):\n",
    "    return x*y, 2*x + 2*y\n",
    "\n",
    "w = aire_perim_rect(2, 3)\n",
    "print(w, type(w))\n",
    "a, p = w\n",
    "print(a, p)"
   ]
  },
  {
   "cell_type": "code",
   "execution_count": 12,
   "id": "ab657709",
   "metadata": {},
   "outputs": [
    {
     "name": "stdout",
     "output_type": "stream",
     "text": [
      "{10: 'a', 20: 'd', 30: 'd', 40: 'd'}\n"
     ]
    }
   ],
   "source": [
    "d = {10:\"a\", 20:\"b\", 30:\"c\"}\n",
    "for i in range(20, 50, 10):\n",
    "    d[i] = \"d\"\n",
    "print(d)"
   ]
  },
  {
   "cell_type": "code",
   "execution_count": 13,
   "id": "fe6c24aa",
   "metadata": {},
   "outputs": [
    {
     "name": "stdout",
     "output_type": "stream",
     "text": [
      "[4, 4.5, 3.5, 5, 5.5, 4.5]\n",
      "[4, 4.5, 3.5, 5, 5.5, 4.5]\n",
      "None\n",
      "4.5\n"
     ]
    }
   ],
   "source": [
    "d = {\"nom\": \"Hercule Poirot\", \"section\": \"MAN\", \"notes\":[4, 4.5, 3.5]}\n",
    "\n",
    "d[\"notes\"].extend([5, 5.5, 4.5])\n",
    "print(d[\"notes\"])\n",
    "print(d.get(\"notes\"))\n",
    "print(d.get(\"adresse\"))\n",
    "\n",
    "s = 0\n",
    "for x in d[\"notes\"]:\n",
    "    s += x\n",
    "print(s/6)"
   ]
  },
  {
   "cell_type": "code",
   "execution_count": 14,
   "id": "eb8b8669",
   "metadata": {},
   "outputs": [
    {
     "name": "stdout",
     "output_type": "stream",
     "text": [
      "x 23\n",
      "y 23\n",
      "z 54\n",
      "\n",
      "x 23\n",
      "y 23\n",
      "z 54\n",
      "\n",
      "23\n",
      "23\n",
      "54\n",
      "\n",
      "x 23\n",
      "y 23\n",
      "z 54\n",
      "\n",
      "x 23\n",
      "y 23\n",
      "x 23\n",
      "y 23\n",
      "z 54\n"
     ]
    }
   ],
   "source": [
    "d = {\"x\": 23, \"y\": 23, \"z\": 54}\n",
    "\n",
    "for c in d:\n",
    "    print(c, d[c])\n",
    "    \n",
    "print()\n",
    "for c in d.keys():\n",
    "    print(c, d[c])\n",
    "    \n",
    "print()\n",
    "for v in d.values():\n",
    "    print(v)\n",
    "    \n",
    "print()\n",
    "for c, v in d.items():\n",
    "    print(c, v)\n",
    "    \n",
    "print()\n",
    "for v in d.values():\n",
    "    for c in d:\n",
    "        if d[c] == v:\n",
    "            print(c, v)"
   ]
  },
  {
   "cell_type": "code",
   "execution_count": 15,
   "id": "5c0f4f4d",
   "metadata": {},
   "outputs": [
    {
     "name": "stdout",
     "output_type": "stream",
     "text": [
      "{1: -1, 9: -3, 25: -5, 49: -7, 81: -9}\n",
      "{1: 1, 3: 3, 5: 5, 7: 7}\n",
      "{1: 3, 3: 5, 5: 7}\n",
      "{10: 20, 14: 28, 22: 44, 26: 52}\n"
     ]
    }
   ],
   "source": [
    "d1 = {x**2:x for x in range(-1, -10, -2)}\n",
    "print(d1)\n",
    "\n",
    "t = (1, 3, 5, 7)\n",
    "d2 = {t[i]:t[i] for i in range(len(t))}\n",
    "print(d2)\n",
    "\n",
    "d3 = {t[i]:t[i+1] for i in range(len(t)-1)}\n",
    "print(d3)\n",
    "\n",
    "L = [10, 23, 14, 22, 19, 26]\n",
    "d4 = {i:2*i for i in L if i % 2 == 0}\n",
    "print(d4)"
   ]
  },
  {
   "cell_type": "code",
   "execution_count": 17,
   "id": "b5f4715e",
   "metadata": {},
   "outputs": [
    {
     "name": "stdout",
     "output_type": "stream",
     "text": [
      "on insère h:h\n",
      "on insère h:a\n",
      "on insère i:h\n",
      "on insère i:a\n",
      "{'h': 'a', 'i': 'a'}\n",
      "{'h': 'a', 'i': 'a'}\n"
     ]
    }
   ],
   "source": [
    "d = {}\n",
    "for x in \"hi\":\n",
    "    for y in \"ha\":\n",
    "        print(f\"on insère {x}:{y}\")\n",
    "        d[x] = y\n",
    "        \n",
    "print(d)\n",
    "\n",
    "d2 = {x:y for x in \"hi\" for y in \"ha\"}\n",
    "\n",
    "print(d2)"
   ]
  },
  {
   "cell_type": "markdown",
   "id": "4fe2b186",
   "metadata": {},
   "source": [
    "***"
   ]
  },
  {
   "cell_type": "markdown",
   "id": "3239264a",
   "metadata": {},
   "source": [
    "## Exercice 2"
   ]
  },
  {
   "cell_type": "markdown",
   "id": "0863b44c",
   "metadata": {},
   "source": [
    "\n",
    "Cet exercice a pour but de vous entraîner à faire des manipulations de dictionnaire. Effectuez la suite d'instructions suivantes (en affichant le dictionnaire chaque fois que vous le jugez nécessaire):\n",
    "\n",
    "- Créez un dictionnaire vide `d`.\n",
    "- Insérez dans `d` les paires (clé, valeur) suivantes: (\"arbre\":0), (\"pomme\":1), (\"avion\":2), (\"lune\":3), (\"mer\":4), (\"oiseau\":5).\n",
    "- Remplacez la valeur associée à la clé \"pomme\" par 10 et la valeur associée à la clé \"avion\" par 20.\n",
    "- Affichez toutes les valeurs du dictionnaire.\n",
    "- Supprimez du dictionnaire l'entrée dont la clé vaut \"pomme\".\n",
    "- Créez un dictionnaire `d1` qui contient les entrées de `d` dont la clé commence par \"a\" (d'une manière qui marcherait aussi si le dictionnaire contenait des milliers d'entrées dont les clés sont toutes des chaînes de caractères)\n",
    "- Affichez toutes les clés de `d` associées à une valeur paire (d'une manière qui marcherait aussi si le dictionnaire contenait des milliers d'entrées dont les valeurs sont toutes des entiers)."
   ]
  },
  {
   "cell_type": "code",
   "execution_count": 27,
   "id": "9ced999d",
   "metadata": {},
   "outputs": [
    {
     "name": "stdout",
     "output_type": "stream",
     "text": [
      "{'arbre': 0, 'pomme': 1, 'avion': 2, 'lune': 3, 'mer': 4, 'oiseau': 5}\n",
      "{'arbre': 0, 'pomme': 10, 'avion': 20, 'lune': 3, 'mer': 4, 'oiseau': 5}\n",
      "0 10 20 3 4 5\n",
      "{'arbre': 0, 'avion': 20, 'lune': 3, 'mer': 4, 'oiseau': 5}\n",
      "{'arbre': 0, 'avion': 20}\n",
      "arbre avion mer\n"
     ]
    }
   ],
   "source": [
    "d = {}\n",
    "\n",
    "keys = [\"arbre\", \"pomme\", \"avion\", \"lune\", \"mer\", \"oiseau\"]\n",
    "d = {i:j for j, i in enumerate(keys)}\n",
    "print(d)\n",
    "\n",
    "d[\"pomme\"] = 10\n",
    "d[\"avion\"] = 20\n",
    "print(d)\n",
    "\n",
    "print(*d.values())\n",
    "\n",
    "del d[\"pomme\"]\n",
    "print(d)\n",
    "\n",
    "d1 = {i:j for i, j in d.items() if i[0] == \"a\"}\n",
    "print(d1)\n",
    "\n",
    "print(*[i for i, j in d.items() if j%2 == 0])"
   ]
  },
  {
   "cell_type": "markdown",
   "id": "8c52d851",
   "metadata": {},
   "source": [
    "---"
   ]
  },
  {
   "cell_type": "markdown",
   "id": "93af5ad4",
   "metadata": {},
   "source": [
    "## Exercice 3"
   ]
  },
  {
   "cell_type": "markdown",
   "id": "bccc3cdd",
   "metadata": {},
   "source": [
    "**(a)** On veut écrire une fonction qui prend en entrée un dictionnaire `d` dont les valeurs sont numériques, et retourne la clé associée à la valeur maximale (si plusieurs clés sont associées à la valeur maximale, vous pouvez retourner n'importe laquelle de ces clés). Si le dictionnaire est vide, votre fonction doit retourner `None`. \n",
    "Ecrivez deux versions de la fonction:\n",
    "1. en utilisant la fonction `max()`\n",
    "2. sans utiliser la fonction `max()`."
   ]
  },
  {
   "cell_type": "code",
   "execution_count": 6,
   "id": "ac523dc6",
   "metadata": {},
   "outputs": [
    {
     "name": "stdout",
     "output_type": "stream",
     "text": [
      "['c', 'e']\n",
      "['c', 'e']\n"
     ]
    }
   ],
   "source": [
    "d = {\"a\": 2, \"b\": 10, \"c\": 69, \"d\": 5, \"e\": 69}\n",
    "max_with_max = lambda d: None if d == {} else list(filter(lambda key: d[key] == max(d.values()), d))\n",
    "max_no_max = lambda d: None if d == {} else list(filter(lambda key: d[key] ==  int([i for i in d.values() if all(j <= i for j in d.values())][0]), d))\n",
    "\n",
    "print(max_with_max(d))\n",
    "print(max_no_max(d))\n"
   ]
  },
  {
   "cell_type": "markdown",
   "id": "277ec192",
   "metadata": {},
   "source": [
    "\n",
    "**(b)** Ecrivez une fonction qui prend en entrée un dictionnaire `d` dont les valeurs sont numériques, et retourne la somme des valeurs du dictionnaire. Si le dictionnaire est vide, votre fonction doit retourner 0.\n"
   ]
  },
  {
   "cell_type": "code",
   "execution_count": 11,
   "id": "e4ee915c",
   "metadata": {},
   "outputs": [
    {
     "name": "stdout",
     "output_type": "stream",
     "text": [
      "155\n"
     ]
    }
   ],
   "source": [
    "# Réponse au point (b)\n",
    "sum_dict = lambda d: None if d == {} else ([s := 0] + [s := s + i for i in d.values()])[-1]\n",
    "\n",
    "print(sum_dict(d))"
   ]
  },
  {
   "cell_type": "markdown",
   "id": "5b5f5ae7",
   "metadata": {},
   "source": [
    "***"
   ]
  },
  {
   "cell_type": "markdown",
   "id": "f0ecec88",
   "metadata": {},
   "source": [
    "## Exercice 4"
   ]
  },
  {
   "cell_type": "markdown",
   "id": "75eb76f0",
   "metadata": {},
   "source": [
    "**(a)** Ecrivez une fonction `dict_inverse` qui prend en entrée un dictionnaire `d` et retourne le dictionnaire dont les clés sont les **valeurs** de `d` et les valeurs associées sont les **clés** de `d`. Vous pouvez supposer que les valeurs du dictionnaire `d` sont uniques.\n",
    "\n",
    "Par exemple, l'appel `dict_inverse({1:\"a\", 2:\"b\"})` doit retourner le dictionnaire `{\"a\":1, \"b\":2})`.\n",
    "\n",
    "Donnez \n",
    "1. Une version de la fonction qui utilise une boucle\n",
    "2. Une version qui utilise la compréhension de dictionnaire."
   ]
  },
  {
   "cell_type": "code",
   "execution_count": 12,
   "id": "2d37d613",
   "metadata": {},
   "outputs": [
    {
     "name": "stdout",
     "output_type": "stream",
     "text": [
      "{'a': 1, 'b': 2}\n"
     ]
    }
   ],
   "source": [
    "# Réponse au point (a)\n",
    "inverse_d = lambda d: {j: i for i, j in d.items()}\n",
    "\n",
    "print(inverse_d({1:\"a\", 2:\"b\"}))\n",
    "# et avec une compréhension de dictionnaire\n",
    "\n"
   ]
  },
  {
   "cell_type": "markdown",
   "id": "e3d63c1b",
   "metadata": {},
   "source": [
    "**(b)** Ecrivez une fonction `dict_inverse_list` qui prend en entrée un dictionnaire `d` dont les valeurs ne sont pas nécessairement uniques, et retourne le dictionnaire dont les clés sont les valeurs de `d`, et les valeurs associées sont les **listes** des clés de `d` correspondantes.\n",
    "\n",
    "Par exemple, l'appel `dict_inverse({1:\"a\", 2:\"b\", 3:\"a\", 4:\"c\"})` doit retourner le dictionnaire `{\"a\":[1, 3], \"b\":[2], \"c\":[4]})`."
   ]
  },
  {
   "cell_type": "code",
   "execution_count": 22,
   "id": "7b2ec713",
   "metadata": {},
   "outputs": [
    {
     "name": "stdout",
     "output_type": "stream",
     "text": [
      "{'a': [1, 3], 'b': [2], 'c': [4]}\n"
     ]
    }
   ],
   "source": [
    "# Réponse au point (b)\n",
    "inverse_d_list = lambda d: {i: [j for j, k in d.items() if k == i] for i in d.values()}\n",
    "\n",
    "\n",
    "print(inverse_d_list({1:\"a\", 2:\"b\", 3:\"a\", 4:\"c\"}))\n"
   ]
  },
  {
   "cell_type": "markdown",
   "id": "ffdd3fb0",
   "metadata": {},
   "source": [
    "***"
   ]
  },
  {
   "cell_type": "markdown",
   "id": "dc1358bc",
   "metadata": {},
   "source": [
    "## Exercice 5\n"
   ]
  },
  {
   "cell_type": "markdown",
   "id": "1214bd1c",
   "metadata": {},
   "source": [
    "**(a)** Ecrivez une fonction `dict_occurrences` qui prend en entrée une liste `L` de nombres, et retourne le dictionnaire dont les clés sont les éléments de `L`, et la valeur associée à chaque clé `x` est le nombre de fois où `x` apparaît dans `L`."
   ]
  },
  {
   "cell_type": "code",
   "execution_count": 24,
   "id": "e4f0a88a",
   "metadata": {},
   "outputs": [
    {
     "name": "stdout",
     "output_type": "stream",
     "text": [
      "{1: 2, 3: 2, 5: 2, 6: 1, 7: 2, 4: 1, 8: 1}\n"
     ]
    }
   ],
   "source": [
    "# Réponse au point (a\n",
    "occ = lambda l: {i: l.count(i) for i in l}\n",
    "\n",
    "print(occ([1, 3, 5, 6, 7, 3, 1, 4, 5, 8, 7]))"
   ]
  },
  {
   "cell_type": "markdown",
   "id": "5fa37987",
   "metadata": {},
   "source": [
    "\n",
    "**(b)** La fonction `randint` du module `random` permet de générer un nombre aléatoire: ` randint(a, b)` retourne un nombre aléatoire entre `a` et `b` inclus.\n",
    "\n",
    "Ecrivez une fonction qui \n",
    "- prend en entrée des paramètres entiers n, m\n",
    "- utilise la fonction `randint` pour générer une liste `L` de n nombres aléatoires entre 1 et m\n",
    "- passe `L` à `dict_occurrences` et récupère le dictionnaire `d` retourné\n",
    "- retourne le nombre d'éléments de d qui ont une valeur plus grande que 1.\n",
    "\n",
    "Testez votre code pour plusieurs choix des paramètres n et m (par exemple, n = 1000 et m = 10000; n = 10000 et m = 1000, n = m = 1000...) Pour chaque choix de n et m, lancez le code plusieurs fois et observez les résultats."
   ]
  },
  {
   "cell_type": "code",
   "execution_count": 49,
   "id": "2577f17e",
   "metadata": {},
   "outputs": [
    {
     "name": "stdout",
     "output_type": "stream",
     "text": [
      "1\n"
     ]
    }
   ],
   "source": [
    "# Réponse au point (b)\n",
    "from random import randint\n",
    "\n",
    "n = 4\n",
    "m = 5\n",
    "\n",
    "funct = lambda m, n: len(list(filter(lambda t: t[1] > 1, tuple(occ([randint(1, m) for _ in range(n)]).items()))))\n",
    "\n",
    "print(funct(4, 5))"
   ]
  },
  {
   "cell_type": "markdown",
   "id": "9fac0bf0",
   "metadata": {},
   "source": [
    "***"
   ]
  },
  {
   "cell_type": "markdown",
   "id": "0bcc9771",
   "metadata": {},
   "source": [
    "## Exercice 6"
   ]
  },
  {
   "cell_type": "markdown",
   "id": "c4289332",
   "metadata": {},
   "source": [
    "Alice est responsable de la base de données des étudiants du CMS et maintient toutes les données des étudiants 2023-2024 sous forme d'une liste Python `CMS_list`. Chaque indice de cette liste contient une liste contenant toutes les information d'un étudiant spécifique:\n",
    "\n",
    "- indice 0: son numéro sciper\n",
    "- indice 1: son nom\n",
    "- indice 2: son prénom\n",
    "- indice 3: un tuple (année, mois, jour) contenant sa date de naissance \n",
    "- indice 4: sa future section EPFL\n",
    "- indice 5: une liste de tuples (matière, note) contenant ses notes au contrôle 1.\n",
    "\n",
    "Alice vient d'étudier les dictionnaires Python et veut remplacer sa liste `CMS_list` par un dictionnaire `CMS_dict` dont les clés sont les numéros sciper des étudiants, et les valeurs sont des dictionnaires contenant les informations de chaque étudiant.\n",
    "\n",
    "Par exemple, si \n",
    "\n",
    "`CMS_list[0] = [123456, \"L'éponge\", \"Bob\", (1986, 07, 14), \"IC\", [(\"An1\", 3.5), (\"An2\", 4.5), (\"AL\", 4), (\"GA\", 4), (\"PH\", 3.5), (\"ICS\", 5)]]`\n",
    "\n",
    "l'entrée correspondante dans `CMS_dict` aura la clé `123456` et la valeur \n",
    "\n",
    "`{\"nom\": \"L'éponge\",` \n",
    "\n",
    "`\"prénom\": \"Bob\", `\n",
    "\n",
    "`\"date_naissance\": {\"an\": 1986, \"mois\": 07, \"jour\":14},`\n",
    "\n",
    "`\"section\": \"IC\", `\n",
    "\n",
    "`\"notes\": {\"An1\": 3.5, \"An2\": 4.5, \"AL\": 4, \"GA\": 4, \"PH\": 3.5, \"ICS\": 5}`\n",
    "\n",
    "`}`\n",
    "\n",
    "Ecrivez un code qui prend la liste `CMS_list` et produit le dictionnaire `CMS_dict`. Testez-la sur une liste contenant plusieurs étudiants."
   ]
  },
  {
   "cell_type": "code",
   "execution_count": 57,
   "id": "90da8a02",
   "metadata": {},
   "outputs": [
    {
     "name": "stdout",
     "output_type": "stream",
     "text": [
      "{123456: {'nom': \"L'éponge\", 'prénom': 'Bob', 'date_naissance': {'an': 1986, 'mois': 7, 'jour': 14}, 'section': 'IC', 'notes': {'An1': 3.5, 'An2': 4.5, 'AL': 4, 'GA': 4, 'PH': 3.5, 'ICS': 5}}, 69: {'nom': \"L'éponge\", 'prénom': 'Bob', 'date_naissance': {'an': 1986, 'mois': 7, 'jour': 14}, 'section': 'IC', 'notes': {'An1': 3.5, 'An2': 4.5, 'AL': 4, 'GA': 4, 'PH': 3.5, 'ICS': 5}}}\n"
     ]
    }
   ],
   "source": [
    "# Votre réponse ici\n",
    "lst_foireuse = [[123456, \"L'éponge\", \"Bob\", (1986, 7, 14), \"IC\", [(\"An1\", 3.5), (\"An2\", 4.5), (\"AL\", 4), (\"GA\", 4), (\"PH\", 3.5), (\"ICS\", 5)]], [69, \"L'éponge\", \"Bob\", (1986, 7, 14), \"IC\", [(\"An1\", 3.5), (\"An2\", 4.5), (\"AL\", 4), (\"GA\", 4), (\"PH\", 3.5), (\"ICS\", 5)]]]\n",
    "\n",
    "converter = lambda lst: {i[0]: {\"nom\": i[1], \"prénom\": i[2], \"date_naissance\": {\"an\": i[3][0], \"mois\": i[3][1], \"jour\": i[3][2]}, \"section\": i[4], \"notes\": {j[0]: j[1] for j in i[5]}} for i in lst}\n",
    "\n",
    "print(converter(lst_foireuse))"
   ]
  },
  {
   "cell_type": "markdown",
   "id": "e731b59b",
   "metadata": {},
   "source": [
    "***"
   ]
  },
  {
   "cell_type": "markdown",
   "id": "d297f4f4",
   "metadata": {},
   "source": [
    "## Exercice 7"
   ]
  },
  {
   "cell_type": "markdown",
   "id": "bc8f7797",
   "metadata": {},
   "source": [
    "**(a)** On se propose d'écrire une fonction qui calcule la moyenne des âges des étudiant.e.s de la classe, sans savoir à l'avance combien il y en a (mais il y en aura au moins un.e). Ecrivez une fonction `moyenne_age` qui prend en entrée un argument obligatoire, suivi d'un nombre variable d'arguments (tous numériques) et qui retourne la moyenne des nombres entrés. Par exemple `moyenne_age(20, 19, 19, 21)` doit retourner `19.75`.\n"
   ]
  },
  {
   "cell_type": "code",
   "execution_count": 58,
   "id": "046f58cf",
   "metadata": {},
   "outputs": [
    {
     "name": "stdout",
     "output_type": "stream",
     "text": [
      "5.5\n"
     ]
    }
   ],
   "source": [
    "# Réponse au point (a)\n",
    "\n",
    "moy = lambda *args: sum(args)/len(args)\n",
    "\n",
    "print(moy(1, 4, 5, 6, 8, 9))"
   ]
  },
  {
   "cell_type": "markdown",
   "id": "92eb0485",
   "metadata": {},
   "source": [
    "**(b)** Maintenant, la fonction doit pouvoir prendre un argument obligatoire, suivi d'un nombre variable d'arguments, suivi d'un nombre variable d'arguments nommés (des paires (prénom, âge)). Par exemple `moyenne_age(20, 19, 19, 21, Alice = 18, Bob = 19)` doit retourner `19.33`."
   ]
  },
  {
   "cell_type": "code",
   "execution_count": 68,
   "id": "7a38f09a",
   "metadata": {},
   "outputs": [
    {
     "name": "stdout",
     "output_type": "stream",
     "text": [
      "19.333333333333332\n"
     ]
    }
   ],
   "source": [
    "# Réponse au point (b)\n",
    "moy = lambda first, *args, **kwargs: sum(lst := [first] + list(args) + list(kwargs.values()))/len(lst)\n",
    "\n",
    "print(moy(20, 19, 19, 21, Alice = 18, Bob = 19))"
   ]
  },
  {
   "cell_type": "markdown",
   "id": "458dd925",
   "metadata": {},
   "source": [
    "***"
   ]
  },
  {
   "cell_type": "markdown",
   "id": "e1826cb9",
   "metadata": {},
   "source": [
    "## Exercice 8"
   ]
  },
  {
   "cell_type": "markdown",
   "id": "bda49379",
   "metadata": {},
   "source": [
    "<font color=greblueen> Chaque semaine, je vous propose un exercice sans corrigé détaillé mais en vous indiquant la réponse finale. Ce sera donc à vous de faire l'effort de résoudre ce problème à l'aide des ressources à disposition : vos notes de cours, les forums sur internet ou même ChatGPT du moment que vous faites l'effort de comprendre le code que vous fournit ce Chatbot! </font>"
   ]
  },
  {
   "cell_type": "markdown",
   "id": "8fa26020",
   "metadata": {},
   "source": [
    "**(a)** Ecrivez une fonction qui prend en entrée deux dictionnaires `d1` et `d2` et retourne un dictionnaire fusionné `d` qui contient tous les éléments de `d1` et `d2`. Si une clé apparaît dans les deux dictionnaires, gardez dans `d` la valeur qui lui est associée dans `d2`.\n",
    "\n",
    "<font color=grey>**Remarque** : Cette fonction simule l'opération d = d1 | d2 en Python. </font>"
   ]
  },
  {
   "cell_type": "code",
   "execution_count": 103,
   "id": "e977cbdb",
   "metadata": {},
   "outputs": [],
   "source": [
    "dict_merge = lambda d1, d2: {i: j for k, (i, j) in enumerate(list(d1.items()) + list(d2.items())) if i not in d1.keys() or k <= len(d1.items())}"
   ]
  },
  {
   "cell_type": "code",
   "execution_count": 104,
   "id": "f2bd7025",
   "metadata": {},
   "outputs": [
    {
     "name": "stdout",
     "output_type": "stream",
     "text": [
      "{'a': 123, 'b': 123, 'c': 456}\n",
      "{'a': 123, 'b': 123, 'c': 456}\n"
     ]
    }
   ],
   "source": [
    "# Vérification\n",
    "d1 = {\"a\":123, \"b\":456}\n",
    "d2 = {\"b\":123, \"c\":456}\n",
    "print(dict_merge(d1, d2))\n",
    "\n",
    "d = d1 | d2\n",
    "print(d)"
   ]
  },
  {
   "cell_type": "markdown",
   "id": "33d25273",
   "metadata": {},
   "source": [
    "\n",
    "**(b)** Même question mais au lieu de produire un nouveau dictionnaire `d`, la fonction doit mettre à jour le dictionnaire `d1` avec les éléments de `d2`. Elle ne retourne rien.\n",
    "\n",
    "<font color=grey>**Remarque** : Cette fonction simule l'opération d1.update(d2) en Python.</font>"
   ]
  },
  {
   "cell_type": "code",
   "execution_count": 109,
   "id": "0d7251d2",
   "metadata": {},
   "outputs": [],
   "source": [
    "#\n",
    "dict_update = lambda d1, d2: {d1.__setitem__(i, j) for k, (i, j) in enumerate(list(d1.items()) + list(d2.items())) if i not in d1.keys() or k <= len(d1.items())}\n",
    "#"
   ]
  },
  {
   "cell_type": "code",
   "execution_count": 110,
   "id": "aeb6516e",
   "metadata": {},
   "outputs": [
    {
     "name": "stdout",
     "output_type": "stream",
     "text": [
      "{'a': 123, 'b': 123, 'c': 456}\n",
      "{'a': 123, 'b': 123, 'c': 456}\n"
     ]
    }
   ],
   "source": [
    "# Vérification\n",
    "d1 = {\"a\":123, \"b\":456}\n",
    "d2 = {\"b\":123, \"c\":456}\n",
    "dict_update(d1, d2)\n",
    "print(d1)\n",
    "\n",
    "d1 = {\"a\":123, \"b\":456}\n",
    "d2 = {\"b\":123, \"c\":456}\n",
    "d1.update(d2)\n",
    "print(d1)"
   ]
  },
  {
   "cell_type": "code",
   "execution_count": null,
   "id": "14a2865d-f4ed-4625-8b2f-2320498918cf",
   "metadata": {},
   "outputs": [],
   "source": []
  }
 ],
 "metadata": {
  "kernelspec": {
   "display_name": "Python 3 (ipykernel)",
   "language": "python",
   "name": "python3"
  },
  "language_info": {
   "codemirror_mode": {
    "name": "ipython",
    "version": 3
   },
   "file_extension": ".py",
   "mimetype": "text/x-python",
   "name": "python",
   "nbconvert_exporter": "python",
   "pygments_lexer": "ipython3",
   "version": "3.13.0"
  }
 },
 "nbformat": 4,
 "nbformat_minor": 5
}
