{
 "cells": [
  {
   "cell_type": "markdown",
   "metadata": {
    "deletable": false,
    "editable": false,
    "run_control": {
     "frozen": true
    }
   },
   "source": [
    "\n",
    "# ICS - Travaux Pratiques 9\n",
    "\n",
    "30.04.25\n",
    "\n",
    "\n",
    "<font color=grey>_Ce 9e TP se concentre sur les différents algorithmes de recherche et de tri que nous avons vus en cours. Nous en profiterons pour aborder d'autres algorithmes similaire, ou de créer nos propres algorithmes sur la base d'instructions. Bien que cette série soit sous forme de Jupyter Notebook, vous devrez résoudre une partie des exercices sur papier._ \n",
    "\n",
    "_Note : ne vous sentez pas obligé.e.s de finir la série pendant la séance! Celle-ci est conçue de manière à ce que vous gardiez certains exercices pour vos révisions._ </font>"
   ]
  },
  {
   "cell_type": "markdown",
   "metadata": {},
   "source": [
    "***"
   ]
  },
  {
   "cell_type": "markdown",
   "metadata": {},
   "source": [
    "## Exercice 0 : Echauffement"
   ]
  },
  {
   "cell_type": "markdown",
   "metadata": {},
   "source": [
    "Ordonner (sans justification) les fonctions suivantes par ordre de croissance, en\n",
    "groupant ensemble les fonctions qui ont le même ordre de croissance. Vous pouvez\n",
    "vérifier vos réponses en dessinant le graphes de ces fonctions à l'aide du module\n",
    "`matplotlib` comme au TP précédent.\n",
    "\n",
    "$$n \\log_2 (n), \\; (\\log_2(n))^2, \\; n, \\; n^2, \\; 2^n, \\; 1000n^{10}, \\; \\sqrt{n}, \\;\n",
    "(\\log_2(n^2)), \\; \\sqrt{n} \\log_2 (n), \\; \\log_2 (n).$$\n",
    "\n",
    "\n",
    "<font color=grey> S'aider des affirmations suivantes :\n",
    "- Si $\\lim_{n \\rightarrow \\infty}\\frac{g(n)}{f(n)} = +\\infty$ alors $f(n) = \\mathcal{O}(g(n))$ \n",
    "- Si $\\lim_{n \\rightarrow \\infty}\\frac{f(n)}{g(n)} = 0$ alors  $f(n) = \\mathcal{O}(g(n))$\n",
    "</font>"
   ]
  },
  {
   "cell_type": "markdown",
   "metadata": {},
   "source": [
    "***"
   ]
  },
  {
   "cell_type": "markdown",
   "metadata": {
    "deletable": false,
    "editable": false,
    "run_control": {
     "frozen": true
    }
   },
   "source": [
    "## Exercice 1 : Recherche de la première occurence d'un nombre"
   ]
  },
  {
   "cell_type": "markdown",
   "metadata": {},
   "source": [
    "On se propose d'écrire un algorithme qui prend en entrée une liste de nombres `L` **triée** et une valeur `x`, et retourne l'indice de la **première occurrence** de `x` dans la liste. Si aucun élément de valeur `x` n'est dans la liste, l'algorithme doit retourner `None`.\n",
    "\n",
    "Par exemple, pour la liste `[10, 20, 20, 20, 20, 30, 30]` et la valeur `20` en entrée, l'algorithme doit retourner l'indice `1` (alors que `recherche_binaire` retournerait l'indice `3`).\n",
    "\n",
    "- Implémentez en Python l'algorithme suivant, qui résoud ce problème:\n",
    "\t- Appeler `recherche_binaire(L, x)`\n",
    "\t- Si cet appel retourne un indice `i`, parcourir `L` en allant à gauche depuis `i` jusqu'à trouver un élément différent de `x` (ou jusqu'à arriver au début de la liste)\n",
    "\t- Retourner l'indice `i` de la première occurrence de `x` dans `L`.\n",
    "    Quel est l'ordre de croissance du temps de parcours de cet algorithme au pire des cas, en fonction de la taille $n$ de la liste `L`?\n",
    "\n",
    "- Donnez un autre algorithme qui résoud le même problème mais dont le temps de parcours au pire des cas est de l'ordre de $\\log_2(n)$. <font color=grey> Pour cela, aidez-vous de la structure de l'algorithme de recherche binaire. Comment être sûr.e que le nombre trouvé est le premier nombre de la liste?</font>\n",
    "- Utilisez la librarie `Matplotlib` pour comparer le temps de parcours de vos deux algorithmes sur des listes de taille $n$, pour $n$ de plus en plus grand. Vous pouvez utiliser des listes qui contiennent une même valeur répétée $n$ fois et rechercher la première occurrence de cette valeur (qui devrait être à l'indice `0`)."
   ]
  },
  {
   "cell_type": "code",
   "execution_count": null,
   "metadata": {},
   "outputs": [],
   "source": [
    "# Réponse au point 1.\n"
   ]
  },
  {
   "cell_type": "code",
   "execution_count": null,
   "metadata": {},
   "outputs": [],
   "source": [
    "# Réponse au point 2.\n"
   ]
  },
  {
   "cell_type": "code",
   "execution_count": null,
   "metadata": {},
   "outputs": [],
   "source": [
    "# Réponse au point 3.\n"
   ]
  },
  {
   "cell_type": "markdown",
   "metadata": {},
   "source": [
    "***"
   ]
  },
  {
   "cell_type": "markdown",
   "metadata": {
    "deletable": false,
    "editable": false,
    "run_control": {
     "frozen": true
    }
   },
   "source": [
    "## Exercice 2 : Fibonacci"
   ]
  },
  {
   "cell_type": "markdown",
   "metadata": {},
   "source": [
    "En cours, nous avons présenté l'implémentation suivante d'un algorithme calculant le $N^e$ nombre de la suite de Fibonacci. \n"
   ]
  },
  {
   "cell_type": "code",
   "execution_count": null,
   "metadata": {},
   "outputs": [],
   "source": [
    "def fib_rec(n):\n",
    "    if n == 0:\n",
    "        return 0\n",
    "    if n == 1:\n",
    "        return 1\n",
    "    return fib_rec(n-1) + fib_rec(n-2)"
   ]
  },
  {
   "cell_type": "markdown",
   "metadata": {},
   "source": [
    "\n",
    "Cet algorithme ayant un temps de parcours asymptotiquement exponentiel, nous souhaiterions l'améliorer. \n",
    "\n",
    "Réécrire l'algorithme précédent afin que sa complexité devienne linéaire $(\\Theta(n))$.\n",
    "\n",
    "\n",
    "     "
   ]
  },
  {
   "cell_type": "markdown",
   "metadata": {},
   "source": [
    "\n",
    "<font color=grey>Indice : utilisez un algorithme itératif, et non pas récursif ! De quelles éléments de la suite avez-vous besoin pour construire l'élément</font> $f_n$?\n"
   ]
  },
  {
   "cell_type": "code",
   "execution_count": null,
   "metadata": {},
   "outputs": [],
   "source": [
    "# Votre réponse ici"
   ]
  },
  {
   "cell_type": "markdown",
   "metadata": {},
   "source": [
    "***"
   ]
  },
  {
   "cell_type": "markdown",
   "metadata": {
    "deletable": false,
    "editable": false,
    "run_control": {
     "frozen": true
    }
   },
   "source": [
    "## Exercice 3 : compréhension des algorithmes de tri"
   ]
  },
  {
   "cell_type": "markdown",
   "metadata": {},
   "source": [
    "- Simulez à la main le parcours de `tri_par_selection` sur la liste ci-dessous en affichant le contenu de la liste à la fin de chaque itération de la boucle `for` extérieure. Vérifiez votre réponse en  appelant `tri_par_selection` sur la liste en entrée dans la cellule ci-dessous (et en insérant une instruction `print` dans le code).\n",
    "\n",
    "    Essayez d'implémenter l'algorithme sans utiliser vos notes de cours!\n",
    "\t\n",
    "    `[7, 2, 13, -5, -3, 17, 8, 24, -11, 1]`\n",
    "\t\n",
    "- Même question pour `tri_par_insertion`."
   ]
  },
  {
   "cell_type": "code",
   "execution_count": null,
   "metadata": {},
   "outputs": [],
   "source": [
    "# Réponse au point 1.\n"
   ]
  },
  {
   "cell_type": "code",
   "execution_count": null,
   "metadata": {},
   "outputs": [],
   "source": [
    "# Réponse au point 2.\n"
   ]
  },
  {
   "cell_type": "markdown",
   "metadata": {},
   "source": [
    "***"
   ]
  },
  {
   "cell_type": "markdown",
   "metadata": {},
   "source": [
    "## Exercice 4 : tri à bulles"
   ]
  },
  {
   "cell_type": "markdown",
   "metadata": {},
   "source": [
    "Le **tri à bulles** (bubble sort) fonctionne de la manière suivante:\n",
    "\n",
    "Il prend en entrée une liste `L` de taille $n$. Il parcourt la liste $n$ fois. A chaque parcours, dès qu'il rencontre deux éléments adjacents de la liste qui sont dans le mauvais ordre, c'est-à-dire `L[i], L[i+1]` tels que `{L[i] > L[i+1]`, il les échange.\n",
    "\n",
    "On appelle cet algorithme tri à bulles car à chaque parcours de la liste, le plus grand élément (restant) se déplace vers la fin de la liste comme une bulle qui remonte à la surface de l'eau.\n",
    "\n",
    "- Observez une simulation du tri à bulles sur l'un des sites proposés en cours, par exemple https://visualgo.net/bn/sorting, pour comprendre exactement comment fonctionne l'algorithme.\n",
    "- Donnez l'algorithme du tri à bulles en Python. N'oubliez pas de tester votre code sur de petites listes.\n",
    "- Quel est le temps de parcours du tri à bulles?\n"
   ]
  },
  {
   "cell_type": "code",
   "execution_count": null,
   "metadata": {},
   "outputs": [],
   "source": [
    "# Réponse au point 2."
   ]
  },
  {
   "cell_type": "markdown",
   "metadata": {},
   "source": [
    "***"
   ]
  },
  {
   "cell_type": "markdown",
   "metadata": {},
   "source": [
    "## Exercice 5 : exercice d'examen"
   ]
  },
  {
   "cell_type": "markdown",
   "metadata": {},
   "source": [
    "<font color=greblueen> Chaque semaine, je vous propose un exercice sans corrigé détaillé mais en vous indiquant la réponse finale. Ce sera donc à vous de faire l'effort de résoudre ce problème à l'aide des ressources à disposition : vos notes de cours, les forums sur internet ou même ChatGPT du moment que vous faites l'effort de comprendre le code que vous fournit ce Chatbot! \n",
    "\n",
    "Pour résoudre cet exercice, je vous conseille de discuter avec vos camarades.</font>"
   ]
  },
  {
   "cell_type": "markdown",
   "metadata": {},
   "source": [
    "On donne ci-dessous un algorithme de tri, auquel nous avons rajouté l’instruction\n",
    "`print(f\"{i}e element: {L}\")`."
   ]
  },
  {
   "cell_type": "code",
   "execution_count": null,
   "metadata": {},
   "outputs": [],
   "source": [
    "def mafonction (L):\n",
    "    n = len (L)\n",
    "    for i in range (n-1,-1,-1):\n",
    "        j = i\n",
    "        while j < n-1 and L[j] > L[j+1]:\n",
    "            L[j], L[j+1] = L[j+1], L[j]\n",
    "            j += 1\n",
    "        print (f\"{i}e element : {L}\")"
   ]
  },
  {
   "cell_type": "markdown",
   "metadata": {},
   "source": [
    "- Sans exécuter ce code, saurez-vous dire qu'affichent les instructions suivantes?\n",
    "\n",
    "    `L = [1, 3, 0, -6, 100 , -1]`\n",
    "\n",
    "    `mafonction (L)`\n",
    "\n",
    "- Quel algorithme vu en cours fonctionne selon le même principe que celui-ci?\n",
    "\n",
    "- Quel est le temps de parcours de `mafonction()`? Justifiez brièvement votre réponse et\n",
    "utilisez la notation de Landau.\n",
    "\n",
    "- Quelle propriété satisfait l'instance pour laquelle le temps de parcours est minimal?\n",
    "\tQue vaut celui-ci dans le meilleur des cas? Justifiez brièvement votre réponse et utilisez la notation de Landau."
   ]
  }
 ],
 "metadata": {
  "celltoolbar": "Format de la Cellule Texte Brut",
  "kernelspec": {
   "display_name": "Python 3 (ipykernel)",
   "language": "python",
   "name": "python3"
  },
  "language_info": {
   "codemirror_mode": {
    "name": "ipython",
    "version": 3
   },
   "file_extension": ".py",
   "mimetype": "text/x-python",
   "name": "python",
   "nbconvert_exporter": "python",
   "pygments_lexer": "ipython3",
   "version": "3.13.0"
  },
  "latex_envs": {
   "LaTeX_envs_menu_present": true,
   "autoclose": false,
   "autocomplete": true,
   "bibliofile": "biblio.bib",
   "cite_by": "apalike",
   "current_citInitial": 1,
   "eqLabelWithNumbers": true,
   "eqNumInitial": 1,
   "hotkeys": {
    "equation": "Ctrl-E",
    "itemize": "Ctrl-I"
   },
   "labels_anchors": false,
   "latex_user_defs": false,
   "report_style_numbering": false,
   "user_envs_cfg": false
  }
 },
 "nbformat": 4,
 "nbformat_minor": 4
}
