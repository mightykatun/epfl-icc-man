{
 "cells": [
  {
   "cell_type": "markdown",
   "metadata": {
    "deletable": false,
    "editable": false,
    "run_control": {
     "frozen": true
    }
   },
   "source": [
    "\n",
    "# ICS - Travaux Pratiques 11\n",
    "\n",
    "15.05.25\n",
    "\n",
    "\n",
    "<font color=grey>_Ce 11e TP se concentre sur la méthode de Newton ainsi que sur les méthodes de point fixe._ \n",
    "\n",
    "_Note : ne vous sentez pas obligé.e.s de finir la série pendant la séance! Celle-ci est conçue de manière à ce que vous gardiez certains exercices pour vos révisions._ </font>"
   ]
  },
  {
   "cell_type": "markdown",
   "metadata": {},
   "source": [
    "***"
   ]
  },
  {
   "cell_type": "markdown",
   "metadata": {},
   "source": [
    "## Exercice 1 : Newton"
   ]
  },
  {
   "cell_type": "markdown",
   "metadata": {},
   "source": [
    "Dans cet exercice, il vous est proposé de déterminer numériquement les zéros de la fonction \n",
    "$f(x)=(x+1)^2(x-\\frac{3}{2})$. \n",
    "\n",
    "Pour ce faire, implémentez la **méthode de Newton** présentée en cours en définissant une fonction `resoudre_par_Newton`$\\dots$\n",
    "* $\\dots$ dont les arguments sont la fonction `f` étudiée, le point de départ `x_0` de la méthode, la fonction dérivée `fprime`, la tolérance `eps` et le nombre maximum d'itérations autorisées `k_max` ;\n",
    "* $\\dots$ qui calcule par itérations une approximation d'un zéro de $f$ ;\n",
    "* $\\dots$ qui s'arrête :\n",
    "    - soit quand la valeur absolue de $f(x_k)$ est inférieure à la tolérance ; \n",
    "    - soit quand le nombre maximum d'itérations est atteint ; \n",
    "    - si la valeur de la dérivée utilisée à chaque itération est inférieure à `1e-10` pour éviter tout problème de divergence dans la formule utilisée ;\n",
    "* $\\dots$ qui retourne une valeur approchée d'un zéro de $f$, ainsi qu'une liste de tuples, ces tuples contenant les couples $(x_k,f(x_k))$ utilisés à chaque itération $k$. \n",
    "\n",
    "Testez votre implémentation en recherchant les deux zéros de la fonction $f$ avec une tolérance de $10^{-8}$. Expérimentez l'efficacité de la méthode selon le point de départ $x_0$ choisi et selon la nature du zéro considéré. Constatez-vous des différences notables ? Si oui, essayez d'en expliquer la raison, notamment en vous basant sur le graphe de cette fonction.\n",
    "\n",
    "Représentez graphiquement la différence\n",
    "$$\n",
    "x_{k} - x_{k-1}\n",
    "$$\n",
    "en fonction des itérations. Quelles conclusions peut-on tirer de la comparaison de cette différence à la dernière itération avec la tolérance (sur $f(x_k)$) que nous avons considérée ?"
   ]
  },
  {
   "cell_type": "code",
   "execution_count": 1,
   "metadata": {},
   "outputs": [],
   "source": [
    "import matplotlib.pyplot as plt\n",
    "import numpy as np"
   ]
  },
  {
   "cell_type": "code",
   "execution_count": 10,
   "metadata": {},
   "outputs": [
    {
     "data": {
      "image/png": "[encoded data removed]",
      "text/plain": [
       "<Figure size 640x480 with 1 Axes>"
      ]
     },
     "metadata": {},
     "output_type": "display_data"
    }
   ],
   "source": [
    "f = lambda x: (x + 1)**2 * (x - 3/2)\n",
    "plt.plot(x:=np.linspace(-2, 2, 100), f(x))\n",
    "plt.grid()\n",
    "plt.show()"
   ]
  },
  {
   "cell_type": "code",
   "execution_count": 42,
   "metadata": {},
   "outputs": [
    {
     "name": "stdout",
     "output_type": "stream",
     "text": [
      "(1.5000000000000135, 7)\n",
      "(-1.0000000128514688, 25)\n"
     ]
    }
   ],
   "source": [
    "def newton(f, fprime, x_0, tol=-1, nmax=-1):\n",
    "    root = x_0\n",
    "    n = 0\n",
    "    while True:\n",
    "        n += 1\n",
    "        if fprime(root) > 1e-10:\n",
    "            newroot = root - f(root) / fprime(root)\n",
    "        else:\n",
    "            break\n",
    "        if abs(newroot - root) < tol and tol != -1:\n",
    "            break\n",
    "        if n >= nmax and nmax != -1:\n",
    "            break\n",
    "        root = newroot\n",
    "    return root, n\n",
    "\n",
    "print(newton(f, lambda x: 3*x**2 + x - 2, 3, tol=1e-8))\n",
    "print(newton(f, lambda x: 3*x**2 + x - 2, -1.2, tol=1e-8))"
   ]
  },
  {
   "cell_type": "code",
   "execution_count": 43,
   "metadata": {},
   "outputs": [],
   "source": [
    "def prop_parts(func, lbound, ubound, tol_target=-1, max_iter=-1):\n",
    "    '''\n",
    "    Uses the proportional parts method to find a root of a function in a given interval\n",
    "\n",
    "    Args:\n",
    "        func (function): function to calculate the zeros of\n",
    "        lbound (float): lower bound of the interval\n",
    "        ubound (float): lower bound of the interval\n",
    "        tol_target (int, default: -1): in powers of ten, the wanted precision (ex. 1e-10), disable with -1 (disabled by default)\n",
    "        max_iter (int, default: -1): maximum iterations to perform, disable with -1 (disabled by default)\n",
    "\n",
    "    Returns:\n",
    "        root (float): the root that was found\n",
    "\n",
    "    Raises:\n",
    "        Warning: if there is no sign change on the interval\n",
    "        Exception: if the method does not converge\n",
    "    '''\n",
    "    # check if the interval qualifies\n",
    "    if func(lbound)*func(ubound) > 0:\n",
    "        raise Warning(\"The given interval does not satisfy the sign change condition\")\n",
    "        \n",
    "    # middle of interval (only thing that needs to change from regular bissection algorithm)\n",
    "    # m = slope = (func(l)-func(u))/(l-u)\n",
    "    # b = y-intercept = (l*func(u) - u*func(l))/(l-u)\n",
    "    # y = m*x + b = 0 <=> x = -b/m\n",
    "    middle = lambda l, u: -((l*func(u) - u*func(l))/(l-u))/((func(l)-func(u))/(l-u))\n",
    "    \n",
    "    # main loop\n",
    "    counter = 0\n",
    "    while True:\n",
    "        counter += 1\n",
    "        \n",
    "        # mid point\n",
    "        mid = middle(lbound, ubound)\n",
    "        # check if tolerance has been reached, return the root if yes\n",
    "        if (mid - mid // 1 < tol_target and tol_target != -1) or (counter >= max_iter and max_iter != -1):\n",
    "            return {\"root\": float(mid), \"iterations\": counter}\n",
    "\n",
    "        # calculate function values\n",
    "        values = np.array([lbound, mid, ubound])\n",
    "        images = func(values)\n",
    "        \n",
    "        # by chance, maybe one of the three is a root?\n",
    "        if 0 in images:\n",
    "            return values[imges.find(0)]\n",
    "            \n",
    "        # check if [lbound, mid] qualifies\n",
    "        if images[0]*images[1] < 0:\n",
    "            ubound = mid # redefine upper bound to have [lbound, mid]\n",
    "        \n",
    "        # check if [mid, ubound] qualifies\n",
    "        elif images[1]*images[2] < 0:\n",
    "            lbound = mid # redefine lower bound to have [mid, ubound]\n",
    "\n",
    "        # take care of the case where none of the two new intervals satisfy the sign change condition\n",
    "        else:\n",
    "            raise Exception(\"Sub-intervals do not converge, might be a floating point error\")"
   ]
  },
  {
   "cell_type": "markdown",
   "metadata": {},
   "source": [
    "***"
   ]
  },
  {
   "cell_type": "markdown",
   "metadata": {},
   "source": [
    "## Exercice 2 : k-contraction"
   ]
  },
  {
   "cell_type": "markdown",
   "metadata": {},
   "source": [
    "Les fonctions de $\\mathcal{R}$ dans $\\mathcal{R}$, $\\displaystyle f(x)=\\frac{\\cos{(x)}+x}{4}$ et $\\displaystyle g(x)=\\frac{\\cos{(x)}+x^2}{4}$ sont-elles **$K$-contractantes** sur tout intervalle $I$ contenu dans $\\mathcal{R}$?\n",
    "\n",
    "En cas de réponse négative, essayez de trouver un intervalle autour de l'origine dans lequel la fonction est $K$-contractante."
   ]
  },
  {
   "cell_type": "code",
   "execution_count": null,
   "metadata": {},
   "outputs": [],
   "source": [
    "# Représentation graphique des fonctions\n"
   ]
  },
  {
   "cell_type": "markdown",
   "metadata": {},
   "source": [
    "***"
   ]
  },
  {
   "cell_type": "markdown",
   "metadata": {},
   "source": [
    "## Exercice 3 : Points fixes"
   ]
  },
  {
   "cell_type": "markdown",
   "metadata": {},
   "source": [
    "Dans cet exercice, il vous est demandé d'étudier les quatre fonctions suivantes :\n",
    "$$\n",
    "f(x) = 1-\\sin{(x)}\\,,~~~~\n",
    "g(x) = \\exp{(-4x)}\\,,~~~~\n",
    "h(x) = 0.4 \\exp{(x)}-0.25\\,~~~~\\hbox{et}~~~~\n",
    "i(x) = \\displaystyle\\frac{1}{1+\\left(\\frac{1-x}{x}\\right)^2}\\,,\n",
    "$$\n",
    "sur l'intervalle ouvert $I=\\,]0,1[$.\n",
    "\n",
    "Pour chacune de ces fonctions, vous devez en particulier $\\dots$\n",
    "- $\\dots$ vérifier graphiquement l'existence d'un **unique point fixe** sur $I$ (en représentant la **fonction \"identité\"** $y(x)=x$) ;\n",
    "- $\\dots$ choisir deux valeurs différentes pour le point de départ $x_0$ et d'effectuer un certain nombre d'**itérations de la méthode de Picard** (en les représentant graphiquement sur la même figure) ;\n",
    "- $\\dots$ déterminer la nature du point fixe (**répulsif** ou **attracteur**) ;\n",
    "- $\\dots$ expliquer vos observations en vous intéressant au **comportement de la dérivée** et à sa valeur aux alentours du point fixe."
   ]
  },
  {
   "cell_type": "code",
   "execution_count": 8,
   "metadata": {},
   "outputs": [],
   "source": [
    "# Représentation graphique de l'existence d'un point fixe\n"
   ]
  },
  {
   "cell_type": "code",
   "execution_count": null,
   "metadata": {},
   "outputs": [],
   "source": [
    "# Représentation graphique (ou sur papier) de la méthode de Picard\n",
    "# appliquée aux fonctions présentées.\n"
   ]
  },
  {
   "cell_type": "markdown",
   "metadata": {},
   "source": [
    "***"
   ]
  },
  {
   "cell_type": "markdown",
   "metadata": {},
   "source": [
    "## Exercice 4 : Fonction d'itération"
   ]
  },
  {
   "cell_type": "markdown",
   "metadata": {},
   "source": [
    "Soit $f(x)$ une fonction dont on cherche les zéros. Laquelle des fonctions $\\Phi(x)$ suivantes est-elle, a priori, acceptable comme fonction d’itération ? Justifiez votre réponse.  <br/><br/>\n",
    "&nbsp;   a) $\\Phi(x) = f(x)/x$   <br/><br/>\n",
    "&nbsp;   b) $\\Phi(x) = (x + 1)f(x)$  <br/><br/>\n",
    "&nbsp;   c) $\\Phi(x) = 5f(x) + x^2 + x$   <br/><br/>\n",
    "&nbsp;   d) $\\Phi(x) = (x + 1) [f (x) + 1]$   <br/><br/>\n",
    "&nbsp;   e) $\\Phi(x) = (x + 1)f(x) + x$  "
   ]
  },
  {
   "cell_type": "markdown",
   "metadata": {},
   "source": [
    "***"
   ]
  },
  {
   "cell_type": "markdown",
   "metadata": {},
   "source": [
    "## Exercice 5 : Méthode de Picard"
   ]
  },
  {
   "cell_type": "markdown",
   "metadata": {},
   "source": [
    "Reprenons les fonctions de l'exercice 2\n",
    "\n",
    "$$\n",
    "\\displaystyle f(x)=\\frac{\\cos{(x)}+x}{4}~~~\\hbox{et}~~~\n",
    "\\displaystyle g(x)=\\frac{\\cos{(x)}+x^2}{4}.\n",
    "$$\n",
    "\n",
    "Nous avons montré (n'est-ce pas) qu'elles sont $K$-contractantes sur $\\mathcal{R}$ dans le cas de $f(x)$ et sur, par exemple, \n",
    "$I_\\pi=\\displaystyle\\left]-\\frac{\\pi}{2},\\frac{\\pi}{2}\\right[$ dans le cas de $g(x)$.\n",
    "\n",
    "Dans cet exercice, il vous est demandé de :\n",
    "\n",
    "a) vérifier que la fonction $f$ admet un unique point fixe et que la suite $\\{x_k\\}$ obtenue par la méthode de Picard converge vers ce point fixe quel que soit le point de départ $x_0$ de la méthode :\n",
    "   * représentez graphiquement la fonction $f$ ;\n",
    "   * vérifiez \"visuellement\" l'existence d'un unique point fixe ;\n",
    "   * trouvez une valeur approchée à 5 décimales de ce point fixe grâce à la méthode de Picard, en testant votre implémentation avec différentes valeurs de départ $x_0$.\n",
    "\n",
    "b) vérifier de manière analogue le théorème du point fixe du cours dans le cas particulier de la fonction $g$ sur $I_\\pi$. Ce théorème s'applique-t-il dans le cas de cette fonction sur l'intervalle $\\displaystyle\\left]-\\frac{\\pi}{2},0\\right[$ ?"
   ]
  },
  {
   "cell_type": "code",
   "execution_count": null,
   "metadata": {},
   "outputs": [],
   "source": [
    "# a)\n"
   ]
  },
  {
   "cell_type": "code",
   "execution_count": 14,
   "metadata": {},
   "outputs": [],
   "source": [
    "# b)\n"
   ]
  }
 ],
 "metadata": {
  "celltoolbar": "Format de la Cellule Texte Brut",
  "kernelspec": {
   "display_name": "Python 3 (ipykernel)",
   "language": "python",
   "name": "python3"
  },
  "language_info": {
   "codemirror_mode": {
    "name": "ipython",
    "version": 3
   },
   "file_extension": ".py",
   "mimetype": "text/x-python",
   "name": "python",
   "nbconvert_exporter": "python",
   "pygments_lexer": "ipython3",
   "version": "3.13.0"
  },
  "latex_envs": {
   "LaTeX_envs_menu_present": true,
   "autoclose": false,
   "autocomplete": true,
   "bibliofile": "biblio.bib",
   "cite_by": "apalike",
   "current_citInitial": 1,
   "eqLabelWithNumbers": true,
   "eqNumInitial": 1,
   "hotkeys": {
    "equation": "Ctrl-E",
    "itemize": "Ctrl-I"
   },
   "labels_anchors": false,
   "latex_user_defs": false,
   "report_style_numbering": false,
   "user_envs_cfg": false
  }
 },
 "nbformat": 4,
 "nbformat_minor": 4
}
