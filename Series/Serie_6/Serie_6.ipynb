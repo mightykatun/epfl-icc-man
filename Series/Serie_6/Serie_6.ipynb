{
 "cells": [
  {
   "cell_type": "markdown",
   "id": "121c2091",
   "metadata": {},
   "source": [
    "# ICS - Travaux Pratiques 6\n",
    "\n",
    "02.05.25\n",
    "\n",
    "\n",
    "\n",
    "<font color=grey>_Dans la première partie de ce TP, vous travaillerez les exceptions en Python. La deuxième partie contient quelques exercices qui revoient certaines notions des cours passés._ \n",
    "\n",
    "_Note : ne vous sentez pas obligé.e.s de finir la série pendant la séance! Celle-ci est conçue de manière à ce que vous gardiez certains exercices pour vos révisions._ </font>"
   ]
  },
  {
   "cell_type": "markdown",
   "id": "60b35a66",
   "metadata": {},
   "source": [
    "***"
   ]
  },
  {
   "cell_type": "markdown",
   "id": "24279acd",
   "metadata": {},
   "source": [
    "## Exercice 1 : Qu'affiche ce code?\n",
    "\n"
   ]
  },
  {
   "cell_type": "code",
   "execution_count": 1,
   "id": "dd9a26f9",
   "metadata": {},
   "outputs": [
    {
     "ename": "ValueError",
     "evalue": "invalid literal for int() with base 10: 'deux'",
     "output_type": "error",
     "traceback": [
      "\u001b[0;31m---------------------------------------------------------------------------\u001b[0m",
      "\u001b[0;31mValueError\u001b[0m                                Traceback (most recent call last)",
      "Cell \u001b[0;32mIn[1], line 2\u001b[0m\n\u001b[1;32m      1\u001b[0m nb \u001b[38;5;241m=\u001b[39m \u001b[38;5;124m'\u001b[39m\u001b[38;5;124mdeux\u001b[39m\u001b[38;5;124m'\u001b[39m\n\u001b[0;32m----> 2\u001b[0m nb \u001b[38;5;241m=\u001b[39m \u001b[38;5;28;43mint\u001b[39;49m\u001b[43m(\u001b[49m\u001b[43mnb\u001b[49m\u001b[43m)\u001b[49m\n",
      "\u001b[0;31mValueError\u001b[0m: invalid literal for int() with base 10: 'deux'"
     ]
    }
   ],
   "source": [
    "nb = 'deux'\n",
    "nb = int(nb)"
   ]
  },
  {
   "cell_type": "code",
   "execution_count": 2,
   "id": "6682bdd0",
   "metadata": {},
   "outputs": [
    {
     "ename": "_IncompleteInputError",
     "evalue": "incomplete input (85483018.py, line 3)",
     "output_type": "error",
     "traceback": [
      "\u001b[0;36m  Cell \u001b[0;32mIn[2], line 3\u001b[0;36m\u001b[0m\n\u001b[0;31m    nb = int(nb)\u001b[0m\n\u001b[0m                ^\u001b[0m\n\u001b[0;31m_IncompleteInputError\u001b[0m\u001b[0;31m:\u001b[0m incomplete input\n"
     ]
    }
   ],
   "source": [
    "nb = 'deux'\n",
    "try:\n",
    "    nb = int(nb)\n"
   ]
  },
  {
   "cell_type": "code",
   "execution_count": 3,
   "id": "e91360af",
   "metadata": {},
   "outputs": [
    {
     "name": "stdout",
     "output_type": "stream",
     "text": [
      "On essaie\n",
      "Une exception a été soulevée\n",
      "Le nombre initial a été remplacé par 5\n",
      "Le nombre vaut 5\n",
      "\n",
      "On essaie\n",
      "Le nombre vaut 2\n",
      "\n"
     ]
    }
   ],
   "source": [
    "nombres = [\"deux\", 2]\n",
    "for i in range(len(nombres)):  \n",
    "    try:\n",
    "        print(\"On essaie\")\n",
    "        nb = int(nombres[i])\n",
    "    except:\n",
    "        print(\"Une exception a été soulevée\")\n",
    "        nombres[i] = 5\n",
    "        print(f\"Le nombre initial a été remplacé par {nombres[i]}\")\n",
    "    print(f\"Le nombre vaut {nombres[i]}\\n\")"
   ]
  },
  {
   "cell_type": "code",
   "execution_count": 4,
   "id": "9fb7ef88",
   "metadata": {},
   "outputs": [
    {
     "name": "stdout",
     "output_type": "stream",
     "text": [
      "On examine le 1e nombre :\n",
      "Une exception a été soulevée\n",
      "Le nombre initial a été remplacé par 5\n",
      "1er bloc finally toujours exécuté\n",
      "Le nombre vaut 5\n",
      "\n",
      "On examine le 2e nombre :\n",
      "1er bloc finally toujours exécuté\n",
      "Le nombre vaut 2\n",
      "\n"
     ]
    }
   ],
   "source": [
    "nombres = [\"deux\", 2]\n",
    "for i in range(len(nombres)): \n",
    "    try:\n",
    "        print(f\"On examine le {i+1}e nombre :\")\n",
    "        nb = int(nombres[i])\n",
    "    except ValueError:\n",
    "        print(\"Une exception a été soulevée\")\n",
    "        nombres[i] = 5\n",
    "        print(f\"Le nombre initial a été remplacé par {nombres[i]}\")\n",
    "    finally:\n",
    "        print(\"1er bloc finally toujours exécuté\")\n",
    "        print(f\"Le nombre vaut {nombres[i]}\\n\")"
   ]
  },
  {
   "cell_type": "code",
   "execution_count": 7,
   "id": "455e4059",
   "metadata": {},
   "outputs": [
    {
     "name": "stdout",
     "output_type": "stream",
     "text": [
      "On examine le 1e nombre :\n",
      "Une exception a été soulevée\n",
      "Le nombre initial a été remplacé par 5\n",
      "1er bloc finally toujours exécuté\n",
      "Le nombre vaut 5\n",
      "On teste une nouvelle instruction dans le bloc finally\n",
      "2e bloc finally toujours exécuté\n",
      "Le rapport entre ce nombre et le nombre restant vaut 2.5\n",
      "\n",
      "On examine le 2e nombre :\n",
      "1er bloc finally toujours exécuté\n",
      "Le nombre vaut 2\n",
      "On teste une nouvelle instruction dans le bloc finally\n",
      "*meep*\n",
      "2e bloc finally toujours exécuté\n",
      "Le rapport entre ce nombre et le nombre restant vaut 0.4\n",
      "\n"
     ]
    }
   ],
   "source": [
    "nombres = [\"deux\", 2]\n",
    "for i in range(len(nombres)): \n",
    "    try:\n",
    "        print(f\"On examine le {i+1}e nombre :\")\n",
    "        nb = int(nombres[i])\n",
    "    except ValueError:\n",
    "        print(\"Une exception a été soulevée\")\n",
    "        nombres[i] = 5\n",
    "        print(f\"Le nombre initial a été remplacé par {nombres[i]}\")\n",
    "    finally:\n",
    "        print(\"1er bloc finally toujours exécuté\")\n",
    "        print(f\"Le nombre vaut {nombres[i]}\")\n",
    "        try: \n",
    "            print(\"On teste une nouvelle instruction dans le bloc finally\")\n",
    "            ratio = nombres[i]/nombres[i+1]\n",
    "        except IndexError:\n",
    "            print(\"*meep*\")\n",
    "            ratio = nombres[i]/nombres[i-1]\n",
    "        finally:\n",
    "            print(\"2e bloc finally toujours exécuté\")\n",
    "            print(f\"Le rapport entre ce nombre et le nombre restant vaut {ratio}\\n\")\n"
   ]
  },
  {
   "cell_type": "code",
   "execution_count": 10,
   "id": "00d51a40",
   "metadata": {},
   "outputs": [
    {
     "name": "stdout",
     "output_type": "stream",
     "text": [
      "On essaie.\n",
      "Une exception a été soulevée\n",
      "Le nombre initial a été remplacé par 5\n",
      "1er bloc finally toujours exécuté\n",
      "Le 1er nombre vaut 5\n",
      "On teste une nouvelle instruction dans le bloc finally\n",
      "Attention, division par zéro !!\n",
      "2e bloc finally toujours exécuté\n",
      "Le rapport entre le premier et le deuxième nombre vaut inf\n",
      "\n"
     ]
    }
   ],
   "source": [
    "# Décommentez la ligne qui vous intéresse\n",
    "\n",
    "nombres = [\"deux\", 0]\n",
    "#nombres = [0,2]\n",
    "#nombres = [1,2]\n",
    "\n",
    "try:\n",
    "    print(\"On essaie.\")\n",
    "    nb = int(nombres[0])\n",
    "except ValueError:\n",
    "    print(\"Une exception a été soulevée\")\n",
    "    nombres[0] = 5\n",
    "    print(f\"Le nombre initial a été remplacé par {nombres[0]}\")\n",
    "finally:\n",
    "    print(\"1er bloc finally toujours exécuté\")\n",
    "    print(f\"Le 1er nombre vaut {nombres[0]}\")\n",
    "    try: \n",
    "        print(\"On teste une nouvelle instruction dans le bloc finally\")\n",
    "        ratio = nombres[0]/nombres[1]\n",
    "    except ZeroDivisionError:\n",
    "        print(\"Attention, division par zéro !!\")\n",
    "        ratio = float('inf')\n",
    "    finally:\n",
    "        print(\"2e bloc finally toujours exécuté\")\n",
    "        print(f\"Le rapport entre le premier et le deuxième nombre vaut {ratio}\\n\")"
   ]
  },
  {
   "cell_type": "code",
   "execution_count": 13,
   "id": "c936f15d",
   "metadata": {},
   "outputs": [
    {
     "name": "stdout",
     "output_type": "stream",
     "text": [
      "On veut juste tester la division des deux nombres\n",
      "Attention, division par zero ! Changez les nombres en input\n"
     ]
    }
   ],
   "source": [
    "# Décommentez la ligne qui vous intéresse\n",
    "\n",
    "#nombres = [2, 3]\n",
    "#nombres = [3, 2]\n",
    "nombres = [2, 0]\n",
    "\n",
    "try:\n",
    "    print(\"On veut juste tester la division des deux nombres\")\n",
    "    ratio = nombres[0]/nombres[1]\n",
    "    if ratio < 1:\n",
    "        raise Exception(\"Ratio trop petit !!\")\n",
    "except ZeroDivisionError:\n",
    "    print(\"Attention, division par zero ! Changez les nombres en input\")\n",
    "except :\n",
    "    print(\"Le rapport entre ces deux nombres est trop petit. Changez les nombres!\")\n",
    "\n"
   ]
  },
  {
   "cell_type": "markdown",
   "id": "485fa0b1",
   "metadata": {},
   "source": [
    "***"
   ]
  },
  {
   "cell_type": "markdown",
   "id": "46012825",
   "metadata": {},
   "source": [
    "## Exercice 2: vérification d'un nombre en input\n"
   ]
  },
  {
   "cell_type": "markdown",
   "id": "c22964c6",
   "metadata": {},
   "source": [
    "Jusqu'à présent, on a beaucoup utilisé la fonction `input()` pour demander un nombre à un utilisateur. Cependant, nous n'avions aucun moyen de vérifier si cette valeur d'entrée correspondait bien à un entier, à un float ou même à un string. Nous possédons désormais les outils pour ce faire.\n",
    "\n",
    "**a)** Avec un try-except, implémentez un programme vérifiant si un nombre rentré par l'utilisateur est un entier en affichant dans chaque cas si le nombre est entier ou pas.\n"
   ]
  },
  {
   "cell_type": "code",
   "execution_count": null,
   "id": "cbd9ba16",
   "metadata": {},
   "outputs": [],
   "source": [
    "# Réponse au point a)\n"
   ]
  },
  {
   "cell_type": "markdown",
   "id": "44f115cb",
   "metadata": {},
   "source": [
    "\n",
    "**b)** Améliorez ce programme de manière à ce qu'il continue à demander un nombre à l'utilisateur _tant que_ celui-ci n'est pas un entier.\n",
    "\n",
    "<font color=grey> Indice : une manière de résoudre ce problème est d'utiilser un boolen qui prend une valeur différente selon si le nombre rentré par l'utilisateur est un entier ou non.</font>\n"
   ]
  },
  {
   "cell_type": "code",
   "execution_count": null,
   "id": "b4b6884e",
   "metadata": {},
   "outputs": [],
   "source": [
    "# Réponse au point b)\n"
   ]
  },
  {
   "cell_type": "markdown",
   "id": "8b5b4202",
   "metadata": {},
   "source": [
    "\n",
    "**c)** Admettons que ces entiers correspondent à des notes. Nous aimerions que l'utilisateur ne puisse pas entrer de note (entière) supérieure à 6 ni inférieure à 1. Modifiez ce programme afin de prendre cela en compte."
   ]
  },
  {
   "cell_type": "code",
   "execution_count": 12,
   "id": "2cf77ac1",
   "metadata": {},
   "outputs": [
    {
     "data": {
      "text/plain": [
       "True"
      ]
     },
     "execution_count": 12,
     "metadata": {},
     "output_type": "execute_result"
    }
   ],
   "source": [
    "def input_verify(user_input, bounds = (1, 6)):\n",
    "    '''\n",
    "    Verifies if user_input is between bounds (included) and if it is an int\n",
    "    \n",
    "    Args:\n",
    "        user_input (any): thnumbr to verify\n",
    "        bounds (tuple, optional): (lower, upper) bounds, defaults to (1, 6)\n",
    "    Returns:\n",
    "        True: if it's valid\n",
    "        False: if not\n",
    "    Raises:\n",
    "        Exception: if the input is not an int\n",
    "        Exception: if the input is out of bounds\n",
    "    '''\n",
    "    try:\n",
    "        sane = int(user_input)\n",
    "        if not (bounds[0] <= sane <= bounds[1]):\n",
    "            raise ValueError()\n",
    "        return True\n",
    "    except ValueError:\n",
    "        print(f\"Enter an integer between (included) {bounds[0]} and {bounds[1]}\")\n",
    "\n",
    "input_verify(\"6\")"
   ]
  },
  {
   "cell_type": "markdown",
   "id": "3ab370a5",
   "metadata": {},
   "source": [
    "***"
   ]
  },
  {
   "cell_type": "markdown",
   "id": "2f943646",
   "metadata": {},
   "source": [
    "# Deuxième partie : Révision"
   ]
  },
  {
   "cell_type": "markdown",
   "id": "f1f3aa3d",
   "metadata": {},
   "source": [
    "## Exercice 3 : des boucles "
   ]
  },
  {
   "cell_type": "markdown",
   "id": "2162cf1e",
   "metadata": {},
   "source": [
    "\n",
    "Etant donnée une liste `L = ['a', 'b', 'c', 'd']`, \n",
    "\n",
    "**(a)** écrivez une boucle qui produit l'affichage\n",
    "\n",
    "`0    a`\n",
    "\n",
    "`1    b`\n",
    "\n",
    "`2    c`\n",
    "\n",
    "`3    d`\n"
   ]
  },
  {
   "cell_type": "code",
   "execution_count": 14,
   "id": "dab68452",
   "metadata": {},
   "outputs": [],
   "source": [
    "L = [\"a\", \"b\", \"c\", \"d\"]"
   ]
  },
  {
   "cell_type": "code",
   "execution_count": 16,
   "id": "e2702b19",
   "metadata": {},
   "outputs": [
    {
     "name": "stdout",
     "output_type": "stream",
     "text": [
      "0    a\n",
      "1    b\n",
      "2    c\n",
      "3    d\n"
     ]
    }
   ],
   "source": [
    "for i in range(len(L)):\n",
    "  print(i, L[i], sep=\"    \")"
   ]
  },
  {
   "cell_type": "markdown",
   "id": "ee075809",
   "metadata": {},
   "source": [
    "\n",
    "**(b)** écrivez une boucle qui produit l'affichage\n",
    "\n",
    "`a`\n",
    "\n",
    "`bb`\n",
    "\n",
    "`ccc`\n",
    "\n",
    "`dddd`\n"
   ]
  },
  {
   "cell_type": "code",
   "execution_count": 17,
   "id": "daca5c48",
   "metadata": {},
   "outputs": [
    {
     "name": "stdout",
     "output_type": "stream",
     "text": [
      "a\n",
      "bb\n",
      "ccc\n",
      "dddd\n"
     ]
    }
   ],
   "source": [
    "for i in range(len(L)):\n",
    "  print((L[i] * (i + 1)))"
   ]
  },
  {
   "cell_type": "markdown",
   "id": "aa6fd4c1",
   "metadata": {},
   "source": [
    "\n",
    "**(c)** écrivez des boucles imbriquées qui produisent l'affichage\n",
    "\n",
    "`aa ab ac ad`\n",
    "\n",
    "`ba bb bc bd`\n",
    "\n",
    "`ca cb cc cd`\n",
    "\n",
    "`da db dc dd`\n"
   ]
  },
  {
   "cell_type": "code",
   "execution_count": 18,
   "id": "24d83291",
   "metadata": {},
   "outputs": [
    {
     "name": "stdout",
     "output_type": "stream",
     "text": [
      "aa ab ac ad \n",
      "ba bb bc bd \n",
      "ca cb cc cd \n",
      "da db dc dd \n"
     ]
    }
   ],
   "source": [
    "for char1 in L:\n",
    "    for char2 in L:\n",
    "        print(char1 + char2, end=\" \")\n",
    "    print()  # Nouvelle ligne après chaque boucle interne"
   ]
  },
  {
   "cell_type": "markdown",
   "id": "5200ef0e",
   "metadata": {},
   "source": [
    "\n",
    "**(d)** écrivez des boucles imbriquées qui produisent l'affichage\n",
    "\n",
    "`aa`\n",
    "\n",
    "`ba bb`\n",
    "\n",
    "`ca cb cc` \n",
    "\n",
    "`da db dc dd`\n"
   ]
  },
  {
   "cell_type": "code",
   "execution_count": 23,
   "id": "0fcf86c0",
   "metadata": {},
   "outputs": [
    {
     "name": "stdout",
     "output_type": "stream",
     "text": [
      "aa \n",
      "ba bb \n",
      "ca cb cc \n",
      "da db dc dd \n"
     ]
    }
   ],
   "source": [
    "# Itérer sur chaque groupe de lettres\n",
    "for i in range(len(L)):\n",
    "    # Itérer sur chaque lettre dans le groupe courant\n",
    "    for j in range(i + 1):\n",
    "        # Afficher la lettre actuelle\n",
    "        print(f\"{L[i]}{L[j]}\", end=' ')\n",
    "    # Passer à la ligne suivante après chaque groupe\n",
    "    print()"
   ]
  },
  {
   "cell_type": "markdown",
   "id": "e64a89e1",
   "metadata": {},
   "source": [
    "***"
   ]
  },
  {
   "cell_type": "markdown",
   "id": "6b1fa745",
   "metadata": {},
   "source": [
    "# Exercice 4 : discrétisation d'un intervalle"
   ]
  },
  {
   "cell_type": "markdown",
   "id": "13b67067",
   "metadata": {},
   "source": [
    "\n",
    "**(a)** `list(range(N))` permet de créer une liste d'**entiers** allant de $0$ à $N$. Malheureusement, il n'existe pas d'équivalent pour les float. Implémentez une fonction `discretisation(a, b, N)` qui prend en entrée deux réels $a$ et $b$ ($a < b$) et un nombre d'éléments $N$ ($N > 2$), et qui renvoie une liste de $N$ éléments représentant des nombres entre $a$ et $b$ inclus, séparés d'une même distance. Par exemple, l'appel `discretisation(0, 0.5, 5)` doit retourner la liste `[0.0, 0.125, 0.25, 0.375, 0.5]`.\n",
    "\n",
    "Si $N$ n'est pas spécifié, il prend la valeur 10 par défaut.\n",
    "\n"
   ]
  },
  {
   "cell_type": "code",
   "execution_count": 36,
   "id": "9e7a26ff",
   "metadata": {},
   "outputs": [
    {
     "name": "stdout",
     "output_type": "stream",
     "text": [
      "[ 6.    11.722 17.444 23.167 28.889 34.611 40.333 46.056 51.778 57.5  ]\n"
     ]
    }
   ],
   "source": [
    "import numpy as np\n",
    "np.set_printoptions(legacy='1.25')\n",
    "\n",
    "discr = lambda a, b, N=10: np.linspace(a, b, N)\n",
    "print(discr(6, 57.5))"
   ]
  },
  {
   "cell_type": "markdown",
   "id": "83a8f33e",
   "metadata": {},
   "source": [
    " **(b)** Ecrivez une fonction `sin_cos` qui \n",
    " - prend en entrée deux réels $a$ et $b$ et un nombre d'éléments $N$\n",
    " - crée une liste `L` de $N$ nombres entre $a$ et $b$ inclus, séparés d'une même distance\n",
    " - retourne un dictionnaire dont les clés sont les éléments de `L`, interprétés comme des angles (en radians), et les valeurs sont des tuples contenant $\\sin{\\theta}$, $\\cos{\\theta}$ et $\\cos^2{\\theta} + \\sin^2{\\theta}$. \n",
    " \n",
    " Affichez `sin_cos(0, math.pi, 5))`."
   ]
  },
  {
   "cell_type": "code",
   "execution_count": 37,
   "id": "40dc965c",
   "metadata": {},
   "outputs": [
    {
     "name": "stdout",
     "output_type": "stream",
     "text": [
      "{0.0: (0.0, 1.0, 1.0), 0.7853981633974483: (0.7071067811865475, 0.7071067811865476, 1.0), 1.5707963267948966: (1.0, 6.123233995736766e-17, 1.0), 2.356194490192345: (0.7071067811865476, -0.7071067811865475, 1.0), 3.141592653589793: (1.2246467991473532e-16, -1.0, 1.0)}\n"
     ]
    }
   ],
   "source": [
    "sin_cos = lambda a, b, N=10: {i: (a:=np.sin(i), b:=np.cos(i), a**2 + b**2) for i in discr(a, b, N)}\n",
    "\n",
    "print(sin_cos(0, np.pi, 5))"
   ]
  },
  {
   "cell_type": "markdown",
   "id": "b6a4e36d",
   "metadata": {},
   "source": [
    "***"
   ]
  },
  {
   "cell_type": "markdown",
   "id": "5b7c9d38",
   "metadata": {},
   "source": [
    "# Exercice 5 : listes et matrices"
   ]
  },
  {
   "cell_type": "markdown",
   "id": "1521c455",
   "metadata": {},
   "source": [
    "\n",
    "**(a)** Ecrivez une fonction `matrix_extract_col` qui prend en entrée une liste de listes `L` représentant une matrice, et un indice `k`, et retourne une liste `col` contenant les éléments de la `k`-ème colonne de `L`.\n",
    "\n",
    "Par exemple, les instructions \n",
    "\n",
    "`L = [['a', 'b', 'c'], ['d', 'e', 'f']]`\n",
    "\n",
    "`print(matrix_extract_col(L, 1))`\n",
    "\n",
    "doivent afficher \n",
    "\n",
    "`['b', 'e']`\n",
    "\n",
    "Il n'y a pas besoin de vérifier que `L` correspond à une matrice bien définie: on peut supposer que `L`contient `m` éléments (correspondant aux `m` lignes de la matrice) qui sont toutes des listes de même taille `n` (correspondant aux `n` colonnes de la matrice).\n"
   ]
  },
  {
   "cell_type": "code",
   "execution_count": null,
   "id": "da648738",
   "metadata": {},
   "outputs": [],
   "source": [
    "# Réponse au point (a)\n"
   ]
  },
  {
   "cell_type": "markdown",
   "id": "a12e4846",
   "metadata": {},
   "source": [
    "\n",
    "**(b)** Etant donné une matrice $M$ à $m$ lignes et $n$ colonnes, sa **transposée** est la matrice à $n$ lignes et $m$ colonnes dont les lignes sont les colonnes de $M$  et les colonnes sont les lignes de $M$. \n",
    "\n",
    "Par exemple, la transposée de \n",
    "$\\begin{matrix}\n",
    "a&b&c\\\\\n",
    "d&e&f\\\\\n",
    "\\end{matrix}$ \n",
    " est \n",
    "$\\begin{matrix}\n",
    "a & d \\\\\n",
    "b & e \\\\\n",
    "c&f \\\\\n",
    "\\end{matrix}$.\n",
    "\n",
    "\n",
    "\n",
    "\n",
    "Ecrivez une fonction `matrix_transpose` qui prend en entrée une liste de listes `L` représentant une matrice, et retourne la matrice transposée de `L`. Par exemple, les instructions\n",
    "\n",
    "`L = [['a', 'b', 'c'], ['d', 'e', 'f']]`\n",
    "\n",
    "`print(matrix_transpose(L))`\n",
    "\n",
    "doivent afficher\n",
    "\n",
    "`[['a', 'd'], ['b', 'e'], ['c', 'f']]`\n"
   ]
  },
  {
   "cell_type": "code",
   "execution_count": null,
   "id": "579943dd",
   "metadata": {},
   "outputs": [],
   "source": [
    "# Réponse au point (b)\n",
    "\n",
    "    "
   ]
  },
  {
   "cell_type": "markdown",
   "id": "fe695453",
   "metadata": {},
   "source": [
    "***"
   ]
  },
  {
   "cell_type": "markdown",
   "id": "bd6c27bd",
   "metadata": {},
   "source": [
    "# Exercice 6 : Enigme mathématique"
   ]
  },
  {
   "cell_type": "markdown",
   "id": "839824e8",
   "metadata": {},
   "source": [
    "<font color=greblueen> Chaque semaine, je vous propose un exercice sans corrigé détaillé mais en vous indiquant la réponse finale. Ce sera donc à vous de faire l'effort de résoudre ce problème à l'aide des ressources à disposition : vos notes de cours, les forums sur internet ou même ChatGPT du moment que vous faites l'effort de comprendre le code que vous fournit ce Chatbot! </font>"
   ]
  },
  {
   "cell_type": "markdown",
   "id": "8c1eb156",
   "metadata": {},
   "source": [
    "\n",
    "On considère 100 jetons numérotés, blancs d'un côté et noirs de l'autre. Ils ont initialement tous leur face blanche visible. \n",
    "\n",
    "Pour chaque jeton, on retourne successivement tous les multiples de ce jeton:\n",
    "- pour le jeton 1, nous allons retourner les jetons 1,2,3,...,100\n",
    "- pour le jeton 2 nous allons retourner les jetons pairs\n",
    "- pour le jeton 3 nous retournerons les jetons 3,6,9,...,99 \n",
    "- ... et ainsi de suite jusqu'au jeton 100 que nous retournons tout seul.\n",
    "\n",
    "Implémentez cet algorithme dans un programme. Celui-ci doit afficher une liste contenant les numéros des jetons qui seront noirs après avoir effectué ces opérations.\n",
    "\n",
    "Que remarquez-vous? Est-ce que cette série de nombre vous est familière? Pouvez-vous expliquer ce résultat? Pour vérifier votre réponse, il y aura 10 jetons noirs entre 0 et 100 compris. \n"
   ]
  },
  {
   "cell_type": "code",
   "execution_count": 65,
   "id": "3d7a9ec5",
   "metadata": {
    "scrolled": true
   },
   "outputs": [
    {
     "name": "stdout",
     "output_type": "stream",
     "text": [
      "10\n",
      "0 3 8 15 24 35 48 63 80 99 "
     ]
    }
   ],
   "source": [
    "def flip(jeton_list, index):\n",
    "    jeton_list[index] = (jeton_list[index] + 1) % 2\n",
    "    return jeton_list\n",
    "\n",
    "jeton_list = [0] * 100\n",
    "\n",
    "for multiple in range(1, 101):\n",
    "    for index in range(multiple-1, 100, multiple):\n",
    "        jeton_list = flip(jeton_list, index)\n",
    "\n",
    "print(jeton_list.count(1))\n",
    "\n",
    "for i, j in enumerate(jeton_list):\n",
    "    if j == 1:\n",
    "        print(i, end=\" \")\n",
    "    "
   ]
  }
 ],
 "metadata": {
  "kernelspec": {
   "display_name": "Python 3 (ipykernel)",
   "language": "python",
   "name": "python3"
  },
  "language_info": {
   "codemirror_mode": {
    "name": "ipython",
    "version": 3
   },
   "file_extension": ".py",
   "mimetype": "text/x-python",
   "name": "python",
   "nbconvert_exporter": "python",
   "pygments_lexer": "ipython3",
   "version": "3.13.0"
  }
 },
 "nbformat": 4,
 "nbformat_minor": 5
}
