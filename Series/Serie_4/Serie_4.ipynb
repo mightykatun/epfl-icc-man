{
 "cells": [
  {
   "cell_type": "markdown",
   "id": "9b073ce3",
   "metadata": {},
   "source": [
    "# ICS - Travaux Pratiques 4\n",
    "\n",
    "19.03.24\n",
    "\n",
    "\n",
    "<font color=grey>_Ce 4e TP se concentre sur les opérations élémentaires effectuées sur la première structure complexe que nous avons vue dans ce sours : les listes._\n",
    "\n",
    "_Bien entendu, il reprend également certains éléments des cours précédents, dont les fonctions et les boucles._\n",
    "\n",
    "_**Remarque 1:** Sauf si spécifié autrement, lorsqu'on vous demande d'écrire une fonction, vous pouvez supposer que l'appel à la fonction se fait avec des arguments valides. Par exemple, si vous devez écrire une fonction qui prend en entrée un nombre positif, vous n'avez pas besoin de vérifier à l'intérieur de la fonction si l'argument passé à la fonction est effectivement un nombre positif, sauf si on vous demande explicitement de le vérifier._\n",
    "\n",
    "_**Remarque 2:** Sauf si on vous demande explicitement de prendre une valeur de l'utilisateur, vous n'avez pas besoin de passer par la fonction input() pour fournir un argument à une fonction. Par exemple pour une fonction f qui prend un nombre N en argument, vous pouvez simplement utiliser les instructions_\n",
    "\n",
    "`N = 10`\n",
    "\n",
    "`f(N)`,\n",
    "\n",
    "_ou même directement `f(10)`._\n",
    "\n",
    "_Note : ne vous sentez pas obligé.e.s de finir la série pendant la séance! Celle-ci est conçue de manière à ce que vous gardiez certains exercices pour vos révisions._ </font>"
   ]
  },
  {
   "cell_type": "markdown",
   "id": "42e514e3",
   "metadata": {},
   "source": [
    "***\n",
    "***"
   ]
  },
  {
   "cell_type": "markdown",
   "id": "bb279251",
   "metadata": {},
   "source": [
    "## Exercice 1 : qu'affichent les programmes suivants\n"
   ]
  },
  {
   "cell_type": "markdown",
   "id": "4cc11bf3",
   "metadata": {},
   "source": [
    "Essayez de prédire la sortie de programmes ci-dessous. N'hésitez pas à changer les valeurs et tester différents paramètres ! "
   ]
  },
  {
   "cell_type": "code",
   "execution_count": 1,
   "id": "d43343f7",
   "metadata": {},
   "outputs": [
    {
     "name": "stdout",
     "output_type": "stream",
     "text": [
      "le max de L est 6 et le min est -5\n",
      "[-5, 1, 3, 6]\n"
     ]
    }
   ],
   "source": [
    "L = [3, 1, 6, -5]\n",
    "print(f\"le max de L est {max(L)} et le min est {min(L)}\")\n",
    "L.sort()\n",
    "print(L)"
   ]
  },
  {
   "cell_type": "code",
   "execution_count": 2,
   "id": "7d576674",
   "metadata": {},
   "outputs": [
    {
     "name": "stdout",
     "output_type": "stream",
     "text": [
      "le max de L est vélo et le min est avion\n",
      "['avion', 'bateau', 'train', 'voiture', 'vélo']\n"
     ]
    }
   ],
   "source": [
    "L = [\"voiture\", \"train\", \"vélo\", \"avion\", \"bateau\"]\n",
    "print(f\"le max de L est {max(L)} et le min est {min(L)}\")\n",
    "L.sort()\n",
    "print(L)"
   ]
  },
  {
   "cell_type": "code",
   "execution_count": 3,
   "id": "3a8ca6bd",
   "metadata": {},
   "outputs": [
    {
     "name": "stdout",
     "output_type": "stream",
     "text": [
      "[2, 4, 3, 1]\n"
     ]
    }
   ],
   "source": [
    "L = [1, 3, 4, 2]\n",
    "L.reverse()\n",
    "print(L)"
   ]
  },
  {
   "cell_type": "code",
   "execution_count": 4,
   "id": "d63048e3",
   "metadata": {},
   "outputs": [
    {
     "name": "stdout",
     "output_type": "stream",
     "text": [
      "La liste [10, 20, 30, 20, 10] contient 2 fois l'élément 10\n",
      "La liste [10, 20, 30, 20, 10] contient 0 fois l'élément 40\n",
      "La première occurrence de l'élément 20 dans [10, 20, 30, 20, 10] est à l'index 1\n"
     ]
    }
   ],
   "source": [
    "L = [10, 20, 30, 20, 10]\n",
    "print(f\"La liste {L} contient {L.count(10)} fois l'élément 10\")\n",
    "print(f\"La liste {L} contient {L.count(40)} fois l'élément 40\")\n",
    "print(f\"La première occurrence de l'élément 20 dans {L} est à l'index {L.index(20)}\")"
   ]
  },
  {
   "cell_type": "code",
   "execution_count": 5,
   "id": "d1ec9a8d",
   "metadata": {},
   "outputs": [
    {
     "name": "stdout",
     "output_type": "stream",
     "text": [
      "True\n",
      "False\n",
      "hello contient la lettre e\n",
      "hello ne contient pas la lettre a\n"
     ]
    }
   ],
   "source": [
    "L = [\"a\", \"b\", \"d\"]\n",
    "print(\"a\" in L)\n",
    "print(\"c\" in L)\n",
    "\n",
    "s = \"hello\"\n",
    "\n",
    "if \"e\" in s:\n",
    "    print(f\"{s} contient la lettre e\")\n",
    "else:\n",
    "    print(f\"{s} ne contient pas la lettre e\")\n",
    "\n",
    "if \"a\" in s:\n",
    "    print(f\"{s} contient la lettre a\")\n",
    "else:\n",
    "    print(f\"{s} ne contient pas la lettre a\")"
   ]
  },
  {
   "cell_type": "code",
   "execution_count": 6,
   "id": "97f33758",
   "metadata": {},
   "outputs": [
    {
     "name": "stdout",
     "output_type": "stream",
     "text": [
      "1\n",
      "3\n",
      "5\n",
      "7\n",
      "\n",
      "0\n",
      "2\n",
      "4\n",
      "6\n"
     ]
    }
   ],
   "source": [
    "L = [1, 3, 5, 7]\n",
    "for x in L:\n",
    "    print(x)\n",
    "    \n",
    "print()\n",
    "\n",
    "for x in range(8):\n",
    "    if x not in L:\n",
    "        print(x)"
   ]
  },
  {
   "cell_type": "code",
   "execution_count": 7,
   "id": "fe6c24aa",
   "metadata": {},
   "outputs": [
    {
     "name": "stdout",
     "output_type": "stream",
     "text": [
      "Salut\n",
      "tout\n",
      "le\n",
      "monde!\n",
      "Salut"
     ]
    }
   ],
   "source": [
    "s = \"Salut tout le monde!\"\n",
    "\n",
    "for char in s:\n",
    "    if char == \" \":\n",
    "        print()\n",
    "    else:\n",
    "        print(char, end = \"\")\n",
    "        \n",
    "print()\n",
    "for char in s:\n",
    "    if char == \" \":\n",
    "        break\n",
    "    else:\n",
    "        print(char, end = \"\")"
   ]
  },
  {
   "cell_type": "code",
   "execution_count": 9,
   "id": "8cb214d9",
   "metadata": {},
   "outputs": [
    {
     "name": "stdout",
     "output_type": "stream",
     "text": [
      "[1, 2, 3]\n",
      "[4, 5, 6]\n",
      "[7, 8, 9]\n",
      "*************\n",
      "4\n",
      "5\n",
      "6\n",
      "*************\n",
      "2\n",
      "5\n",
      "8\n"
     ]
    }
   ],
   "source": [
    "L = [[1, 2, 3], [4, 5, 6], [7, 8, 9]]\n",
    "\n",
    "for i in range(3): # 0, 1, 2\n",
    "    print(L[i])\n",
    "    \n",
    "print(\"*************\")\n",
    "\n",
    "for i in range(3):\n",
    "    print(L[1][i])\n",
    "    \n",
    "print(\"*************\")\n",
    "\n",
    "for i in range(3):\n",
    "    print(L[i][1])"
   ]
  },
  {
   "cell_type": "code",
   "execution_count": 10,
   "id": "eb8b8669",
   "metadata": {},
   "outputs": [
    {
     "name": "stdout",
     "output_type": "stream",
     "text": [
      "pas de surprise\n",
      "[1, 2, 5] [3, 4]\n",
      "[1, 2, 3, 4]\n",
      "***********************\n",
      "!!ATTENTION!!\n",
      "[[1], [2, 5]] [[3], [4]]\n",
      "[[1], [2, 5], [3], [4]]\n"
     ]
    }
   ],
   "source": [
    "print(\"pas de surprise\")\n",
    "L1 = [1, 2]\n",
    "L2 = [3, 4]\n",
    "L = L1 + L2\n",
    "L1.append(5)\n",
    "print(L1, L2)\n",
    "print(L)\n",
    "\n",
    "print(\"***********************\")\n",
    "print(\"!!ATTENTION!!\")\n",
    "L1 = [[1], [2]]\n",
    "L2 = [[3], [4]]\n",
    "L = L1 + L2\n",
    "L1[1].append(5)\n",
    "print(L1, L2)\n",
    "print(L)"
   ]
  },
  {
   "cell_type": "code",
   "execution_count": 11,
   "id": "181f69f1",
   "metadata": {},
   "outputs": [
    {
     "name": "stdout",
     "output_type": "stream",
     "text": [
      "pas de surprise\n",
      "[1, 1]\n",
      "[] [1, 1]\n",
      "***********************\n",
      "!!ATTENTION!!\n",
      "[[1], [1]]\n",
      "[[], []]\n"
     ]
    }
   ],
   "source": [
    "print(\"pas de surprise\")\n",
    "L = [1]\n",
    "L1 = L * 2\n",
    "print(L1)\n",
    "L.pop()\n",
    "print(L, L1)\n",
    "\n",
    "print(\"***********************\")\n",
    "print(\"!!ATTENTION!!\")\n",
    "L = [[1]]\n",
    "L1 = L * 2\n",
    "print(L1)\n",
    "L[0].pop()\n",
    "print(L1)"
   ]
  },
  {
   "cell_type": "code",
   "execution_count": 12,
   "id": "4ab5d2d4",
   "metadata": {},
   "outputs": [
    {
     "name": "stdout",
     "output_type": "stream",
     "text": [
      "L = [10, 20, 30], L1 = [10, 20, 30]\n",
      "L = [10, 20, 30, 40], L1 = [10, 50, 30]\n"
     ]
    }
   ],
   "source": [
    "L = [10, 20, 30]\n",
    "L1 = L.copy()\n",
    "print(f\"{L = }, {L1 = }\")\n",
    "L1[1] = 50\n",
    "L.append(40)\n",
    "print(f\"{L = }, {L1 = }\")"
   ]
  },
  {
   "cell_type": "code",
   "execution_count": 14,
   "id": "85d5bbf5",
   "metadata": {},
   "outputs": [
    {
     "name": "stdout",
     "output_type": "stream",
     "text": [
      "L = [[10], [20], [30]], L1 = [[10], [20], [30]]\n",
      "L = [[10, 40], [20], [30]], L1 = [[10, 40], 50, [30]]\n"
     ]
    }
   ],
   "source": [
    "L = [[10], [20], [30]]\n",
    "L1 = L.copy()\n",
    "print(f\"{L = }, {L1 = }\")\n",
    "L1[1] = 50\n",
    "L[0].append(40)\n",
    "print(f\"{L = }, {L1 = }\")"
   ]
  },
  {
   "cell_type": "code",
   "execution_count": 15,
   "id": "3deadffb",
   "metadata": {},
   "outputs": [
    {
     "name": "stdout",
     "output_type": "stream",
     "text": [
      "[2, 5, 8, 'h', 'a', 'h', 'a']\n"
     ]
    }
   ],
   "source": [
    "print(list(range(2, 10, 3)) + list(\"haha\"))"
   ]
  },
  {
   "cell_type": "code",
   "execution_count": 16,
   "id": "d34b50fe",
   "metadata": {},
   "outputs": [
    {
     "name": "stdout",
     "output_type": "stream",
     "text": [
      "[0, 1, 2, 3, 4, 5, 6, 7, 8, 9, 10]\n",
      "[0, 3, 6, 9]\n",
      "[0, 6]\n"
     ]
    }
   ],
   "source": [
    "L = [x for x in range(11)]\n",
    "print(L)\n",
    "L1 = [x for x in range(11) if x % 3 == 0]\n",
    "print(L1)\n",
    "L2 = [x for x in L1 if x % 2 == 0]\n",
    "print(L2)"
   ]
  },
  {
   "cell_type": "code",
   "execution_count": 17,
   "id": "aa55c62d",
   "metadata": {},
   "outputs": [
    {
     "name": "stdout",
     "output_type": "stream",
     "text": [
      "[0.0, 0.5, 1.0, 1.5]\n"
     ]
    }
   ],
   "source": [
    "L = [y/2 for y in range(4)]\n",
    "print(L)"
   ]
  },
  {
   "cell_type": "code",
   "execution_count": 18,
   "id": "c9fcd42f",
   "metadata": {},
   "outputs": [
    {
     "name": "stdout",
     "output_type": "stream",
     "text": [
      "['hh', 'ee', 'll', 'll', 'oo']\n",
      "\n",
      "['h!', 'e!', 'l!', 'l!', 'o!']\n",
      "\n",
      "['h', 'l', 'l', 'o']\n"
     ]
    }
   ],
   "source": [
    "print([x*2 for x in \"hello\"])\n",
    "print()\n",
    "print([x + y for x in \"hello\" for y in \"!\"])\n",
    "print()\n",
    "print([x for x in \"hello\" if x > \"g\"])"
   ]
  },
  {
   "cell_type": "markdown",
   "id": "d7d4c4b5",
   "metadata": {},
   "source": [
    "***"
   ]
  },
  {
   "cell_type": "markdown",
   "id": "93af5ad4",
   "metadata": {},
   "source": [
    "## Exercice 2"
   ]
  },
  {
   "cell_type": "markdown",
   "id": "161163ff",
   "metadata": {},
   "source": [
    "Effectuez cette suite d'opérations sur la liste `L = [1, 2, 3, 4]`:\n",
    "\n",
    "- ajoutez l'élément 5 à la fin\n",
    "- enlevez l'élément de valeur 2\n",
    "- insérez l'élément -1 à l'indice 3\n",
    "- affectez la valeur 2 à l'élément d'indice 1\n",
    "- enlevez le dernier élément de la liste\n",
    "- insérez l'élément 3 à l'indice 2\n",
    "- enlevez l'élément d'indice 4\n",
    "\n",
    "Affichez la liste après chaque opération."
   ]
  },
  {
   "cell_type": "code",
   "execution_count": 26,
   "id": "ac523dc6",
   "metadata": {},
   "outputs": [
    {
     "name": "stdout",
     "output_type": "stream",
     "text": [
      "[1, 2, 3, 4]\n",
      "[1, 2, 3, 4, 5]\n",
      "[1, 3, 4, 5]\n",
      "[1, 3, 4, -1, 5]\n",
      "[1, 2, 4, -1, 5]\n",
      "[1, 2, 4, -1]\n",
      "[1, 2, 3, 4, -1]\n",
      "[1, 2, 3, 4]\n"
     ]
    }
   ],
   "source": [
    "L = [1, 2, 3, 4]\n",
    "print(L)\n",
    "\n",
    "L += [5]\n",
    "print(L)\n",
    "\n",
    "L.pop(L.index(2))\n",
    "print(L)\n",
    "\n",
    "L[3:3] = [-1]\n",
    "print(L)\n",
    "\n",
    "L[1] = 2\n",
    "print(L)\n",
    "\n",
    "L = L[:-1]\n",
    "print(L)\n",
    "\n",
    "L[2:2] = [3]\n",
    "print(L)\n",
    "\n",
    "L.pop(4)\n",
    "print(L)\n"
   ]
  },
  {
   "cell_type": "markdown",
   "id": "cd1c99be",
   "metadata": {},
   "source": [
    "***"
   ]
  },
  {
   "cell_type": "markdown",
   "id": "f0ecec88",
   "metadata": {},
   "source": [
    "## Exercice 3\n"
   ]
  },
  {
   "cell_type": "markdown",
   "id": "2c378cef",
   "metadata": {},
   "source": [
    "Ecrivez une fonction qui prend en entrée un entier $\\verb?n?$ positif et qui retourne la liste contenant les nombres $1, 2, ... n$:\n",
    "\n",
    "**(a)** En utilisant `list()`"
   ]
  },
  {
   "cell_type": "code",
   "execution_count": 28,
   "id": "2d37d613",
   "metadata": {},
   "outputs": [
    {
     "data": {
      "text/plain": [
       "[1, 2, 3, 4, 5]"
      ]
     },
     "execution_count": 28,
     "metadata": {},
     "output_type": "execute_result"
    }
   ],
   "source": [
    "def a(n):\n",
    "    return [n for n in range(1, n+1)]\n",
    "\n",
    "a(5)"
   ]
  },
  {
   "cell_type": "markdown",
   "id": "bf00abd9",
   "metadata": {},
   "source": [
    "\n",
    "**(b)** En utilisant une boucle (sans compréhension de liste)"
   ]
  },
  {
   "cell_type": "code",
   "execution_count": 30,
   "id": "1cf835a1",
   "metadata": {},
   "outputs": [
    {
     "data": {
      "text/plain": [
       "[1, 2, 3, 4, 5]"
      ]
     },
     "execution_count": 30,
     "metadata": {},
     "output_type": "execute_result"
    }
   ],
   "source": [
    "b = []\n",
    "n = 5\n",
    "for i in range(1, n+1):\n",
    "    b.append(i)\n",
    "b"
   ]
  },
  {
   "cell_type": "markdown",
   "id": "98d06a2e",
   "metadata": {},
   "source": [
    "\n",
    "**(c)** En utilisant une compréhension de liste"
   ]
  },
  {
   "cell_type": "code",
   "execution_count": 31,
   "id": "6fb6b402",
   "metadata": {},
   "outputs": [
    {
     "data": {
      "text/plain": [
       "[1, 2, 3, 4, 5]"
      ]
     },
     "execution_count": 31,
     "metadata": {},
     "output_type": "execute_result"
    }
   ],
   "source": [
    "[n for n in range(1, n+1)]"
   ]
  },
  {
   "cell_type": "markdown",
   "id": "8105bb52",
   "metadata": {},
   "source": [
    "***"
   ]
  },
  {
   "cell_type": "markdown",
   "id": "dc1358bc",
   "metadata": {},
   "source": [
    "## Exercice 4 : simuler les opérations sur les listes\n"
   ]
  },
  {
   "cell_type": "markdown",
   "id": "cf239c50",
   "metadata": {},
   "source": [
    "**(a)** Sans utiliser la fonction `max()`, écrire une fonction qui prend une liste de nombres en entrée et retourne la plus grande valeur de la liste. Si la liste est vide, elle doit retourner `None`. \n"
   ]
  },
  {
   "cell_type": "code",
   "execution_count": 41,
   "id": "b1e5be93",
   "metadata": {},
   "outputs": [
    {
     "data": {
      "text/plain": [
       "91"
      ]
     },
     "execution_count": 41,
     "metadata": {},
     "output_type": "execute_result"
    }
   ],
   "source": [
    "li = [3, 4, 5, 7, 2, 9, -1, 6.4, 91, -87.69, 69]\n",
    "\n",
    "[x for x in li if all(y <= x for y in li)][0]"
   ]
  },
  {
   "cell_type": "markdown",
   "id": "991423a6",
   "metadata": {},
   "source": [
    "\n",
    "**(b)** Sans utiliser la fonction `count()`, écrire une fonction qui prend une liste `L` de nombres et une valeur `x` en entrée et retourne le nombre d'occurrences de `x` dans `L`."
   ]
  },
  {
   "cell_type": "code",
   "execution_count": 42,
   "id": "ece4aea5",
   "metadata": {},
   "outputs": [
    {
     "data": {
      "text/plain": [
       "3"
      ]
     },
     "execution_count": 42,
     "metadata": {},
     "output_type": "execute_result"
    }
   ],
   "source": [
    "li = [3, 7, 2, 9, 4, 7, 1, 3, 8, 6, 2, 2, 9, 4]\n",
    "y = 2\n",
    "\n",
    "len([i for i in li if i == y])"
   ]
  },
  {
   "cell_type": "markdown",
   "id": "d8200478",
   "metadata": {},
   "source": [
    "\n",
    "**(c)** Sans utiliser la fonction `index()`, écrire une fonction qui prend une liste `L` de nombres et une valeur `x` en entrée et retourne l'index de la première occurrence de `x` dans `L` si `L` contient la valeur `x`, et `None` sinon."
   ]
  },
  {
   "cell_type": "code",
   "execution_count": 48,
   "id": "04cca1db",
   "metadata": {},
   "outputs": [
    {
     "data": {
      "text/plain": [
       "9"
      ]
     },
     "execution_count": 48,
     "metadata": {},
     "output_type": "execute_result"
    }
   ],
   "source": [
    "li = [3, 7, 2, 9, 4, 7, 1, 3, 8, 6, 2, 2, 9, 4]\n",
    "y = 6\n",
    "\n",
    "[i for i, j in enumerate(li) if j == y][0]"
   ]
  },
  {
   "cell_type": "markdown",
   "id": "72e59410",
   "metadata": {},
   "source": [
    "***"
   ]
  },
  {
   "cell_type": "markdown",
   "id": "7f2f9e51",
   "metadata": {},
   "source": [
    "## Exercice 5"
   ]
  },
  {
   "cell_type": "markdown",
   "id": "4c51f9fb",
   "metadata": {},
   "source": [
    "**(a)** Ecrivez une fonction qui prend en entrée une liste `L` de nombres et retourne la somme des éléments de `L` (sans utiliser la fonction`sum()`). Votre fonction doit retourner 0 si la liste est vide.\n"
   ]
  },
  {
   "cell_type": "code",
   "execution_count": 59,
   "id": "a5a5241a",
   "metadata": {},
   "outputs": [
    {
     "data": {
      "text/plain": [
       "[0, 3, 10, 12, 21, 25, 32, 33, 36, 44, 50, 52, 54, 63, 67]"
      ]
     },
     "execution_count": 59,
     "metadata": {},
     "output_type": "execute_result"
    }
   ],
   "source": [
    "li = [3, 7, 2, 9, 4, 7, 1, 3, 8, 6, 2, 2, 9, 4]\n",
    "\n",
    "[s := 0] + [s := s + x for x in li]"
   ]
  },
  {
   "cell_type": "markdown",
   "id": "605b2842",
   "metadata": {},
   "source": [
    "\n",
    "**(b)** Ecrivez une fonction qui prend en entrée une liste `L` de nombres et retourne une nouvelle liste `L1` contenant uniquement les éléments pairs de `L`:\n",
    "- avec une boucle (sans compréhension de liste)\n",
    "- avec une compréhension de liste\n"
   ]
  },
  {
   "cell_type": "code",
   "execution_count": 61,
   "id": "a19c4df5",
   "metadata": {},
   "outputs": [
    {
     "name": "stdout",
     "output_type": "stream",
     "text": [
      "[2, 4, 8, 6, 2, 2, 4]\n"
     ]
    }
   ],
   "source": [
    "li = [3, 7, 2, 9, 4, 7, 1, 3, 8, 6, 2, 2, 9, 4]\n",
    "\n",
    "print([i for i in li if i%2 == 0])"
   ]
  },
  {
   "cell_type": "markdown",
   "id": "a63f3e69",
   "metadata": {},
   "source": [
    "\n",
    "**(c)** Ecrivez une fonction `list_intersection` qui prend en entrée deux listes `L1` et `L2` et retourne une nouvelle liste `L` contenant l'intersection de `L1` et `L2`, c'est-à-dire les éléments présents dans les deux listes. Par exemple, l'appel `list_intersection([1, 3, 5], [2, 3])` doit retourner la liste `[3]`. Ecrivez cette fonction\n",
    "- avec une boucle (sans compréhension de liste)\n",
    "- avec une compréhension de liste\n"
   ]
  },
  {
   "cell_type": "code",
   "execution_count": 66,
   "id": "f1da49d2",
   "metadata": {},
   "outputs": [
    {
     "name": "stdout",
     "output_type": "stream",
     "text": [
      "[3, 7, 2, 9, 4]\n"
     ]
    }
   ],
   "source": [
    "lia = [3, 7, 2, 9, 4, 7, 1, 3, 8, 6, 2, 2, 9, 4]\n",
    "lib = [3, 7, 2, 9, 4, 19]\n",
    "\n",
    "inter=[]\n",
    "[inter.append(j) for j in [i for i in lia if i in lib] if j not in inter]\n",
    "print(inter)\n"
   ]
  },
  {
   "cell_type": "markdown",
   "id": "d2ef3386",
   "metadata": {},
   "source": [
    "\n",
    "**(d)** Ecrivez une fonction qui calcule la somme d'un nombre indéterminé de nombres, sans passer par une liste. Votre fonction doit retourner 0 si aucun nombre n'est passé en argument."
   ]
  },
  {
   "cell_type": "code",
   "execution_count": 69,
   "id": "2191f3e1",
   "metadata": {},
   "outputs": [
    {
     "name": "stdout",
     "output_type": "stream",
     "text": [
      "18\n"
     ]
    }
   ],
   "source": [
    "def summ(*args):\n",
    "    print(sum(args))\n",
    "\n",
    "summ(1, 3, 5, 7, 2)"
   ]
  },
  {
   "cell_type": "markdown",
   "id": "fabb22d4",
   "metadata": {},
   "source": [
    "***"
   ]
  },
  {
   "cell_type": "markdown",
   "id": "cd63bc7e",
   "metadata": {},
   "source": [
    "## Exercice 6 : addition de matrices\n"
   ]
  },
  {
   "cell_type": "markdown",
   "id": "20dbbf10",
   "metadata": {},
   "source": [
    "<font color=grey>On rappelle la formule d'addition de matrices 2 x 2:\n",
    "\n",
    "$\\begin{pmatrix}\n",
    "a_1 & b_1\\\\\n",
    "c_1 & d_1\n",
    "\\end{pmatrix} + \n",
    "\\begin{pmatrix}\n",
    "a_2 & b_2\\\\\n",
    "c_2 & d_2\n",
    "\\end{pmatrix} =\n",
    "\\begin{pmatrix}\n",
    "a_1+a_2 & b_1+b_2\\\\\n",
    "c_1+c_2 & d_1+d_2\n",
    "\\end{pmatrix}$\n",
    "\n",
    "En général, la somme de deux matrices m x n $A$ et $B$ sera une matrices m x n où l'élément de coordonnées (i, j) (c'est-à-dire l'élément à la ligne i et colonne j) est la somme des éléments de coordonnées (i, j) dans chacune des deux matrices $A$ et $B$. Par exemple\n",
    "\n",
    "$\\begin{pmatrix}\n",
    "1 & 2 & 3\\\\\n",
    "4 & 5 & 6\\\\\n",
    "\\end{pmatrix} + \n",
    "\\begin{pmatrix}\n",
    "10 & 20 & 30\\\\\n",
    "40 & 50 & 60\\\\\n",
    "\\end{pmatrix} =\n",
    "\\begin{pmatrix}\n",
    "11 & 22 & 33\\\\\n",
    "44 & 55 & 66\\\\\n",
    "\\end{pmatrix}.$</font>\n",
    "\n",
    "**(a)** Ecrivez une fonction `somme_mat_2x2` qui prend en entrée deux listes de listes représentant des matrices 2x2, comme vu au cours, et qui retourne une liste de listes représentant la somme des deux matrices données.\n",
    "\n",
    "Par exemple, l'appel `somme_mat_2x2([[1, 2],[3, 4]], [[5, 6],[7, 8]])` doit retourner la liste `[[6, 8],[10, 12]]`."
   ]
  },
  {
   "cell_type": "code",
   "execution_count": null,
   "id": "53f9fb40",
   "metadata": {},
   "outputs": [],
   "source": [
    "# Réponse au point a\n"
   ]
  },
  {
   "cell_type": "markdown",
   "id": "b9a1dd34",
   "metadata": {},
   "source": [
    "\n",
    "**(b)** Ecrivez une fonction `somme_mat` qui prend en entrées deux listes de listes représentant deux matrices de même taille, et qui retourne une liste de listes représentant la somme des deux matrices données.\n",
    "\n",
    "Remarquez qu'à la différence de la partie (a) (où vous avez pu construire la matrice somme \"à la main\"), il vous faudra maintenant itérer sur les listes données. Commencez par trouver les dimensions des matrices..."
   ]
  },
  {
   "cell_type": "code",
   "execution_count": 77,
   "id": "35bb0cc0",
   "metadata": {},
   "outputs": [
    {
     "data": {
      "text/plain": [
       "[[2, 7, 6], [4, 9, 4]]"
      ]
     },
     "execution_count": 77,
     "metadata": {},
     "output_type": "execute_result"
    }
   ],
   "source": [
    "def somm(matrix1, matrix2):\n",
    "    lignes = len(matrix1)\n",
    "    return [[i+j for i, j in zip(matrix1[k], matrix2[k])] for k in range(lignes)]\n",
    "\n",
    "matrix1 = [[1, 2, 3],\n",
    "           [2, 3, 5]]\n",
    "\n",
    "matrix2 = [[1, 5, 3],\n",
    "           [2, 6, -1]]\n",
    "\n",
    "somm(matrix1, matrix2)\n",
    "    "
   ]
  },
  {
   "cell_type": "markdown",
   "id": "e7733909",
   "metadata": {},
   "source": [
    "---"
   ]
  },
  {
   "cell_type": "markdown",
   "id": "df04a252",
   "metadata": {},
   "source": [
    "# Exercice 7 : listes et matrices"
   ]
  },
  {
   "cell_type": "markdown",
   "id": "40558903",
   "metadata": {},
   "source": [
    "<font color=greblueen> Chaque semaine, je vous propose un exercice sans corrigé détaillé mais en vous indiquant la réponse finale. Ce sera donc à vous de faire l'effort de résoudre ce problème à l'aide des ressources à disposition : vos notes de cours, les forums sur internet ou même ChatGPT du moment que vous faites l'effort de comprendre le code que vous fournit ce Chatbot! </font>"
   ]
  },
  {
   "cell_type": "markdown",
   "id": "46929e65",
   "metadata": {},
   "source": [
    "\n",
    "**(a)** Ecrivez une fonction `matrix_extract_col` qui prend en entrée une liste de listes `L` représentant une matrice, et un indice `k`, et retourne une liste `col` contenant les éléments de la `k`-ème colonne de `L`.\n",
    "\n",
    "Par exemple, les instructions \n",
    "\n",
    "`L = [['a', 'b', 'c'], ['d', 'e', 'f']]`\n",
    "\n",
    "`print(matrix_extract_col(L, 1))`\n",
    "\n",
    "doivent afficher \n",
    "\n",
    "`['b', 'e']`\n",
    "\n",
    "Il n'y a pas besoin de vérifier que `L` correspond à une matrice bien définie: on peut supposer que `L`contient `m` éléments (correspondant aux `m` lignes de la matrice) qui sont toutes des listes de même taille `n` (correspondant aux `n` colonnes de la matrice)."
   ]
  },
  {
   "cell_type": "code",
   "execution_count": null,
   "id": "1d7de865",
   "metadata": {},
   "outputs": [],
   "source": [
    "# Réponse au point (a)"
   ]
  },
  {
   "cell_type": "markdown",
   "id": "38087521",
   "metadata": {},
   "source": [
    "\n",
    "**(b)** Etant donné une matrice $M$ à $m$ lignes et $n$ colonnes, sa **transposée** est la matrice à $n$ lignes et $m$ colonnes dont les lignes sont les colonnes de $M$  et les colonnes sont les lignes de $M$. Par exemple, la transposée de \n",
    "\n",
    "$\\left(\\begin{matrix}\n",
    "a&b&c\\\\\n",
    "d&e&f\\\\\n",
    "\\end{matrix}\\right)$ \n",
    "\n",
    "est \n",
    "\n",
    "$\\left(\\begin{matrix}\n",
    "a & d \\\\\n",
    "b & e \\\\\n",
    "c&f \\\\\n",
    "\\end{matrix}\\right)$.\n",
    "\n",
    "\n",
    "Ecrivez une fonction `matrix_transpose` qui prend en entrée une liste de listes `L` représentant une matrice, et retourne un nouvel objet représentant la matrice transposée de `L`. Vous devrez pour ceci utiliser la fonction définie au point précédent.\n",
    "\n",
    "Par exemple, les instructions\n",
    "\n",
    "`L = [['a', 'b', 'c'], ['d', 'e', 'f']]`\n",
    "\n",
    "`print(matrix_transpose(L))`\n",
    "\n",
    "doivent afficher\n",
    "\n",
    "`[['a', 'd'], ['b', 'e'], ['c', 'f']]`"
   ]
  },
  {
   "cell_type": "code",
   "execution_count": null,
   "id": "a066608a",
   "metadata": {},
   "outputs": [],
   "source": [
    "# Réponse au point (b)"
   ]
  }
 ],
 "metadata": {
  "kernelspec": {
   "display_name": "Python 3 (ipykernel)",
   "language": "python",
   "name": "python3"
  },
  "language_info": {
   "codemirror_mode": {
    "name": "ipython",
    "version": 3
   },
   "file_extension": ".py",
   "mimetype": "text/x-python",
   "name": "python",
   "nbconvert_exporter": "python",
   "pygments_lexer": "ipython3",
   "version": "3.13.0"
  }
 },
 "nbformat": 4,
 "nbformat_minor": 5
}
