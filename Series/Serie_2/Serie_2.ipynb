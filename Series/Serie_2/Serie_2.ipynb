{
 "cells": [
  {
   "cell_type": "markdown",
   "id": "edc3967b",
   "metadata": {},
   "source": [
    "# ICS - Travaux Pratiques 2\n",
    "\n",
    "05.03.25\n",
    "\n",
    "\n",
    "<font color=grey>_Ce deuxième travail pratique contient essentiellement des exercices vous permettant de maitriser l'usage des structures de contrôle vues en cours : `if`, `for` et `while`. L'accent est mis sur la différence d'utilisation entre ces deux dernières commandes, ainsi que sur la bonne utilisation des conditions booléennes associées._\n",
    "\n",
    "_Dans ce TP, nous continuerons d'utiliser la fonction `input()` pour interagir avec la personne derrière le clavier. Ceci peut soulever quelques problèmes notamment lorsqu'on souhaite sortir de la boucle `while` après un nombre arbitraire d'itérations. Pour palier ce problème, nous vous recommandons fortement de parcourir le Notebook <font color=pink>Moyenne - boucle while </font> qui est mis à votre disposition sur le Moodle, mais qui n'a pas été et ne sera pas traité pendant les périodes de théorie._\n",
    "\n",
    "\n",
    "\n",
    "_Note : ne vous sentez pas obligé.e.s de finir la série pendant la séance! Celle-ci est conçue de manière à ce que vous gardiez certains exercices pour vos révisions._ </font>"
   ]
  },
  {
   "cell_type": "markdown",
   "id": "9405577c",
   "metadata": {},
   "source": [
    "***\n",
    "***"
   ]
  },
  {
   "cell_type": "markdown",
   "id": "12ddb78f",
   "metadata": {
    "tags": []
   },
   "source": [
    "## Exercice 1 : qu'affichent les programmes suivants\n"
   ]
  },
  {
   "cell_type": "markdown",
   "id": "e7df23b5",
   "metadata": {},
   "source": [
    "Essayez de prédire la sortie de programmes ci-dessous et n'hésitez pas à changer les valeurs et tester différents paramètres ! "
   ]
  },
  {
   "cell_type": "code",
   "execution_count": 7,
   "id": "923eedf2",
   "metadata": {},
   "outputs": [
    {
     "name": "stdout",
     "output_type": "stream",
     "text": [
      "False True\n",
      "False\n",
      "True\n",
      "True\n"
     ]
    }
   ],
   "source": [
    "x = 3\n",
    "y = 4\n",
    "print(x % 2 == 0, y % 2 == 0)\n",
    "print(x > 3 and y > 3)\n",
    "print(x > 3 or y > 3)\n",
    "print(not x > 3)"
   ]
  },
  {
   "cell_type": "code",
   "execution_count": 8,
   "id": "89919303-71e1-4382-afae-bfa44a8fa952",
   "metadata": {
    "tags": []
   },
   "outputs": [
    {
     "name": "stdout",
     "output_type": "stream",
     "text": [
      "P y t h o n "
     ]
    }
   ],
   "source": [
    "# on peut parcourir une chaîne de caractères\n",
    "\n",
    "for i in \"Python\":\n",
    "    print(i, end = ' ')"
   ]
  },
  {
   "cell_type": "code",
   "execution_count": 9,
   "id": "ee4a524f-4bf1-47fb-b53a-882539682c32",
   "metadata": {
    "tags": []
   },
   "outputs": [
    {
     "name": "stdout",
     "output_type": "stream",
     "text": [
      "On peut aussi comparer des chaînes de caractères!\n",
      "\n",
      "Les lettres sont ordonnées alphabétiquement:\n",
      "\n",
      "a est plus petit que b.\n",
      "\n",
      "Dans l'ordre alphabétique, les majuscules A à Z apparaissent avant les minuscules a à z:\n",
      "\n",
      "a est plus grand que Z.\n",
      "\n",
      "Les mots sont ordonnés lexicographiquement, comme dans le dictionnaire:\n",
      "\n",
      "Luc vient avant Luke\n",
      "baobab vient avant boa\n"
     ]
    }
   ],
   "source": [
    "print(\"On peut aussi comparer des chaînes de caractères!\\n\")\n",
    "print(\"Les lettres sont ordonnées alphabétiquement:\\n\")\n",
    "\n",
    "if 'a' < 'b':\n",
    "    print(\"a est plus petit que b.\\n\")\n",
    "else:\n",
    "    print(\"b est plus petit que a.\\n\")\n",
    "\n",
    "print(\"Dans l'ordre alphabétique, les majuscules A à Z apparaissent avant les minuscules a à z:\\n\")\n",
    "\n",
    "if 'a' < 'Z':\n",
    "    print(\"a est plus petit que Z.\\n\")\n",
    "else:\n",
    "    print(\"a est plus grand que Z.\\n\")\n",
    "    \n",
    "print(\"Les mots sont ordonnés lexicographiquement, comme dans le dictionnaire:\\n\")\n",
    "\n",
    "str1 = 'Luc'\n",
    "str2 = 'Luke'\n",
    "if str1 < str2:\n",
    "    print(f\"{str1} vient avant {str2}\")\n",
    "else:\n",
    "    print(f\"{str2} vient avant {str1}\")\n",
    "    \n",
    "str1 = 'boa'\n",
    "str2 = 'baobab'\n",
    "if str1 < str2:\n",
    "    print(f\"{str1} vient avant {str2}\")\n",
    "else:\n",
    "    print(f\"{str2} vient avant {str1}\")\n"
   ]
  },
  {
   "cell_type": "code",
   "execution_count": 10,
   "id": "e0a5a540",
   "metadata": {},
   "outputs": [
    {
     "name": "stdout",
     "output_type": "stream",
     "text": [
      "x = 3\n",
      "True\n"
     ]
    }
   ],
   "source": [
    "x = 3\n",
    "if x == 3:\n",
    "    print(\"x = 3\")\n",
    "    \n",
    "if x == 4:\n",
    "    print(x == 4)\n",
    "else:\n",
    "    print(x != 4)"
   ]
  },
  {
   "cell_type": "code",
   "execution_count": 11,
   "id": "16a62091",
   "metadata": {},
   "outputs": [
    {
     "name": "stdout",
     "output_type": "stream",
     "text": [
      "0 1 2 3 4 5 6 \n",
      "3 4 5 6 \n",
      "\n",
      "10 20 30 40 50 60 70 80 90 \n",
      "5 1 -3 -7 -11 -15 -19 "
     ]
    }
   ],
   "source": [
    "for a in range(7):\n",
    "    print(a, end = \" \")\n",
    "print()\n",
    "\n",
    "for a in range(3, 7):\n",
    "    print(a, end = \" \")\n",
    "print()\n",
    "      \n",
    "for a in range(7, 3):\n",
    "    print(a, end = \" \")\n",
    "print()\n",
    "    \n",
    "for a in range(10, 100, 10):\n",
    "    print(a, end = \" \")\n",
    "print()\n",
    "    \n",
    "for a in range(5, -20, -4):\n",
    "    print(a, end = \" \")"
   ]
  },
  {
   "cell_type": "code",
   "execution_count": 12,
   "id": "10683208",
   "metadata": {},
   "outputs": [
    {
     "name": "stdout",
     "output_type": "stream",
     "text": [
      "0\n",
      "10\n",
      "20\n",
      "30\n",
      "40\n",
      "50\n",
      "60\n",
      "70\n",
      "80\n",
      "90\n"
     ]
    }
   ],
   "source": [
    "i = 0\n",
    "while i < 100:\n",
    "    if i % 10 == 0:\n",
    "        print(i)\n",
    "    i += 1"
   ]
  },
  {
   "cell_type": "markdown",
   "id": "09bded7c",
   "metadata": {},
   "source": [
    "Quelle est la différence entre les affichages produits par les deux boucles while ci-dessous?"
   ]
  },
  {
   "cell_type": "code",
   "execution_count": 13,
   "id": "9549008a",
   "metadata": {},
   "outputs": [
    {
     "name": "stdout",
     "output_type": "stream",
     "text": [
      "0 1 2 3 4 5 6 7 8 9 \n",
      "1 2 3 4 5 6 7 8 9 10 "
     ]
    }
   ],
   "source": [
    "i = 0\n",
    "while i < 10:\n",
    "    print(i, end = \" \")\n",
    "    i += 1\n",
    "    \n",
    "print()\n",
    "    \n",
    "i = 0\n",
    "while i < 10:\n",
    "    i += 1\n",
    "    print(i, end = \" \")"
   ]
  },
  {
   "cell_type": "markdown",
   "id": "a2c1c47c-c27f-4f1e-8f49-41b3963ece4c",
   "metadata": {},
   "source": [
    "Et quelle est la meilleure méthode pour comparer deux nombres?"
   ]
  },
  {
   "cell_type": "code",
   "execution_count": 14,
   "id": "7b9da2f1-342f-4837-b2b3-d00bcc1b820b",
   "metadata": {
    "tags": []
   },
   "outputs": [
    {
     "name": "stdout",
     "output_type": "stream",
     "text": [
      "Méthode 1 :\n",
      "Attention aux erreurs numériques\n",
      "\n",
      "Méthode 2 :\n",
      "x = 0.30000000000000004 !\n",
      "\n",
      "***"
     ]
    }
   ],
   "source": [
    "# Première méthode\n",
    "x = 0.1 + 0.1 + 0.1\n",
    "print(\"Méthode 1 :\")\n",
    "if x == 0.3:\n",
    "    print(f\"{x =} !\")\n",
    "else:\n",
    "    print(\"Attention aux erreurs numériques\",end = \"\\n\\n\")\n",
    "    \n",
    "# Deuxième méthode\n",
    "tol = 1e-3    \n",
    "x = 0.1 + 0.1 + 0.1\n",
    "print(\"Méthode 2 :\")\n",
    "if x-tol < 0.3 and x+tol > 0.3 :\n",
    "    print(f\"{x = } !\",end = \"\\n\\n***\")\n",
    "else:\n",
    "    print(\"Attention aux erreurs numériques!\")"
   ]
  },
  {
   "cell_type": "markdown",
   "id": "f8834fa1-6d0d-4c69-afa3-0faf153c8bc9",
   "metadata": {},
   "source": [
    "<font color=grey>Note avant d'exécuter la cellule suivante: \n",
    "\n",
    "- Pour interrompre le calcul en cours, vous pouvez cliquer sur \"Kernel > Interrupt Kernel\" dans le menu de Noto.\n",
    "- Pour effacer les résultats (output) des cellules,  \"Kernel > Restart Kernel and Clear all Output\"\n",
    "\n",
    "Soyez sûr.e d'avoir bien enregistré tous les fichiers ouverts sur votre ordinateur !!</font>"
   ]
  },
  {
   "cell_type": "code",
   "execution_count": null,
   "id": "e3829ef8-8931-4d8d-b4c8-5143ae535fa3",
   "metadata": {
    "tags": []
   },
   "outputs": [],
   "source": [
    "i = 0\n",
    "s = 0\n",
    "while i >= 0:\n",
    "    s += i\n",
    "    i += 1\n",
    "    print(\"Que se passe-t-il ?!\")"
   ]
  },
  {
   "cell_type": "code",
   "execution_count": 17,
   "id": "5d02e5ee-f67e-4e31-ae0a-325b308f1741",
   "metadata": {},
   "outputs": [
    {
     "name": "stdout",
     "output_type": "stream",
     "text": [
      "1 <= 5\n",
      "2 <= 5\n",
      "3 <= 5\n",
      "4 <= 5\n",
      "5 <= 5\n"
     ]
    }
   ],
   "source": [
    "i = 1 \n",
    "j = 1\n",
    "while j:\n",
    "    if i <= 5:\n",
    "        print(f\"{i} <= 5\")\n",
    "        i += 1\n",
    "    else:\n",
    "        j = 0"
   ]
  },
  {
   "cell_type": "code",
   "execution_count": 18,
   "id": "0a499070-c508-4f77-a400-c5f69e01de7f",
   "metadata": {
    "tags": []
   },
   "outputs": [
    {
     "name": "stdout",
     "output_type": "stream",
     "text": [
      "Try again\n",
      "Try again\n",
      "Try again\n",
      "Try again\n",
      "Try again\n",
      "Okay\n"
     ]
    }
   ],
   "source": [
    "b = -1\n",
    "while b < 4:\n",
    "    print(\"Try again\")\n",
    "    b += 1\n",
    "print(\"Okay\")"
   ]
  },
  {
   "cell_type": "markdown",
   "id": "779eb79d",
   "metadata": {},
   "source": [
    "***"
   ]
  },
  {
   "cell_type": "markdown",
   "id": "e27a0db3",
   "metadata": {},
   "source": [
    "# Exercice 2: affichage d'étoiles\n",
    "\n",
    "A l'aide de boucles `for` ou `while` imbriquées et de la fonction `print('*')`, et sans utiliser les opérateurs de concaténation de strings `+` ou `*`, produisez chacun des affichages suivants:\n",
    "\n",
    "\n",
    "**(a)** \n",
    "\n",
    "    * * * * *\n",
    "\n",
    "**(b)** \n",
    "\n",
    "    * * *\n",
    "    * * *\n",
    "    * * *\n",
    "    * * *\n",
    "    * * *\n",
    "**(c)**\n",
    "\n",
    "    * * * * *\n",
    "    * * * * *\n",
    "    * * * * *\n",
    "**(d)**\n",
    "\n",
    "    *\n",
    "    * *\n",
    "    * * *\n",
    "    * * * *"
   ]
  },
  {
   "cell_type": "code",
   "execution_count": 1,
   "id": "aa053699",
   "metadata": {},
   "outputs": [
    {
     "name": "stdout",
     "output_type": "stream",
     "text": [
      "* * * * * "
     ]
    }
   ],
   "source": [
    "for _ in range(5):\n",
    "    print('*', end=\" \")"
   ]
  },
  {
   "cell_type": "code",
   "execution_count": 3,
   "id": "61cbd91a",
   "metadata": {},
   "outputs": [
    {
     "name": "stdout",
     "output_type": "stream",
     "text": [
      "* * * \n",
      "* * * \n",
      "* * * \n",
      "* * * \n",
      "* * * \n"
     ]
    }
   ],
   "source": [
    "for _ in range(5):\n",
    "    for _ in range(3):\n",
    "        print('*', end=\" \")\n",
    "    print('')"
   ]
  },
  {
   "cell_type": "code",
   "execution_count": 4,
   "id": "84a9242f",
   "metadata": {},
   "outputs": [
    {
     "name": "stdout",
     "output_type": "stream",
     "text": [
      "* * * * * \n",
      "* * * * * \n",
      "* * * * * \n"
     ]
    }
   ],
   "source": [
    "for _ in range(3):\n",
    "    for _ in range(5):\n",
    "        print('*', end=\" \")\n",
    "    print('')"
   ]
  },
  {
   "cell_type": "code",
   "execution_count": 6,
   "id": "641ba1ee",
   "metadata": {},
   "outputs": [
    {
     "name": "stdout",
     "output_type": "stream",
     "text": [
      "* \n",
      "* * \n",
      "* * * \n",
      "* * * * \n"
     ]
    }
   ],
   "source": [
    "for i in range(4):\n",
    "    for _ in range(i + 1):\n",
    "        print('*', end=\" \")\n",
    "    print('')\n"
   ]
  },
  {
   "cell_type": "markdown",
   "id": "d74cb48b",
   "metadata": {},
   "source": [
    "***"
   ]
  },
  {
   "cell_type": "markdown",
   "id": "c7219a8c",
   "metadata": {
    "tags": []
   },
   "source": [
    "## Exercice 3 : valeur absolue\n",
    "\n"
   ]
  },
  {
   "cell_type": "markdown",
   "id": "4a5a92e5",
   "metadata": {},
   "source": [
    "Ecrivez un programme qui demande un nombre $x$ à l'utilisateur et affiche la valeur absolue de $x$.\n",
    "\n",
    "<font color = grey>NB : la fonction `abs()` permet de calculer directement la valeur absolue d'un nombre. Nous verrons la semaine prochaine comment travailler avec les fonctions, merci de ne pas l'utiliser pour cet exercice.</font>"
   ]
  },
  {
   "cell_type": "code",
   "execution_count": 20,
   "id": "001828f0",
   "metadata": {},
   "outputs": [
    {
     "name": "stdin",
     "output_type": "stream",
     "text": [
      "x:  6\n"
     ]
    },
    {
     "name": "stdout",
     "output_type": "stream",
     "text": [
      "abs(x)=6\n"
     ]
    }
   ],
   "source": [
    "x = int(input(\"x: \"))\n",
    "if x < 0:\n",
    "    x = -x\n",
    "print(f\"abs(x)={x}\")"
   ]
  },
  {
   "cell_type": "markdown",
   "id": "85e2585a",
   "metadata": {},
   "source": [
    "***"
   ]
  },
  {
   "cell_type": "markdown",
   "id": "c128cd2d",
   "metadata": {
    "tags": []
   },
   "source": [
    "## Exercice 4 : recherche du maximum\n"
   ]
  },
  {
   "cell_type": "markdown",
   "id": "00e39350",
   "metadata": {},
   "source": [
    "**a)** Ecrivez un programme qui prend deux réels de l'entrée standard et affiche le plus grand (sans utiliser la fonction `max()`).\n",
    "\n",
    "**b)** Même question avec trois réels."
   ]
  },
  {
   "cell_type": "code",
   "execution_count": 22,
   "id": "17c3bdcf",
   "metadata": {},
   "outputs": [
    {
     "name": "stdin",
     "output_type": "stream",
     "text": [
      "x:  85\n",
      "y:  6\n",
      "z:  4\n"
     ]
    },
    {
     "name": "stdout",
     "output_type": "stream",
     "text": [
      "max(85.0, 6.0, 4.0)=85.0\n"
     ]
    }
   ],
   "source": [
    "x = float(input(\"x: \"))\n",
    "y = float(input(\"y: \"))\n",
    "z = float(input(\"z: \"))\n",
    "if x > y:\n",
    "    if x > z:\n",
    "        print(f\"max{(x, y, z)}={x}\")\n",
    "    if x < z:\n",
    "        print(f\"max{(x, y, z)}={z}\")\n",
    "if x < y:\n",
    "    if y > z:\n",
    "        print(f\"max{(x, y, z)}={x}\")\n",
    "    if y < z:\n",
    "        print(f\"max{(x, y, z)}={z}\")\n",
    "    "
   ]
  },
  {
   "cell_type": "markdown",
   "id": "138ac4c6",
   "metadata": {},
   "source": [
    "***"
   ]
  },
  {
   "cell_type": "markdown",
   "id": "eda38bf0",
   "metadata": {
    "jupyter": {
     "source_hidden": true
    },
    "tags": []
   },
   "source": [
    "## Exercice 5 : classification d'un nombre\n",
    "\n"
   ]
  },
  {
   "cell_type": "markdown",
   "id": "5526bb20",
   "metadata": {},
   "source": [
    "Ecrivez un programme qui demande un nombre $x$ à l'utilisateur et selon la valeur de $x$, affiche soit $\\verb?x < 0?$, $\\verb?0 <= x < 10?$, $\\verb?10 <= x < 100?$ ou $\\verb?x >= 100?$. \n",
    "\n",
    "Par exemple, si l'utilisateur donne le nombre 53, le programme doit afficher:\n",
    "$\\verb?10 <= 53 < 100?$."
   ]
  },
  {
   "cell_type": "code",
   "execution_count": null,
   "id": "f3a699f9",
   "metadata": {},
   "outputs": [],
   "source": [
    "pass"
   ]
  },
  {
   "cell_type": "markdown",
   "id": "89af835e",
   "metadata": {},
   "source": [
    "***"
   ]
  },
  {
   "cell_type": "markdown",
   "id": "0d91701b",
   "metadata": {
    "tags": []
   },
   "source": [
    "## Exercice 6 : calcul de l'aire et du périmètre\n",
    "\n"
   ]
  },
  {
   "cell_type": "markdown",
   "id": "ee27a5ba",
   "metadata": {},
   "source": [
    "Jusqu'ici, nous avons écrit des programmes qui demandent à l'utilisateur d'entrer des données satisfaisant certaines conditions, mais nous n'étions pas en mesure de vérifier que l'utilisateur s'est bien conformé à nos instructions. Par exemple, dans l'exercice 5 de la série 1, notre programme demande à l'utilisateur un réel $r$ représentant le rayon d'un cercle. Si l'utilisateur fournit un nombre négatif, la donnée n'a pas de sens mathématique et notre programme calculera un périmètre négatif. Réécrivez ce programme pour que \n",
    "- tant que l'utilisateur entre un nombre négatif, il affiche un message d'erreur et redemande à l'utilisateur un nouveau $r$,\n",
    "- et lorsqu'il obtient un $r$ positif il effectue les calculs du périmètre et de l'aire.\n",
    "\n",
    "<font color = grey>**NB :** L'utilisateur peut fournir des données erronées d'autres manières. Vérifiez ce qui se passe lorsque l'utilisateur entre la valeur \"abc\". Plus tard dans le cours, lorsque nous aborderons les exceptions, nous verrons comment assurer un déroulement correct du programme même dans ce cas.</font>"
   ]
  },
  {
   "cell_type": "code",
   "execution_count": 25,
   "id": "41c1ad99",
   "metadata": {},
   "outputs": [
    {
     "name": "stdin",
     "output_type": "stream",
     "text": [
      "radius:  -4\n",
      "radius:  -4\n",
      "radius:  5\n"
     ]
    },
    {
     "name": "stdout",
     "output_type": "stream",
     "text": [
      "perimeter: 31.400000000000002\n"
     ]
    }
   ],
   "source": [
    "# Ecrivez votre réponse ici\n",
    "while _:\n",
    "    r = float(input(\"radius: \"))\n",
    "    if r > 0:\n",
    "        break\n",
    "print(f\"perimeter: {2*3.14*r}\")"
   ]
  },
  {
   "cell_type": "markdown",
   "id": "9521b5db",
   "metadata": {},
   "source": [
    "***"
   ]
  },
  {
   "cell_type": "markdown",
   "id": "8cdb46c1",
   "metadata": {
    "tags": []
   },
   "source": [
    "## Exercice 7 : somme des entiers pairs"
   ]
  },
  {
   "cell_type": "markdown",
   "id": "5ad927fd",
   "metadata": {},
   "source": [
    "**a)** Ecrivez un programme qui prend un entier $n$ de l'entrée standard et calcule la somme des nombres pairs entre $1$ et $n$ inclus à l'aide d'une boucle `while`.\n",
    "\n",
    "**b)** Même question mais avec une boucle `for`."
   ]
  },
  {
   "cell_type": "code",
   "execution_count": 2,
   "id": "d13c932b",
   "metadata": {},
   "outputs": [
    {
     "name": "stdin",
     "output_type": "stream",
     "text": [
      "n:  8\n"
     ]
    },
    {
     "name": "stdout",
     "output_type": "stream",
     "text": [
      "20\n"
     ]
    }
   ],
   "source": [
    "n = int(input(\"n: \"))\n",
    "i = 0\n",
    "liste = list(range(0, n + 1, 2))\n",
    "total = 0\n",
    "while i < len(liste):\n",
    "    total += liste[i]\n",
    "    i += 1\n",
    "print(total)\n"
   ]
  },
  {
   "cell_type": "code",
   "execution_count": 3,
   "id": "bb8e7661-90bd-413e-bc2d-30466994f7d6",
   "metadata": {
    "tags": []
   },
   "outputs": [
    {
     "name": "stdin",
     "output_type": "stream",
     "text": [
      "n:  8\n"
     ]
    },
    {
     "name": "stdout",
     "output_type": "stream",
     "text": [
      "20\n"
     ]
    }
   ],
   "source": [
    "n = int(input(\"n: \"))\n",
    "total = 0\n",
    "for i in range(0, n + 1, 2):\n",
    "    total += i\n",
    "print(total)\n"
   ]
  },
  {
   "cell_type": "markdown",
   "id": "6434ac71",
   "metadata": {},
   "source": [
    "***"
   ]
  },
  {
   "cell_type": "markdown",
   "id": "42f43cd9",
   "metadata": {
    "tags": []
   },
   "source": [
    "## Exercice 8 : recherche du maximum, version générale\n"
   ]
  },
  {
   "cell_type": "markdown",
   "id": "c88fdc13",
   "metadata": {},
   "source": [
    "**a)** Ecrivez un programme qui prend $N$ nombres rééels positifs en entrée et affiche le maximum de ces nombres.\n",
    "\n",
    "**b)** Même question, mais pour un nombre arbitraire de nombre réels. Gérez de manière appropriée l'interaction avec l'utilisateur pour savoir quand il aura fini d'entrer des nombres (<font color=pink>voir le notebook \"Moyenne - boucle while\"</font>)."
   ]
  },
  {
   "cell_type": "code",
   "execution_count": 5,
   "id": "ce2a78a6-982c-4c84-ad6c-972e26529e49",
   "metadata": {
    "tags": []
   },
   "outputs": [
    {
     "name": "stdin",
     "output_type": "stream",
     "text": [
      "add a number [s to stop]:  7\n",
      "add a number [s to stop]:  7\n",
      "add a number [s to stop]:  8\n",
      "add a number [s to stop]:  3\n",
      "add a number [s to stop]:  4\n",
      "add a number [s to stop]:  -4\n",
      "add a number [s to stop]:  3.6\n",
      "add a number [s to stop]:  10\n",
      "add a number [s to stop]:  10.1\n",
      "add a number [s to stop]:  s\n"
     ]
    },
    {
     "name": "stdout",
     "output_type": "stream",
     "text": [
      "10.1\n"
     ]
    }
   ],
   "source": [
    "top = 0\n",
    "while True:\n",
    "    n = input(\"add a number [s to stop]: \")\n",
    "    if n == \"s\":\n",
    "        break\n",
    "    n = float(n)\n",
    "    if n > top:\n",
    "        top = n\n",
    "print(top)"
   ]
  },
  {
   "cell_type": "markdown",
   "id": "465593af",
   "metadata": {},
   "source": [
    "***"
   ]
  },
  {
   "cell_type": "markdown",
   "id": "d08c4120",
   "metadata": {},
   "source": [
    "## Exercice 9 : recherche du maximum, version générale"
   ]
  },
  {
   "cell_type": "markdown",
   "id": "6a96944f",
   "metadata": {},
   "source": [
    "<font color=greblueen> Chaque semaine, je vous propose un exercice sans corrigé détaillé mais en vous indiquant la réponse finale. Ce sera donc à vous de faire l'effort de résoudre ce problème à l'aide des ressources à disposition : vos notes de cours, les forums sur internet ou même ChatGPT du moment que vous faites l'effort de comprendre le code que vous fournit ce Chatbot! </font>"
   ]
  },
  {
   "cell_type": "markdown",
   "id": "4ff70db5",
   "metadata": {},
   "source": [
    "Dans cet exercice, on cherche à prédire si une année est bissextile. On rappelle qu’une année est bissextile\n",
    "si :\n",
    "-   elle est divisible par 4 (Exemple : $\\dfrac{1992}{4} = 498$ donc $1992$ est bissextile) sauf\n",
    "-   si elle est également divisible par 100 (Exemple : $\\dfrac{1900}{100} = 19$, donc $1900$ n’est pas bissextile) sauf\n",
    "-   si elle est également divisible par 400 (Exemple : $\\dfrac{2000}{400} = 5$, donc $2000$ est bissextile).\n",
    "\n",
    "Ecrivez un programme qui demande un nombre correspondant à une année à l'utilisateur.ice, et qui vérifie si celle-ci est bissextile. Ce programme doit afficher\n",
    "- `2000 est une année bissextile`  si elle l'est, ou\n",
    "- `2005 n'est pas une année bissextile`  si elle ne l'est pas.\n",
    "\n",
    "Pour vérifier votre réponse, essayez avec plusieurs années !\n",
    "\n",
    "<font color=grey>Note : Vous n’avez pas besoin de vérifier que le nombre en entrée est bien un entier.</font>"
   ]
  },
  {
   "cell_type": "code",
   "execution_count": 4,
   "id": "15429d99",
   "metadata": {},
   "outputs": [
    {
     "name": "stdin",
     "output_type": "stream",
     "text": [
      "year:  2000\n"
     ]
    },
    {
     "name": "stdout",
     "output_type": "stream",
     "text": [
      "yes\n"
     ]
    }
   ],
   "source": [
    "yr = int(input(\"year: \"))\n",
    "while True:\n",
    "    if yr % 4 == 0:\n",
    "        if yr % 100 == 0:\n",
    "            if yr % 400 == 0:\n",
    "                print(\"yes\")\n",
    "                break\n",
    "            print(\"no\")\n",
    "            break\n",
    "        print(\"yes\")\n",
    "        break\n",
    "    print(\"no\")\n",
    "    break"
   ]
  },
  {
   "cell_type": "code",
   "execution_count": null,
   "id": "642ff434-0767-4b2a-8fe1-db9e30d15e92",
   "metadata": {},
   "outputs": [],
   "source": []
  }
 ],
 "metadata": {
  "kernelspec": {
   "display_name": "Python 3 (ipykernel)",
   "language": "python",
   "name": "python3"
  },
  "language_info": {
   "codemirror_mode": {
    "name": "ipython",
    "version": 3
   },
   "file_extension": ".py",
   "mimetype": "text/x-python",
   "name": "python",
   "nbconvert_exporter": "python",
   "pygments_lexer": "ipython3",
   "version": "3.13.0"
  }
 },
 "nbformat": 4,
 "nbformat_minor": 5
}
