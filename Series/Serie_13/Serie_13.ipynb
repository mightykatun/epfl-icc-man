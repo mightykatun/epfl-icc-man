{
 "cells": [
  {
   "cell_type": "markdown",
   "metadata": {
    "deletable": false,
    "editable": false,
    "run_control": {
     "frozen": true
    }
   },
   "source": [
    "# ICS - Travaux Pratiques 13\n",
    "\n",
    "29.05.24\n",
    "\n",
    "\n",
    "<font color=grey>_Dans ce 13e TP, nous allons continuer notre étude des méthodes d'approximation numérique d'intégrales définies. Nous reviendrons sur la différence entre une formule composite et non-composite et nous concentrerons sur une manière de placer les noeuds de manière à minimiser l'erreur sur l'intégrale, voire même d'obtenir un résultat exact._ \n",
    "\n",
    "_Note : ne vous sentez pas obligé.e.s de finir la série pendant la séance! Celle-ci est conçue de manière à ce que vous gardiez certains exercices pour vos révisions._ </font>"
   ]
  },
  {
   "cell_type": "code",
   "execution_count": 1,
   "metadata": {
    "deletable": false,
    "run_control": {
     "frozen": true
    }
   },
   "outputs": [],
   "source": [
    "# importation des librairies numpy et matplotlib que nous allons utiliser dans ce notebook  \n",
    "import numpy as np\n",
    "import matplotlib.pyplot as plt"
   ]
  },
  {
   "cell_type": "markdown",
   "metadata": {},
   "source": [
    "***"
   ]
  },
  {
   "cell_type": "markdown",
   "metadata": {},
   "source": [
    "## Exercice 1 : Base de Lagrange"
   ]
  },
  {
   "cell_type": "markdown",
   "metadata": {},
   "source": [
    "On considère la fonction $f(x)=x^3-2x+3$ qu'on aimerait interpoler par un polynôme en $x_0=-1$, $x_1=0$,  et $x_2=2$ en utilisant la base de Lagrange associée.\n",
    "\n",
    "1) Calculer $y_i=f(x_i)$\n",
    "2) Construire les éléments $\\varphi_i(x)$ de la base de Lagrange associée à ces trois points\n",
    "3) En extraire le polynôme d'interpolation $p(x)$\n",
    "4) Représenter graphiquement sur le même graphe :\n",
    "    - la fonction $f(x)$ en bleu et trait continu, \n",
    "    - le polynôme $p(x)$ en rouge et traitillés\n",
    "    - les éléments de la base de Lagrange $\\varphi_i(x)$ en traitillés et avec une transparence de 0.4 (on peut régler la transparence grâce au paramètre nommé `alpha` de la fonction `plot`)\n",
    "    - une légende appropriée\n",
    "4) Calculer l'erreur entre $f(x)$ et $p(x)$ en $x=1$. Comment expliquer cette erreur?\n",
    "5) Admettons qu'on ait utilisé un quatrième point pour interpoler notre polynôme, disons $x_4=1$. Sans effectuer aucun calcul, quel aurait été le polynôme d'interpolation $p'(x)=\\sum_i f(x_i)\\varphi_i(x)$?"
   ]
  },
  {
   "cell_type": "code",
   "execution_count": null,
   "metadata": {},
   "outputs": [],
   "source": [
    "# Réponse au point 4"
   ]
  },
  {
   "cell_type": "markdown",
   "metadata": {},
   "source": [
    "***"
   ]
  },
  {
   "cell_type": "markdown",
   "metadata": {},
   "source": [
    "## Exercice 2 : Application pratique des méthodes d'intégration"
   ]
  },
  {
   "cell_type": "markdown",
   "metadata": {},
   "source": [
    "Au cours d'une expérience, on observe qu'un objet se déplaçant en ligne droite passe par l'origine du repère choisi en $t=0\\,\\text{s}$ avec une vitesse de $10\\,\\text{m/s}$. Ensuite, sa vitesse a été mesurée à différents instants et ces mesures ont été consignées dans un fichier `vitesse.txt`.\n",
    "\n",
    "Dans cet exercice, il vous est demandé en particulier :\n",
    "* d'importer les données de vitesse et de temps qui se trouvent dans le fichier texte `vitesse.txt` ;\n",
    "* de représenter la vitesse de l'objet en fonction du temps en indiquant en rouge les points de mesure ;\n",
    "* de calculer numériquement et **le plus précisément possible**, la distance parcourue par l'objet en fonction du temps, en supposant que la vitesse de l'objet **varie de manière régulière** entre deux points de mesure. On rappelle que $x(t) = \\int_0^t v(t')\\,dt'$;\n",
    "* de représenter dans une même figure l'évolution de la vitesse de l'objet et de la distance parcourue par ce dernier depuis l'origine ;\n",
    "* d'afficher à quelle distance de l'origine se trouve l'objet à l'instant où la dernière mesure a été effectuée."
   ]
  },
  {
   "cell_type": "code",
   "execution_count": null,
   "metadata": {},
   "outputs": [],
   "source": []
  },
  {
   "cell_type": "markdown",
   "metadata": {},
   "source": [
    "***"
   ]
  },
  {
   "cell_type": "markdown",
   "metadata": {},
   "source": [
    "## Exercice 3 : Méthodes du point milieu, du trapèze, de Simpson"
   ]
  },
  {
   "cell_type": "markdown",
   "metadata": {},
   "source": [
    "Dans cet exercice, il vous est demandé de :\n",
    " * calculer numériquement l'intégrale définie\n",
    " $$\n",
    " I = \\int_{0}^{\\pi/2}{\\sin{(x)} \\,dx}\n",
    " $$\n",
    " \n",
    " à l'aide des **méthodes du point milieu et du trapèze** avec une partition de $5$ sous-intervalles (vous pouvez adapter le code des exercices du TP précédent). C'est-à-dire, calculez l'approximation de l'intégrale **pour chaque sous-intervalle**, puis sommez ces valeurs pour obtenir l'approximation finale ; \n",
    " * comparer les valeurs obtenues à la vraie valeur de l'intégrale définie $I$ (calculée analytiquement) ;\n",
    " * vérifier qu'une combinaison des deux méthodes avec des poids respectifs de $2/3$ et $1/3$ permet d'améliorer significativement le calcul numérique ; \n",
    " * vérifier analytiquement que cette combinaison correspond en fait à la **méthode de Simpson**. Pour simplifier les calculs, on peut considérer qu'un seul intervalle $[a,b]$."
   ]
  },
  {
   "cell_type": "code",
   "execution_count": null,
   "metadata": {},
   "outputs": [],
   "source": []
  },
  {
   "cell_type": "markdown",
   "metadata": {},
   "source": [
    "***"
   ]
  },
  {
   "cell_type": "markdown",
   "metadata": {},
   "source": [
    "## Exercice 4 : Méthode de Simpson composite "
   ]
  },
  {
   "cell_type": "markdown",
   "metadata": {},
   "source": [
    "Dans cet exercice, nous allons nous intéresser à la fonction :\n",
    "\n",
    "$$\n",
    "f(x) = x^x \\,.\n",
    "$$\n",
    "\n",
    "Cette fonction n'est définie que pour $x>0$ et n'admet pas de primitive pouvant être écrite en terme de fonctions simples.\n",
    "\n",
    "Plus précisément, il vous est demandé de :\n",
    " * représenter la fonction $f(x)$ sur l'intervalle $]0,2]$, avec des valeurs allant de $0$ à $2$ en abscisse et de $0$ à $4$ en ordonnée ;\n",
    " * calculer numériquement l'intégrale définie $I = \\int_{0}^{2}{f(x) dx}$. Pour ce faire, il vous est demandé de :\n",
    "     * définir une fonction Python `integration_Simpson` admettant comme arguments : la fonction `f` à intégrer, les bornes `a` et `b` de l'intervalle d'intégration et le nombre `n` de sous-intervalles considérés ; cette fonction devra utiliser la **méthode de Simpson** (composite) ;\n",
    "     * calculer l'intégrale définie $I$ à l'aide de cette fonction Python en considérant une **partition avec 100 sous-intervalles** ;\n",
    "     * donner une estimation de la précision de la méthode avec cette partition de $100$ sous-intervalles en la comparant avec une partition de $101$ sous-intervalles. "
   ]
  },
  {
   "cell_type": "code",
   "execution_count": null,
   "metadata": {},
   "outputs": [],
   "source": []
  }
 ],
 "metadata": {
  "celltoolbar": "Format de la Cellule Texte Brut",
  "kernelspec": {
   "display_name": "Python 3 (ipykernel)",
   "language": "python",
   "name": "python3"
  },
  "language_info": {
   "codemirror_mode": {
    "name": "ipython",
    "version": 3
   },
   "file_extension": ".py",
   "mimetype": "text/x-python",
   "name": "python",
   "nbconvert_exporter": "python",
   "pygments_lexer": "ipython3",
   "version": "3.13.0"
  },
  "latex_envs": {
   "LaTeX_envs_menu_present": true,
   "autoclose": false,
   "autocomplete": true,
   "bibliofile": "biblio.bib",
   "cite_by": "apalike",
   "current_citInitial": 1,
   "eqLabelWithNumbers": true,
   "eqNumInitial": 1,
   "hotkeys": {
    "equation": "Ctrl-E",
    "itemize": "Ctrl-I"
   },
   "labels_anchors": false,
   "latex_user_defs": false,
   "report_style_numbering": false,
   "user_envs_cfg": false
  }
 },
 "nbformat": 4,
 "nbformat_minor": 4
}
