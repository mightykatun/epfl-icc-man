{
 "cells": [
  {
   "cell_type": "markdown",
   "id": "0a2f5ebe",
   "metadata": {},
   "source": [
    "# ICS - Travaux Pratiques 3\n",
    "\n",
    "12.03.25\n",
    "\n",
    "\n",
    "<font color=grey>_Ce troisième TP reprend certains des exercices vu la semaine passée, mais cette fois en utilisant des fonctions. Il vous permettra donc également d'entraîner votre maîtrise des structures de contrôle `if`, `for` et `while` tout en vous familiarisant avec l'écriture de fonctions, la gestion des valeurs retournées et des variables locales et globales. Finalement, il présente une première notion de modularité, que nous utiliserons par la suite. Nous vous encourageons à vous renseigner sur les différentes fonctions accessibles dans les modules vus en cours._\n",
    "\n",
    "\n",
    "\n",
    "\n",
    "_Note : ne vous sentez pas obligé.e.s de finir la série pendant la séance! Celle-ci est conçue de manière à ce que vous gardiez certains exercices pour vos révisions._ </font>"
   ]
  },
  {
   "cell_type": "markdown",
   "id": "fe971bfa",
   "metadata": {},
   "source": [
    "***\n",
    "***"
   ]
  },
  {
   "cell_type": "markdown",
   "id": "bb279251",
   "metadata": {},
   "source": [
    "## Exercice 1 : qu'affichent les programmes suivants\n"
   ]
  },
  {
   "cell_type": "markdown",
   "id": "cca4e004",
   "metadata": {},
   "source": [
    "Essayez de prédire la sortie de programmes ci-dessous. N'hésitez pas à changer les valeurs et tester différents paramètres ! "
   ]
  },
  {
   "cell_type": "code",
   "execution_count": 1,
   "id": "4a2f58be",
   "metadata": {},
   "outputs": [
    {
     "name": "stdout",
     "output_type": "stream",
     "text": [
      "hello\n",
      "None\n"
     ]
    }
   ],
   "source": [
    "print(print(\"hello\"))"
   ]
  },
  {
   "cell_type": "code",
   "execution_count": 2,
   "id": "04b0c5f2",
   "metadata": {},
   "outputs": [
    {
     "name": "stdout",
     "output_type": "stream",
     "text": [
      "je suis dehors, x = 2\n",
      "je suis dans f, x = 5\n",
      "je suis dehors, x = 2\n"
     ]
    }
   ],
   "source": [
    "def f():\n",
    "    x = 5\n",
    "    print(f\"je suis dans f, {x = }\")\n",
    "\n",
    "x = 2\n",
    "print(f\"je suis dehors, {x = }\")\n",
    "f()\n",
    "print(f\"je suis dehors, {x = }\")"
   ]
  },
  {
   "cell_type": "markdown",
   "id": "b3ded18a",
   "metadata": {},
   "source": [
    "<font color=pink>**Pour aller plus loin...** : On peut définir une variable comme `global` dans le corps d'une fonction. Dans ce cas, cette variable devient **globale**, c'est-à-dire qu'elle devient accessible en dehors du corps de la fonction du moment que cette dernière a été exécutée au moins une fois.\n",
    "\n",
    "Cette pratique n'est pas recommandée car en définissant une variable globale dans une fonction, on risque d'effacer une variable du même nom qui est définir dans le code principal. </font>"
   ]
  },
  {
   "cell_type": "code",
   "execution_count": 3,
   "id": "7c206268",
   "metadata": {},
   "outputs": [
    {
     "name": "stdout",
     "output_type": "stream",
     "text": [
      "1\n",
      "1\n",
      "3\n",
      "1\n"
     ]
    }
   ],
   "source": [
    "x1 = 1\n",
    "y1 = 1\n",
    "def f():\n",
    "    global x1\n",
    "    x1 = 3\n",
    "    y1 = 3\n",
    "print(x1)\n",
    "print(y1)\n",
    "f()\n",
    "print(x1)\n",
    "print(y1)"
   ]
  },
  {
   "cell_type": "code",
   "execution_count": 11,
   "id": "8c647974",
   "metadata": {},
   "outputs": [
    {
     "ename": "NameError",
     "evalue": "name 'xx' is not defined",
     "output_type": "error",
     "traceback": [
      "\u001b[0;31m---------------------------------------------------------------------------\u001b[0m",
      "\u001b[0;31mNameError\u001b[0m                                 Traceback (most recent call last)",
      "Cell \u001b[0;32mIn[11], line 5\u001b[0m\n\u001b[1;32m      2\u001b[0m     \u001b[38;5;28;01mglobal\u001b[39;00m xx\n\u001b[1;32m      3\u001b[0m     xx \u001b[38;5;241m=\u001b[39m \u001b[38;5;241m3\u001b[39m\n\u001b[0;32m----> 5\u001b[0m \u001b[38;5;28mprint\u001b[39m(\u001b[43mxx\u001b[49m)\n\u001b[1;32m      6\u001b[0m f()\n",
      "\u001b[0;31mNameError\u001b[0m: name 'xx' is not defined"
     ]
    }
   ],
   "source": [
    "def f():\n",
    "    global xx\n",
    "    xx = 3\n",
    "\n",
    "print(xx)\n",
    "f()"
   ]
  },
  {
   "cell_type": "code",
   "execution_count": 12,
   "id": "9a6c54c5",
   "metadata": {},
   "outputs": [
    {
     "name": "stdout",
     "output_type": "stream",
     "text": [
      "je suis dehors, x = 2\n",
      "je suis dans f, x = 5\n",
      "je suis dehors, x = 5\n"
     ]
    }
   ],
   "source": [
    "def f():\n",
    "    global x\n",
    "    x = 5\n",
    "    print(f\"je suis dans f, {x = }\")\n",
    "\n",
    "x = 2\n",
    "print(f\"je suis dehors, {x = }\")\n",
    "f()\n",
    "print(f\"je suis dehors, {x = }\")"
   ]
  },
  {
   "cell_type": "code",
   "execution_count": 13,
   "id": "8a4308a5",
   "metadata": {},
   "outputs": [
    {
     "name": "stdout",
     "output_type": "stream",
     "text": [
      "salut Jojo Lapin!\n"
     ]
    }
   ],
   "source": [
    "def salut(nom, prenom, reverse = False):\n",
    "    if reverse:\n",
    "        print(f\"salut {nom} {prenom}!\")\n",
    "    else:\n",
    "        print(f\"salut {prenom} {nom}!\")\n",
    "        \n",
    "salut(\"Lapin\", \"Jojo\")"
   ]
  },
  {
   "cell_type": "code",
   "execution_count": 14,
   "id": "e593d3c9",
   "metadata": {},
   "outputs": [
    {
     "name": "stdout",
     "output_type": "stream",
     "text": [
      "salut Lapin Jojo!\n"
     ]
    }
   ],
   "source": [
    "salut(\"Lapin\", \"Jojo\", True)"
   ]
  },
  {
   "cell_type": "code",
   "execution_count": 15,
   "id": "1c53d191",
   "metadata": {},
   "outputs": [
    {
     "name": "stdout",
     "output_type": "stream",
     "text": [
      "salut Jojo Lapin!\n"
     ]
    }
   ],
   "source": [
    "salut(\"Lapin\", \"Jojo\", False)"
   ]
  },
  {
   "cell_type": "code",
   "execution_count": 16,
   "id": "b86f5085",
   "metadata": {},
   "outputs": [
    {
     "ename": "NameError",
     "evalue": "name 'Lapin' is not defined",
     "output_type": "error",
     "traceback": [
      "\u001b[0;31m---------------------------------------------------------------------------\u001b[0m",
      "\u001b[0;31mNameError\u001b[0m                                 Traceback (most recent call last)",
      "Cell \u001b[0;32mIn[16], line 1\u001b[0m\n\u001b[0;32m----> 1\u001b[0m salut(\u001b[43mLapin\u001b[49m, Jojo)\n",
      "\u001b[0;31mNameError\u001b[0m: name 'Lapin' is not defined"
     ]
    }
   ],
   "source": [
    "salut(Lapin, Jojo)"
   ]
  },
  {
   "cell_type": "code",
   "execution_count": 17,
   "id": "ad6873eb",
   "metadata": {},
   "outputs": [
    {
     "name": "stdout",
     "output_type": "stream",
     "text": [
      "1 2 blah\n"
     ]
    }
   ],
   "source": [
    "def f(x, y = 1, z = \"blah\"):\n",
    "    print(x, y, z)\n",
    "    \n",
    "f(1, 2)"
   ]
  },
  {
   "cell_type": "code",
   "execution_count": 18,
   "id": "6f5a2616",
   "metadata": {},
   "outputs": [
    {
     "name": "stdout",
     "output_type": "stream",
     "text": [
      "1 blih blah\n"
     ]
    }
   ],
   "source": [
    "f(1, \"blih\")"
   ]
  },
  {
   "cell_type": "code",
   "execution_count": 19,
   "id": "4373fd9c",
   "metadata": {},
   "outputs": [
    {
     "name": "stdout",
     "output_type": "stream",
     "text": [
      "24\n"
     ]
    }
   ],
   "source": [
    "def vol_cube(x1, x2, x3 = 1):\n",
    "    return x1 * x2 * x3\n",
    "\n",
    "print(vol_cube(2, 3, 4))"
   ]
  },
  {
   "cell_type": "code",
   "execution_count": 20,
   "id": "1f5378a0",
   "metadata": {},
   "outputs": [
    {
     "name": "stdout",
     "output_type": "stream",
     "text": [
      "6\n"
     ]
    }
   ],
   "source": [
    "print(vol_cube(2, 3))"
   ]
  },
  {
   "cell_type": "code",
   "execution_count": 21,
   "id": "8fdc8ca2",
   "metadata": {},
   "outputs": [
    {
     "ename": "TypeError",
     "evalue": "vol_cube() missing 1 required positional argument: 'x2'",
     "output_type": "error",
     "traceback": [
      "\u001b[0;31m---------------------------------------------------------------------------\u001b[0m",
      "\u001b[0;31mTypeError\u001b[0m                                 Traceback (most recent call last)",
      "Cell \u001b[0;32mIn[21], line 1\u001b[0m\n\u001b[0;32m----> 1\u001b[0m \u001b[38;5;28mprint\u001b[39m(\u001b[43mvol_cube\u001b[49m\u001b[43m(\u001b[49m\u001b[38;5;241;43m2\u001b[39;49m\u001b[43m)\u001b[49m)\n",
      "\u001b[0;31mTypeError\u001b[0m: vol_cube() missing 1 required positional argument: 'x2'"
     ]
    }
   ],
   "source": [
    "print(vol_cube(2))"
   ]
  },
  {
   "cell_type": "code",
   "execution_count": 22,
   "id": "7f482deb",
   "metadata": {},
   "outputs": [
    {
     "name": "stdout",
     "output_type": "stream",
     "text": [
      "6\n"
     ]
    }
   ],
   "source": [
    "print(vol_cube(x2 = 3, x1 = 2))"
   ]
  },
  {
   "cell_type": "code",
   "execution_count": 23,
   "id": "74671705",
   "metadata": {},
   "outputs": [
    {
     "name": "stdout",
     "output_type": "stream",
     "text": [
      "24\n"
     ]
    }
   ],
   "source": [
    "print(vol_cube(x3 = 4, x2 = 3, x1 = 2))"
   ]
  },
  {
   "cell_type": "code",
   "execution_count": 24,
   "id": "c12b28ea",
   "metadata": {},
   "outputs": [
    {
     "ename": "TypeError",
     "evalue": "vol_cube() missing 1 required positional argument: 'x1'",
     "output_type": "error",
     "traceback": [
      "\u001b[0;31m---------------------------------------------------------------------------\u001b[0m",
      "\u001b[0;31mTypeError\u001b[0m                                 Traceback (most recent call last)",
      "Cell \u001b[0;32mIn[24], line 1\u001b[0m\n\u001b[0;32m----> 1\u001b[0m \u001b[38;5;28mprint\u001b[39m(\u001b[43mvol_cube\u001b[49m\u001b[43m(\u001b[49m\u001b[43mx3\u001b[49m\u001b[43m \u001b[49m\u001b[38;5;241;43m=\u001b[39;49m\u001b[43m \u001b[49m\u001b[38;5;241;43m4\u001b[39;49m\u001b[43m,\u001b[49m\u001b[43m \u001b[49m\u001b[43mx2\u001b[49m\u001b[43m \u001b[49m\u001b[38;5;241;43m=\u001b[39;49m\u001b[43m \u001b[49m\u001b[38;5;241;43m3\u001b[39;49m\u001b[43m)\u001b[49m)\n",
      "\u001b[0;31mTypeError\u001b[0m: vol_cube() missing 1 required positional argument: 'x1'"
     ]
    }
   ],
   "source": [
    "print(vol_cube(x3 = 4, x2 = 3))"
   ]
  },
  {
   "cell_type": "code",
   "execution_count": 25,
   "id": "1bcec507",
   "metadata": {},
   "outputs": [
    {
     "ename": "SyntaxError",
     "evalue": "positional argument follows keyword argument (2312775205.py, line 1)",
     "output_type": "error",
     "traceback": [
      "\u001b[0;36m  Cell \u001b[0;32mIn[25], line 1\u001b[0;36m\u001b[0m\n\u001b[0;31m    print(vol_cube(x1 = 2, 3, 4))\u001b[0m\n\u001b[0m                               ^\u001b[0m\n\u001b[0;31mSyntaxError\u001b[0m\u001b[0;31m:\u001b[0m positional argument follows keyword argument\n"
     ]
    }
   ],
   "source": [
    "print(vol_cube(x1 = 2, 3, 4))"
   ]
  },
  {
   "cell_type": "markdown",
   "id": "2e1842d0",
   "metadata": {},
   "source": [
    "***"
   ]
  },
  {
   "cell_type": "markdown",
   "id": "dc1358bc",
   "metadata": {},
   "source": [
    "## Exercice 2 : classification de notes"
   ]
  },
  {
   "cell_type": "markdown",
   "id": "c58a09cb",
   "metadata": {},
   "source": [
    "Alice cherche à classifier les résultats de ses examens afin de mieux organiser son futur travail. Elle aimerait les décomposer en trois groupes:\n",
    "- Si elle a eu moins de 3.5 à cet examen, alors la matière appartient au groupe 1\n",
    "- Si elle a eu entre 3.5 (compris) et 4 (compris), alors celle-ci appartient au groupe 2\n",
    "- Si elle a eu plus de 4, celle-ci appartient au groupe 3.\n",
    "- Si la note n'est pas comprise entre 1 et 6, alors elle ne fait partie d'aucun groupe.\n",
    "\n",
    "Ecrivez une fonction qui prend comme argument la note obtenue, et retourne un entier représentant le groupe dans lequel il faut placer cette matière. \n",
    "\n",
    "<font color=grey>Note : nous verrons comment gérer le dernier cas dans quelques semaines avec la syntaxe `try... except`. Pour l'instant, vous pouvez retourner 0 si la note donnée en entrée n'appartient pas aux groupe 1, 2, ou 3.</font>"
   ]
  },
  {
   "cell_type": "code",
   "execution_count": 28,
   "id": "b1e5be93",
   "metadata": {},
   "outputs": [
    {
     "name": "stdin",
     "output_type": "stream",
     "text": [
      "note:  3\n"
     ]
    },
    {
     "name": "stdout",
     "output_type": "stream",
     "text": [
      "1\n"
     ]
    }
   ],
   "source": [
    "# Votre réponse ici\n",
    "def assign_group(note):\n",
    "    if note < 1:\n",
    "        return 0\n",
    "    if note < 3.5:\n",
    "        return 1\n",
    "    if note <= 4:\n",
    "        return 2\n",
    "    if note <= 6:\n",
    "        return 3\n",
    "    return 0\n",
    "\n",
    "print(assign_group(float(input(\"note: \"))))\n"
   ]
  },
  {
   "cell_type": "markdown",
   "id": "d628e6dd",
   "metadata": {},
   "source": [
    "***"
   ]
  },
  {
   "cell_type": "markdown",
   "id": "c21dc799",
   "metadata": {},
   "source": [
    "# Exercice 3 : docstring\n"
   ]
  },
  {
   "cell_type": "markdown",
   "id": "5f1a22d5",
   "metadata": {},
   "source": [
    "Ecrire une docstring appropriée et détaillée à la fonction ci-dessous."
   ]
  },
  {
   "cell_type": "code",
   "execution_count": 29,
   "id": "c64e7239",
   "metadata": {},
   "outputs": [
    {
     "name": "stdout",
     "output_type": "stream",
     "text": [
      "\n",
      "Convert a temperature between Celsius, Fahrenheit, and Kelvin.\n",
      "\n",
      "Args:\n",
      "    t (float): The temperature value to convert.\n",
      "    unit (str): The current unit of temperature; must be one of \"celsius\", \n",
      "                \"fahrenheit\", or \"kelvin\".\n",
      "\n",
      "Returns:\n",
      "    tuple: Contains converted temperatures as (int). The specific format depends on the input unit:\n",
      "        - If input is celsius, returns: (kelvins, fahrenheit).\n",
      "        - If input is fahrenheit, returns: (celsius, kelvin).\n",
      "        - If input is kelvin, returns: (celsius, fahrenheit).\n",
      "\n",
      "Raises:\n",
      "    \"c'est quoi cette unité??\": If the provided unit is not recognized.\n",
      "    \"error\": If the temperature value is too low to be physically possible.\n",
      "\n"
     ]
    }
   ],
   "source": [
    "def convert_temp(t, unit):\n",
    "    '''\n",
    "    Convert a temperature between Celsius, Fahrenheit, and Kelvin.\n",
    "\n",
    "    Args:\n",
    "        t (float): The temperature value to convert.\n",
    "        unit (str): The current unit of temperature; must be one of \"celsius\", \n",
    "                    \"fahrenheit\", or \"kelvin\".\n",
    "\n",
    "    Returns:\n",
    "        tuple: Contains converted temperatures as (int). The specific format depends on the input unit:\n",
    "            - If input is celsius, returns: (kelvins, fahrenheit).\n",
    "            - If input is fahrenheit, returns: (celsius, kelvin).\n",
    "            - If input is kelvin, returns: (celsius, fahrenheit).\n",
    "\n",
    "    Raises:\n",
    "        \"c'est quoi cette unité??\": If the provided unit is not recognized.\n",
    "        \"error\": If the temperature value is too low to be physically possible.\n",
    "    '''\n",
    "    \n",
    "    if unit == \"celsius\":\n",
    "        if t < -273:\n",
    "            print(\"error\")\n",
    "            return\n",
    "        return t + 273, t * 9/5 + 32\n",
    "    elif unit == \"fahrenheit\":\n",
    "        if t < -459:\n",
    "            print(\"error\")\n",
    "            return\n",
    "        return (t-32)* 5/9, (t-32)* 5/9 + 273\n",
    "    elif unit == \"kelvin\":\n",
    "        if t < 0:\n",
    "            print(\"error\")\n",
    "            return\n",
    "        return t - 273, (t - 273)* 9/5 + 32\n",
    "    else :\n",
    "        print(\"c'est quoi cette unité??\")    \n",
    "    \n",
    "print(convert_temp.__doc__)"
   ]
  },
  {
   "cell_type": "markdown",
   "id": "43bdb561",
   "metadata": {},
   "source": [
    "***"
   ]
  },
  {
   "cell_type": "markdown",
   "id": "082fac25-7ef0-4085-91f7-c8560818d1d8",
   "metadata": {},
   "source": [
    "## Exercice 4 : Recherche d'un nombre premier"
   ]
  },
  {
   "cell_type": "markdown",
   "id": "40046fa2",
   "metadata": {},
   "source": [
    "Un nombre entier positif est dit **premier** s'il n'est divisible que par $1$ et par lui-même. Par définition, $1$ n'est pas un nombre premier, le plus petit nombre premier est donc $2$.\n",
    "\n",
    "**a)** Ecrire une fonction `divise` qui prend comme paramètre deux entiers strictement positifs $d$ et $N$, et retourne `True` si $d$ divise $N$, et `False` sinon."
   ]
  },
  {
   "cell_type": "code",
   "execution_count": 30,
   "id": "d23771a9-b628-4d0c-91e5-ac58819f5537",
   "metadata": {},
   "outputs": [],
   "source": [
    "import pytest"
   ]
  },
  {
   "cell_type": "code",
   "execution_count": 31,
   "id": "15bf922e",
   "metadata": {},
   "outputs": [],
   "source": [
    "def divise(divided, divisor):\n",
    "    '''\n",
    "    Determines if an integer is dividable by another\n",
    "\n",
    "    Args:\n",
    "        divided (int): integer that will be divided\n",
    "        divisor (int): integer that will divide \"divided\"\n",
    "\n",
    "    Returns:\n",
    "        True: if \"divisor\" divides \"divided\"\n",
    "        False: otherwhise\n",
    "    '''\n",
    "    if divided % divisor == 0:\n",
    "        return True\n",
    "    else:\n",
    "        return False\n",
    "\n",
    "def divise_test():\n",
    "    '''\n",
    "    Unit test for divise()\n",
    "    '''\n",
    "    assert divise(3, 3)\n",
    "    assert not divise(3, 2)\n",
    "    assert divise(10, 5)\n",
    "    assert not divise(16, 9)\n",
    "\n",
    "divise_test()"
   ]
  },
  {
   "cell_type": "markdown",
   "id": "a0df3bfa",
   "metadata": {},
   "source": [
    "\n",
    "**b)** Ecrire une fonction `premier` qui prend comme paramètre un entier strictement positif $N$ et retourne `True` s'il est premier, et `False` s'il ne l'est pas. Cette fonction peut faire appel à la fonction `divise` définie dans le point (a)."
   ]
  },
  {
   "cell_type": "code",
   "execution_count": 32,
   "id": "d1f82106",
   "metadata": {},
   "outputs": [],
   "source": [
    "def premier(integer):\n",
    "    '''\n",
    "    Tests if a given integer is a prime number\n",
    "\n",
    "    Args:\n",
    "        integer (int): integer to test\n",
    "\n",
    "    Returns:\n",
    "        True: if integer is a prime number\n",
    "        False: if not\n",
    "    '''\n",
    "    if integer == 1:\n",
    "        return False\n",
    "\n",
    "    root = int(integer ** 0.5) + 1 # returns one over the floor of the root of integer\n",
    "    for i in range(2, root + 1):\n",
    "        if divise(integer, i) and i != integer:\n",
    "            return False\n",
    "\n",
    "    return True\n",
    "\n",
    "def premier_test():\n",
    "    '''\n",
    "    Unit test for premier()\n",
    "    '''\n",
    "    assert premier(2)\n",
    "    assert premier(3)\n",
    "    assert premier(7)\n",
    "    assert not premier(82)\n",
    "    assert premier(13)\n",
    "\n",
    "premier_test()"
   ]
  },
  {
   "cell_type": "markdown",
   "id": "66db0625",
   "metadata": {},
   "source": [
    "**c)** Quel est le $7^{\\rm e}$ nombre premier?"
   ]
  },
  {
   "cell_type": "code",
   "execution_count": 33,
   "id": "7d1e5095",
   "metadata": {},
   "outputs": [
    {
     "name": "stdout",
     "output_type": "stream",
     "text": [
      "541\n"
     ]
    }
   ],
   "source": [
    "prime_count = 0\n",
    "i = 1\n",
    "while prime_count < 100:\n",
    "    i += 1\n",
    "    if premier(i):\n",
    "        prime_count += 1\n",
    "\n",
    "print(i)\n",
    "    "
   ]
  },
  {
   "cell_type": "markdown",
   "id": "373a8b50",
   "metadata": {},
   "source": [
    "\n",
    "<font color=grey>Note : cet algorithme de résolution n'est pas optimal en terme de consommation de ressources. Il fonctionne bien pour des petits N, mais son exécution prend beaucoup de temps pour des grands nombres.</gray>"
   ]
  },
  {
   "cell_type": "markdown",
   "id": "39b3b263",
   "metadata": {},
   "source": [
    "***"
   ]
  },
  {
   "cell_type": "markdown",
   "id": "b61d5f0a",
   "metadata": {},
   "source": [
    "## Exercice 5: affichage d'étoiles\n"
   ]
  },
  {
   "attachments": {
    "image-2.png": {
     "image/png": "[encoded data removed]"
    },
    "image-3.png": {
     "image/png": "[encoded data removed]"
    },
    "image.png": {
     "image/png": "[encoded data removed]"
    }
   },
   "cell_type": "markdown",
   "id": "b4aef63a",
   "metadata": {},
   "source": [
    "Dans l'exercice 2 de la série 2, vous avez produit, à l'aide de deux boucles `for` imbriquées, en n'imprimant qu'un seul caractère `*` à la fois et sans utiliser les opérateurs de concaténation de strings, chacun des affichages suivants:\n",
    "\n",
    "![image.png](attachment:image.png)\n",
    "![image-2.png](attachment:image-2.png)\n",
    "![image-3.png](attachment:image-3.png)\n",
    "\n",
    "\n",
    "**a)** On aimerait maintenant généraliser les deux premiers affichages en définissant une fonction `rectangle`. Celle-ci doit prendre deux paramètres `m` et `n` en entrée et afficher un rectangle d'étoiles de `m` lignes et `n` colonnes (et ne rien retourner). Si `m` n'est pas précisé, le rectangle doit posséder 1 ligne, comme au point (a) de la série de la semaine passée.\n"
   ]
  },
  {
   "cell_type": "code",
   "execution_count": 34,
   "id": "4799bc21",
   "metadata": {},
   "outputs": [
    {
     "name": "stdout",
     "output_type": "stream",
     "text": [
      "* * * \n",
      "* * * \n",
      "* * * \n",
      "* * * \n"
     ]
    }
   ],
   "source": [
    "def print_rectangle(n, m=1):\n",
    "    '''\n",
    "    Prints out a pattern of m lines and n columns of \"*\"\n",
    "\n",
    "    Args:\n",
    "        n (int): Amount of printed \"*\" per line.\n",
    "        m (int, optional): Amount of lines printed. Defaults to 1.\n",
    "\n",
    "    Returns:\n",
    "        None\n",
    "    '''\n",
    "    for i in range(m):\n",
    "        for j in range(n):\n",
    "            print(\"* \", end=\"\")\n",
    "        print()\n",
    "\n",
    "print_rectangle(3, 4)"
   ]
  },
  {
   "cell_type": "markdown",
   "id": "1b2295af",
   "metadata": {},
   "source": [
    "\n",
    "**b)** De même, définissez une fonction `triangle`. Celle-ci doit prendre un paramètre `m` en entrée et afficher un triangle isocèle avec `m` étoiles par côté. Par exemple, le triangle de la donnée ci-dessous est produit par l'appel `triangle(4)`.\n"
   ]
  },
  {
   "cell_type": "code",
   "execution_count": 35,
   "id": "e7090d07",
   "metadata": {},
   "outputs": [
    {
     "name": "stdout",
     "output_type": "stream",
     "text": [
      "\n",
      "* \n",
      "* * \n",
      "* * * \n"
     ]
    }
   ],
   "source": [
    "def print_triangle(m):\n",
    "    '''\n",
    "    Prints out a triangular pattern of m by m sides with \"*\"\n",
    "\n",
    "    Args:\n",
    "        m (int): Triangle's sides length\n",
    "\n",
    "    Returns:\n",
    "        None\n",
    "    '''\n",
    "    for i in range(m + 1):\n",
    "        for j in range(i):\n",
    "            print(\"* \", end=\"\")\n",
    "        print()\n",
    "\n",
    "print_triangle(3)"
   ]
  },
  {
   "cell_type": "markdown",
   "id": "3c17c001",
   "metadata": {},
   "source": [
    "\n",
    "**c)** On aimerait maintenant définir une fonction qui puisse afficher soit un triangle, soit un rectangle selon ce que désire l'utilisateur. Ecrivez une fonction `polygone` qui prend en entrée trois paramètres `poly`, `m`, et `n`, et \n",
    "- si `poly` a la valeur 'R', affiche un rectangle de `m` lignes et `n` colonnes (3 colonnes si `n` n'est pas précisé)\n",
    "- si `poly` a la valeur 'T', affiche un triangle isocèle de `m` lignes et colonnes\n",
    "- si `poly` a toute autre valeur, affiche un message d'erreur.\n"
   ]
  },
  {
   "cell_type": "code",
   "execution_count": 36,
   "id": "cd03dce9",
   "metadata": {},
   "outputs": [
    {
     "name": "stdout",
     "output_type": "stream",
     "text": [
      "* * * * * \n",
      "* * * * * \n",
      "* * * * * \n"
     ]
    }
   ],
   "source": [
    "def polygone(m, poly, n=3):\n",
    "    '''\n",
    "    Prints either a rectangle or a triangle with \"*\"\n",
    "\n",
    "    Args:\n",
    "        m (int): Height of the pattern.\n",
    "        poly (str): Type of pattern. Must be one of \"T\" (triangular pttern) or \"R\" (rectangular pattern).\n",
    "        n (int, optional): Width of the pattern. Defaults to 3.\n",
    "\n",
    "    Returns:\n",
    "        none\n",
    "    '''\n",
    "    if poly == \"T\":\n",
    "        print_triangle(m)\n",
    "    elif poly ==\"R\":\n",
    "        print_rectangle(n, m)\n",
    "    else:\n",
    "        print(\"Unknown shape\")\n",
    "\n",
    "polygone(3, \"R\", 5)\n",
    "    "
   ]
  },
  {
   "cell_type": "markdown",
   "id": "982ee0f6",
   "metadata": {},
   "source": [
    "***"
   ]
  },
  {
   "cell_type": "markdown",
   "id": "2f240537-c628-462b-ae36-c77bd8e40ab4",
   "metadata": {},
   "source": [
    "## Exercice 6 : Différence entre le maximum et minimum de trois nombres\n"
   ]
  },
  {
   "cell_type": "markdown",
   "id": "e1046d71",
   "metadata": {},
   "source": [
    "Reprenons l'exercice 4 b) de la série 2. Construisez une fonction qui retourne le maximum et le minimum entre trois nombres, puis calculez leur différence. Vous ne pouvez pas utiliser les fonctions natives `min()` et `max()`."
   ]
  },
  {
   "cell_type": "code",
   "execution_count": null,
   "id": "13386fd7",
   "metadata": {},
   "outputs": [],
   "source": []
  },
  {
   "cell_type": "markdown",
   "id": "75a60214",
   "metadata": {},
   "source": [
    "***"
   ]
  },
  {
   "cell_type": "markdown",
   "id": "edd0aeec-7238-4792-831d-5723d5081359",
   "metadata": {},
   "source": [
    "## Exercice 7: Résoudre une équation du 2e degré\n"
   ]
  },
  {
   "cell_type": "markdown",
   "id": "ea7d9130",
   "metadata": {},
   "source": [
    "<font color = grey> Préambule : Pour résoudre une **équation quadratique** $ax^2 + bx + c = 0$, où $a \\neq 0$, $b$ et $c$ sont des coefficients réels, on commence par calculer son **discriminant** $\\Delta = b^2 - 4 ac$. L'ensemble de solutions de l'équation dépendra du signe de $\\Delta = b^2 - 4 ac$ :\n",
    "\n",
    "- Si $\\Delta > 0$, l'équation admet deux solutions distinctes réelles $x_1 = \\frac{-b + \\sqrt{\\Delta}}{2a}$ et $x_2 = \\frac{-b - \\sqrt{\\Delta}}{2a}$\n",
    "- Si $\\Delta = 0$, l'équation admet une solution réelle double $x_0 = \\frac{-b + \\sqrt{\\Delta}}{2a} = \\frac{-b - \\sqrt{\\Delta}}{2a} = \\frac{-b}{2a}$\n",
    "- Si $\\Delta < 0$, l'équation n'admet aucune solution réelle. </font>\n",
    "\n",
    "**a)** Ecrivez une fonction `racine_polynome_quadratique` qui\n",
    "- prend en entrée trois coefficients réels $a$, $b$, $c$\n",
    "- s'assure que $a \\neq 0$ et sinon ne retourne rien\n",
    "- si l'équation admet deux solutions distinctes, retourne ces deux solutions\n",
    "- si l'équation admet une solution double, retourne deux fois cette valeur \n",
    "- si l'équation n'admet pas de solution réelle, retourne la valeur -1 .\n",
    "\n",
    "Par exemple, les instructions\n",
    "\n",
    "$\\verb?x, y = racine_polynome_quadratique(2, 3, 1)?$\n",
    "\n",
    "$\\verb?print(x, y)?$\n",
    "\n",
    "doivent afficher \n",
    "\n",
    "$\\verb?-0.5 -1.0?$\n",
    "\n",
    "et les instructions\n",
    "\n",
    "$\\verb?x, y = racine_polynome_quadratique(1, -2, 1)?$\n",
    "\n",
    "$\\verb?print(x, y)?$\n",
    "\n",
    "doivent afficher\n",
    "\n",
    "$\\verb?1.0 1.0?$\n"
   ]
  },
  {
   "cell_type": "code",
   "execution_count": 39,
   "id": "9ecd950f",
   "metadata": {},
   "outputs": [],
   "source": [
    "def racine_polynome_quadratique(a, b, c):\n",
    "    if a == 0:\n",
    "        return None\n",
    "\n",
    "    # Calcul du discriminant\n",
    "    delta = b**2 - 4*a*c\n",
    "\n",
    "    if delta > 0:\n",
    "        # Deux solutions distinctes\n",
    "        x1 = (-b + delta**(0.5)) / (2*a)\n",
    "        x2 = (-b - delta**(0.5)) / (2*a)\n",
    "        return x1, x2\n",
    "    elif delta == 0:\n",
    "        # Une solution double\n",
    "        x0 = -b / (2*a)\n",
    "        return x0, x0\n",
    "    else:\n",
    "        # Pas de solutions réelles\n",
    "        return -1\n"
   ]
  },
  {
   "cell_type": "markdown",
   "id": "e41d349f",
   "metadata": {},
   "source": [
    "\n",
    "**b)** Ecrivez une fonction `poly_quadratique_affichage` qui\n",
    "- prend en entrée trois coefficients réels $a$, $b$, $c$\n",
    "- appelle la fonction `racine_polynome_quadratique` avec ces trois valeurs\n",
    "- distingue par un affichage approprié les quatre cas de figure (deux racines, une racine, pas de racines, et l'équation n'est pas quadratique).\n",
    "\n",
    "Donc \n",
    "- l'instruction $\\verb?poly_quadratique_affichage(2, 3, 1)?$ doit afficher:\n",
    "\n",
    "$\\verb?l'équation 2x^2 + 3x + 1 = 0 admet deux solutions -0.5 et -1.0?$\n",
    "\n",
    "\n",
    "- l'instruction $\\verb?dpoly_quadratique_affichage(1, -2, 1)?$ doit afficher:\n",
    "\n",
    "$\\verb?l'équation 1x^2 + -2x + 1 = 0 admet une solution 1.0?$\n",
    "\n",
    "- l'instruction $\\verb?poly_quadratique_affichage(1, 1, 1)?$ doit afficher:\n",
    "\n",
    "$\\verb?l'équation 1x^2 + 1x + 1 = 0 n'admet pas de solutions réelles?$\n",
    "\n",
    "- l'instruction $\\verb?poly_quadratique_affichage(0, 3, 1)?$ doit afficher:\n",
    "\n",
    "$\\verb?l'équation 3x + 1 = 0 n'est pas quadratique?$.\n",
    "\n",
    "\n",
    "Remarque:\n",
    "- La fonction `poly_quadratique_affichage` peut faire autant d'appels à `racine_polynome_quadratique` que vous le désirez\n",
    "- si vous savez que `racine_polynome_quadratique` retourne deux valeurs, l'instruction $\\verb?x, y = racine_polynome_quadratique(a, b, c)?$ affectera ces deux valeurs aux deux variables x et y."
   ]
  },
  {
   "cell_type": "code",
   "execution_count": null,
   "id": "522e7b4b",
   "metadata": {},
   "outputs": [],
   "source": [
    "# Réponse au point b)\n"
   ]
  },
  {
   "cell_type": "markdown",
   "id": "4647f7ee",
   "metadata": {},
   "source": [
    "---"
   ]
  },
  {
   "cell_type": "markdown",
   "id": "0e024635",
   "metadata": {},
   "source": [
    "## Exercice 8 : Aire en plusieurs dimensions"
   ]
  },
  {
   "cell_type": "markdown",
   "id": "a4083964",
   "metadata": {},
   "source": [
    "<font color=greblueen> Chaque semaine, je vous propose un exercice sans corrigé détaillé mais en vous indiquant la réponse finale. Ce sera donc à vous de faire l'effort de résoudre ce problème à l'aide des ressources à disposition : vos notes de cours, les forums sur internet ou même ChatGPT du moment que vous faites l'effort de comprendre le code que vous fournit ce Chatbot! </font>"
   ]
  },
  {
   "cell_type": "markdown",
   "id": "36678bc3",
   "metadata": {},
   "source": [
    "Ecrivez une fonction `aire_cercle()` qui permet de calculer l'aire d'un cercle ($A_{c}=\\pi r^2$) ou le volume d'une sphère ($V_s = \\frac{4}{3}\\pi r^3$).\n",
    "\n",
    "Celle-ci prend comme paramètre obligatoire une longueur `r` et comme paramètre optionnel la dimension `dim`de l'objet.\n",
    "- Si la valeur de `dim` n'est pas précisée lors de l'appel de la fonction, alors celle-ci doit afficher `Précisez la dimension de l'objet` et ne retourne rien\n",
    "- Si `dim = 1`, alors la fonction retourne 0\n",
    "- Si `dim = 2`, alors la fonction retourne l'aire d'un cercle de rayon `r`.\n",
    "- Si `dim = 3`, alors la fonction retourne le volume d'une sphère de rayon `r`.\n",
    "- Si `dim` vaut autre chose, la fonction doit afficher `Dimension supérieure à trois ou mal définie` et retourner `None`.\n",
    "\n",
    "Le nombre $\\pi$ est défini en tant que `pi` dans le module `math`de la librairie standard de Python.\n",
    "\n",
    "Par exemple, l'appel `aire_cercle(3,2)` retournera `28.274`, et `aire_cercle(2,3)` retournera `33.510`."
   ]
  },
  {
   "cell_type": "code",
   "execution_count": null,
   "id": "8a82e499",
   "metadata": {},
   "outputs": [],
   "source": [
    "# Votre réponse ici"
   ]
  }
 ],
 "metadata": {
  "kernelspec": {
   "display_name": "Python 3 (ipykernel)",
   "language": "python",
   "name": "python3"
  },
  "language_info": {
   "codemirror_mode": {
    "name": "ipython",
    "version": 3
   },
   "file_extension": ".py",
   "mimetype": "text/x-python",
   "name": "python",
   "nbconvert_exporter": "python",
   "pygments_lexer": "ipython3",
   "version": "3.13.0"
  }
 },
 "nbformat": 4,
 "nbformat_minor": 5
}
