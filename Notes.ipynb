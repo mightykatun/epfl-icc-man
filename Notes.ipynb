{
 "cells": [
  {
   "cell_type": "markdown",
   "id": "2bf2a11f-815e-4566-a7d3-b7bb03f3c889",
   "metadata": {
    "jp-MarkdownHeadingCollapsed": true
   },
   "source": [
    "# Python Paradigms"
   ]
  },
  {
   "cell_type": "markdown",
   "id": "8df4309d-d9b6-41c1-bba7-ce32b65a5a76",
   "metadata": {},
   "source": [
    "Liste des différents paradigmes, syntaxes, procédures et modules qui composent le language"
   ]
  },
  {
   "cell_type": "markdown",
   "id": "74f58417-1d84-41fa-86c1-a9d3ee6c9e05",
   "metadata": {},
   "source": [
    "---"
   ]
  },
  {
   "cell_type": "markdown",
   "id": "87712b51-48cb-491c-a88f-19fa4079be1d",
   "metadata": {
    "jp-MarkdownHeadingCollapsed": true
   },
   "source": [
    "## Print"
   ]
  },
  {
   "cell_type": "markdown",
   "id": "9daff9ac-d558-4e77-8cae-2f00a0526bee",
   "metadata": {},
   "source": [
    "Quelque détails au sujet de `print()`"
   ]
  },
  {
   "cell_type": "markdown",
   "id": "150293db-15ce-4961-aab2-04105c948b28",
   "metadata": {},
   "source": [
    "---"
   ]
  },
  {
   "cell_type": "markdown",
   "id": "2a3b17ac-729a-473a-a3f1-f65bd2509f23",
   "metadata": {},
   "source": [
    "#### Arguments"
   ]
  },
  {
   "cell_type": "markdown",
   "id": "a2ac5495-848a-4262-a716-fbb2aaf0694f",
   "metadata": {},
   "source": [
    "Par défaut, print() termine avec un retour de ligne `\\n`"
   ]
  },
  {
   "cell_type": "code",
   "execution_count": 1,
   "id": "da7a3b3e-a36d-4f91-8c30-9fbfe2afe260",
   "metadata": {},
   "outputs": [
    {
     "name": "stdout",
     "output_type": "stream",
     "text": [
      "Hello\n",
      "There\n"
     ]
    }
   ],
   "source": [
    "print(\"Hello\")\n",
    "print(\"There\")"
   ]
  },
  {
   "cell_type": "markdown",
   "id": "b5dcf2ec-0033-4a0f-92a6-570db121c0d2",
   "metadata": {},
   "source": [
    "Et sépare les variables par `\" \"`"
   ]
  },
  {
   "cell_type": "code",
   "execution_count": 2,
   "id": "79d9b24d-d87a-4475-9170-93781ded5f71",
   "metadata": {},
   "outputs": [
    {
     "name": "stdout",
     "output_type": "stream",
     "text": [
      "Hello There\n"
     ]
    }
   ],
   "source": [
    "print(\"Hello\", \"There\")"
   ]
  },
  {
   "cell_type": "markdown",
   "id": "c621522c-77c1-45f5-b087-f14c15c758bc",
   "metadata": {},
   "source": [
    "Mais on peut changer ça avec les arguments `end` et `sep`"
   ]
  },
  {
   "cell_type": "code",
   "execution_count": 3,
   "id": "379cdef3-7d3d-4763-bea4-41490c8ef800",
   "metadata": {},
   "outputs": [
    {
     "name": "stdout",
     "output_type": "stream",
     "text": [
      "Hello There\n"
     ]
    }
   ],
   "source": [
    "print(\"Hello\", end=\" \")\n",
    "print(\"There\")"
   ]
  },
  {
   "cell_type": "code",
   "execution_count": 4,
   "id": "a8f539c7-0694-45c4-ada4-826e6e547ffe",
   "metadata": {},
   "outputs": [
    {
     "name": "stdout",
     "output_type": "stream",
     "text": [
      "Hello\n",
      "There\n"
     ]
    }
   ],
   "source": [
    "print(\"Hello\", \"There\", sep=\"\\n\")"
   ]
  },
  {
   "cell_type": "markdown",
   "id": "5d8afe19-07bd-4ee9-a26f-f03e66d6a814",
   "metadata": {},
   "source": [
    "---"
   ]
  },
  {
   "cell_type": "markdown",
   "id": "fab73df0-59b9-4ba3-ae4b-253c1165e52c",
   "metadata": {},
   "source": [
    "#### F-string"
   ]
  },
  {
   "cell_type": "markdown",
   "id": "b8beafc0-1e98-412a-9d12-76298911b228",
   "metadata": {},
   "source": [
    "Il est possible d'imprimer `\"var = ...\"` directement dans une f-string"
   ]
  },
  {
   "cell_type": "code",
   "execution_count": 5,
   "id": "23554266-dd80-4664-878e-421db35cdd77",
   "metadata": {},
   "outputs": [
    {
     "name": "stdout",
     "output_type": "stream",
     "text": [
      "Valeur de x: x = 1\n"
     ]
    }
   ],
   "source": [
    "x = 1\n",
    "print(f\"Valeur de x: {x = }\")"
   ]
  },
  {
   "cell_type": "markdown",
   "id": "02324352-f1e9-4d13-a212-71d09df58e87",
   "metadata": {},
   "source": [
    "---"
   ]
  },
  {
   "cell_type": "markdown",
   "id": "5847a4f5-12c6-4944-a336-49213585c769",
   "metadata": {},
   "source": [
    "#### String comparaison"
   ]
  },
  {
   "cell_type": "markdown",
   "id": "ba28e1eb-a1bd-4dab-a2e2-a09da1400b06",
   "metadata": {},
   "source": [
    "Des comparaisons booléenes et de taille peuvent être faites avec des `string`"
   ]
  },
  {
   "cell_type": "code",
   "execution_count": 6,
   "id": "ed74a713-37c5-4c6a-8c53-8b594f5d15a9",
   "metadata": {},
   "outputs": [
    {
     "name": "stdout",
     "output_type": "stream",
     "text": [
      "False\n",
      "True\n",
      "True\n"
     ]
    }
   ],
   "source": [
    "print(\"A\" > \"a\")\n",
    "print(\"a\" < \"b\")\n",
    "print(\"*\" < \"B\")"
   ]
  },
  {
   "cell_type": "markdown",
   "id": "df8aa82f-0e73-44bf-a727-c1b95ff2703e",
   "metadata": {},
   "source": [
    "Python trie comme suit (du plus petit au plus grand):\n",
    "  - ' ', '!', '#', ... , '/',\n",
    "  - '0', '1', '2', ... , '9',\n",
    "  - ':', ';', '<', ... , '@',\n",
    "  - 'A', 'B', 'C', ... , 'Z',\n",
    "  - '[', '^', '_', ... , '`', \n",
    "  - 'a', 'b', 'c', ... , 'z',\n",
    "  - '{', '|', '}', '~'\n"
   ]
  },
  {
   "cell_type": "markdown",
   "id": "3a64a0ef-40a0-4144-b976-d90235fd4237",
   "metadata": {},
   "source": [
    "---"
   ]
  },
  {
   "cell_type": "markdown",
   "id": "01c161b0-a1ed-43ac-884d-ae71b306b9d9",
   "metadata": {
    "jp-MarkdownHeadingCollapsed": true
   },
   "source": [
    "## Functions"
   ]
  },
  {
   "cell_type": "markdown",
   "id": "8438439f-dfee-462e-aece-ba4140ceb719",
   "metadata": {},
   "source": [
    "Les fonctions devraient respecter quelques principes:\n",
    "  - Avoir une seule responsabilité\n",
    "  - Être testée!\n",
    "  - Avoir des noms de variables internes différents des variables externes\n",
    "  - Être correctement documentées avec une docstring\n",
    "  - Si possible, ne pas utiliser `global`"
   ]
  },
  {
   "cell_type": "markdown",
   "id": "fcc1c125-47e4-4ce9-b8f3-8c96cb602426",
   "metadata": {},
   "source": [
    "---"
   ]
  },
  {
   "cell_type": "markdown",
   "id": "e81c7044-fccf-4faa-bffb-56c969400662",
   "metadata": {},
   "source": [
    "#### Docstring"
   ]
  },
  {
   "cell_type": "markdown",
   "id": "3be87c24-e3b2-483c-a49a-538b267c7971",
   "metadata": {},
   "source": [
    "Les docstring doivent suivre la même structure standard"
   ]
  },
  {
   "cell_type": "code",
   "execution_count": 1,
   "id": "9394d120-2804-436b-afec-83dc1f0744b7",
   "metadata": {},
   "outputs": [],
   "source": [
    "def foo():\n",
    "    '''\n",
    "    Description du rôle de la fonction\n",
    "    \n",
    "    Args:\n",
    "        arg1 (type): description\n",
    "        arg2 (type): description\n",
    "        [...]\n",
    "    \n",
    "    Returns:\n",
    "        output (type): 'return' format, if [...] or not [...]\n",
    "    \n",
    "    Raises:\n",
    "        error_type: when [...] happens\n",
    "    '''"
   ]
  },
  {
   "cell_type": "markdown",
   "id": "ae74c94b-2fd0-452c-ab16-47b0808af8a8",
   "metadata": {},
   "source": [
    "Exemple"
   ]
  },
  {
   "cell_type": "code",
   "execution_count": 8,
   "id": "f4072dc1-e3a7-4e23-b6d8-644a915cbb0f",
   "metadata": {},
   "outputs": [],
   "source": [
    "def convert_temp(t, unit):\n",
    "    '''\n",
    "    Convert a temperature between Celsius, Fahrenheit, and Kelvin.\n",
    "\n",
    "    Args:\n",
    "        t (float): The temperature value to convert.\n",
    "        unit (str): The current unit of temperature; must be one of \"celsius\", \n",
    "                    \"fahrenheit\", or \"kelvin\".\n",
    "\n",
    "    Returns:\n",
    "        tuple: Contains converted temperatures as (int). The specific format depends on the input unit:\n",
    "            - If input is celsius, returns: (kelvins, fahrenheit).\n",
    "            - If input is fahrenheit, returns: (celsius, kelvin).\n",
    "            - If input is kelvin, returns: (celsius, fahrenheit).\n",
    "\n",
    "    Raises:\n",
    "        \"c'est quoi cette unité??\": If the provided unit is not recognized.\n",
    "        \"error\": If the temperature value is too low to be physically possible.\n",
    "    '''\n",
    "    pass"
   ]
  },
  {
   "cell_type": "markdown",
   "id": "0f722626-16c5-4b41-8d08-02b52bcb9fc0",
   "metadata": {},
   "source": [
    "La documentation d'une fonction peut être accédée par `convert_temp.__doc__`"
   ]
  },
  {
   "cell_type": "markdown",
   "id": "44870f8a-7d5c-493f-a851-f95f75c4c2a3",
   "metadata": {},
   "source": [
    "---"
   ]
  },
  {
   "cell_type": "markdown",
   "id": "c0536c64-6616-48c2-8193-ffcb4e86a5ec",
   "metadata": {},
   "source": [
    "#### Tests"
   ]
  },
  {
   "cell_type": "markdown",
   "id": "8f4c0901-a3f3-425f-88de-1278a85a9aec",
   "metadata": {},
   "source": [
    "Il est possible de tester une fonction en vérifiant que pour un paramètre connu, elle ait un return connu.\\\n",
    "Pour ce faire, on utilise la syntaxe suivante (pytest cherche des fonction préfixées par `test_\\<fonction>` ou des classes `Test` )"
   ]
  },
  {
   "cell_type": "code",
   "execution_count": 9,
   "id": "490f5abe-91d8-414b-92a5-8de0b004958a",
   "metadata": {},
   "outputs": [],
   "source": [
    "import pytest\n",
    "\n",
    "def divise(a, b):\n",
    "    return a / b\n",
    "\n",
    "# testing function for divise()\n",
    "def test_divise():\n",
    "    assert divise(3, 3) == 1.0\n",
    "    assert divise(3, 2) != 69"
   ]
  },
  {
   "cell_type": "markdown",
   "id": "f924f62e-e0c6-4994-911f-78a379d67f21",
   "metadata": {},
   "source": [
    "Ensuite, on peut run les tests comme suit: `pytest file.py`"
   ]
  },
  {
   "cell_type": "markdown",
   "id": "db140a18-4dda-49cb-b2d1-5862e5610ea7",
   "metadata": {},
   "source": [
    "---"
   ]
  },
  {
   "cell_type": "markdown",
   "id": "e2270449-7b0e-4853-b30a-87198e191dc5",
   "metadata": {},
   "source": [
    "#### Global variables"
   ]
  },
  {
   "cell_type": "markdown",
   "id": "c1495eb5-b999-43c9-8963-2861394e22a5",
   "metadata": {},
   "source": [
    "Une fonction peut seulement lire les variables du code principal, pas les modifier, pour palier à ça, on peut déclarer une variable comme globale, qui permet à la fonction de modifier cette variable"
   ]
  },
  {
   "cell_type": "code",
   "execution_count": 10,
   "id": "5ab5f284-f31d-42ce-a51c-a3a3adb3c2b5",
   "metadata": {},
   "outputs": [
    {
     "name": "stdout",
     "output_type": "stream",
     "text": [
      "1\n"
     ]
    }
   ],
   "source": [
    "x = 0\n",
    "def foo():\n",
    "    global x\n",
    "    x += 1\n",
    "\n",
    "foo()\n",
    "print(x)"
   ]
  },
  {
   "cell_type": "markdown",
   "id": "62ed4831-3a44-48c6-85b7-50d1805a46ba",
   "metadata": {},
   "source": [
    "Cette méthode est déconseillée car il est possible d'effacer d'autres variable sans le vouloir, ou causer des problèmes d'intégration, etc..."
   ]
  },
  {
   "cell_type": "markdown",
   "id": "88149f19-1136-4f72-83c9-8e79dc02e6c0",
   "metadata": {},
   "source": [
    "---"
   ]
  },
  {
   "cell_type": "markdown",
   "id": "a6b80223-6f52-4947-9341-48412badce34",
   "metadata": {},
   "source": [
    "#### Lambda functions"
   ]
  },
  {
   "cell_type": "markdown",
   "id": "d69f3e7f-43b2-4e94-b5a6-7693b94a5e2c",
   "metadata": {},
   "source": [
    "Pour déclarer des fonctions courtes efficacement, il est possible de déclarer une fonction `lambda` comme une variable. Ces fonctions sont anonymes et non répértoriées"
   ]
  },
  {
   "cell_type": "code",
   "execution_count": 11,
   "id": "83ce66a2-fdea-49ae-8226-4909f193b1b4",
   "metadata": {},
   "outputs": [
    {
     "name": "stdout",
     "output_type": "stream",
     "text": [
      "9\n"
     ]
    }
   ],
   "source": [
    "func = lambda x, y: (3 * x + y)\n",
    "print(func(2, 3))"
   ]
  },
  {
   "cell_type": "markdown",
   "id": "902eb3d5-fdc4-4fec-bec5-51ff0fbd1a5b",
   "metadata": {},
   "source": [
    "---"
   ]
  },
  {
   "cell_type": "markdown",
   "id": "ce01c3e9-c5cd-46ee-9064-71a679224b60",
   "metadata": {
    "jp-MarkdownHeadingCollapsed": true
   },
   "source": [
    "## Lists"
   ]
  },
  {
   "cell_type": "markdown",
   "id": "31ca2f28-8d37-44da-b810-cdd00918ed94",
   "metadata": {},
   "source": [
    "Les listes sont des collections de pointeurs vers des variables dans la mémoire système, par exemple, `lst = [0, \"foo\", [\"a\", 4]]` contient in pointeur vers `0` et `\"foo\"` (non-mutables) ainsi qu'un pointeur vers la liste (mutable) `[\"a\", 4]`.\n",
    "\n",
    "Si une copie de `lst` est faite (`lst1 = lst.copy()`) une modification aux variables non-mutables de style `lst[0] += 1` ne sera pas reproduite sur `lst1[0]`.\\\n",
    "Alors que `lst[2] += [6]` modifiera la liste *référencée* par `lst` et `lst1`, changeant donc visuellement le contenu de `lst` et `lst1`."
   ]
  },
  {
   "cell_type": "markdown",
   "id": "b47f9715-43b9-49ef-9ff3-9a1023b3dab2",
   "metadata": {},
   "source": [
    "---"
   ]
  },
  {
   "cell_type": "markdown",
   "id": "2764a4c1-28a7-444f-adf1-6a23dde13389",
   "metadata": {},
   "source": [
    "#### List methods"
   ]
  },
  {
   "cell_type": "markdown",
   "id": "6e123c67-e833-4938-9fa1-404486099705",
   "metadata": {},
   "source": [
    "Les listes sont munies de plusieurs différentes méthodes."
   ]
  },
  {
   "cell_type": "markdown",
   "id": "849ef237-d13a-45b9-ba4e-75264890c323",
   "metadata": {},
   "source": [
    "Celles qui modifient la liste sur laquelle elles sont appliquées:\n",
    "  - `lst.sort()` : Trie la liste\n",
    "  - `lst.reverse()` : Inverse la liste `lst = lst[::-1]`\n",
    "  - `lst.append(var)` : Ajoute var à la fin de lst `lst += [var]`\n",
    "  - `lst.pop(index)` : Supprime et retourne l'élément à l'index spécifié\n",
    "  - `lst.insert(index, var)` : Insère var à index `lst[index:index] = [var]`\n",
    "  - `lst.remove(var)` : Supprime la première occurrence de var\n",
    "  - `lst.extend(lst1)` : Ajoute tous les éléments d'une autre liste à la fin de la liste `lst = lst + lst1`"
   ]
  },
  {
   "cell_type": "code",
   "execution_count": 12,
   "id": "e52a413d-1b8d-4c82-85dd-bbd1d851c858",
   "metadata": {},
   "outputs": [
    {
     "name": "stdout",
     "output_type": "stream",
     "text": [
      "[1, 1, 2, 2, 3, 3]\n",
      "[3, 3, 2, 2, 1, 1]\n",
      "[3, 3, 2, 2, 1, 1, 8]\n",
      "[3, 3, 2, 2, 1, 8]\n",
      "[3, 3, 2, 2, 7, 1, 8]\n",
      "[3, 3, 2, 2, 1, 8]\n",
      "[3, 3, 2, 2, 1, 8, 3, 3, 2, 2, 1, 1]\n"
     ]
    }
   ],
   "source": [
    "lst = [1, 2, 3, 1, 2, 3]\n",
    "\n",
    "lst.sort()\n",
    "print(lst)\n",
    "\n",
    "lst.reverse()\n",
    "print(lst)\n",
    "\n",
    "lst1 = lst.copy()\n",
    "\n",
    "lst.append(8)\n",
    "print(lst)\n",
    "\n",
    "lst.pop(4)\n",
    "print(lst)\n",
    "\n",
    "lst.insert(4, 7)\n",
    "print(lst)\n",
    "\n",
    "lst.remove(7)\n",
    "print(lst)\n",
    "\n",
    "lst.extend(lst1)\n",
    "print(lst)\n"
   ]
  },
  {
   "cell_type": "markdown",
   "id": "b4771665-5c47-43ff-8be3-4ee1abb71e35",
   "metadata": {},
   "source": [
    "Celles qui retounent une liste ou valeur:\n",
    "  - `count = lst.count(var)` : Conte le nobre d'occurences de var\n",
    "  - `index = lst.index(var)` : Retourne l'index de la première occurence de var\n",
    "  - `list = lst.copy()` : Retourne une copie superficielle de la liste\n",
    "  - `list = lst.deepcopy()` : Du module copy, copie itérativement tout le contenu de lst"
   ]
  },
  {
   "cell_type": "code",
   "execution_count": 13,
   "id": "132ebfa5-8f09-4352-a93e-70f28190fa1c",
   "metadata": {},
   "outputs": [
    {
     "name": "stdout",
     "output_type": "stream",
     "text": [
      "2\n",
      "1\n",
      "[1, 2, 3, 1, 2, 3]\n"
     ]
    }
   ],
   "source": [
    "lst = [1, 2, 3, 1, 2, 3]\n",
    "\n",
    "print(lst.count(1))\n",
    "print(lst.index(2))\n",
    "print(lst.copy())"
   ]
  },
  {
   "cell_type": "markdown",
   "id": "3de10332-74a5-41f4-ada9-769ab175ec67",
   "metadata": {},
   "source": [
    "Il est aussi possible de vérifier si un élément est dans une liste:"
   ]
  },
  {
   "cell_type": "code",
   "execution_count": 14,
   "id": "3bdcc4af-32d5-464f-8b40-19189b2c9841",
   "metadata": {},
   "outputs": [
    {
     "name": "stdout",
     "output_type": "stream",
     "text": [
      "True\n"
     ]
    }
   ],
   "source": [
    "lst = [1, 2, 3]\n",
    "print(1 in lst)"
   ]
  },
  {
   "cell_type": "markdown",
   "id": "8977acc2-8eb6-4dc4-83af-8e0d67d603ed",
   "metadata": {},
   "source": [
    "---"
   ]
  },
  {
   "cell_type": "markdown",
   "id": "b19c327b-6059-41ba-8044-f09ad9f5c7ba",
   "metadata": {},
   "source": [
    "#### List operations"
   ]
  },
  {
   "cell_type": "markdown",
   "id": "16367d48-13bd-4f88-96c3-6a10f72d5ddb",
   "metadata": {},
   "source": [
    "Il est possible d'utiliser des opértateurs mathématiques sur les listes:\n",
    "  - `lst = lst1 + lst2` : crée une nouvelle liste composée des pointeurs de lst1 et lst2\n",
    "  - `lst = [lst1, lst` : cette liste ne contient que des pointeurs vers lst1 et lst2\n",
    "  - `lst = lst1 * 2` : lst = [lst1, lst1]\n",
    "  - `lst1 = lst2` : crée un pointeur vers lst2"
   ]
  },
  {
   "cell_type": "markdown",
   "id": "0c272129-f24f-464d-9f07-b5fa3fa27d16",
   "metadata": {},
   "source": [
    "---"
   ]
  },
  {
   "cell_type": "markdown",
   "id": "85a46882-0cdd-418a-9421-866292a3ea73",
   "metadata": {},
   "source": [
    "#### List comprehension"
   ]
  },
  {
   "cell_type": "markdown",
   "id": "aff29e30-6619-4bbc-b012-524f778a12bf",
   "metadata": {},
   "source": [
    "La compréhension de liste permet de construire des listes sur une seule ligne. Plusieurs opérateurs sont permis:\n",
    "  - `for`\n",
    "  - `if`, `elif` ou `else`"
   ]
  },
  {
   "cell_type": "code",
   "execution_count": 15,
   "id": "56e5d207-ba0a-48d9-b4c5-24a3f7c08a67",
   "metadata": {},
   "outputs": [],
   "source": [
    "lst = [i * 4 for i in range(3)]\n",
    "# Equivalent to:\n",
    "# for i in range(3):  \n",
    "#     lst.append(i * 4)  \n",
    "\n",
    "lst1 = [i * 4 for i in lst if i % 2 == 0]  \n",
    "# Equivalent to:\n",
    "# for i in lst:  \n",
    "#     if i % 2 == 0:  \n",
    "#         lst1.append(i * 4)  \n",
    "\n",
    "lst2 = [i + j for i in lst for j in lst1]  \n",
    "# Equivalent to:\n",
    "# for i in lst:  \n",
    "#     for j in lst1:  \n",
    "#         lst2.append(i + j)"
   ]
  },
  {
   "cell_type": "markdown",
   "id": "5576db66-35b4-4604-b6a7-e223565ba48b",
   "metadata": {},
   "source": [
    "---"
   ]
  },
  {
   "cell_type": "markdown",
   "id": "1e6f0ce9-9808-4bb0-9d94-79cf76ce02df",
   "metadata": {
    "jp-MarkdownHeadingCollapsed": true
   },
   "source": [
    "## Dicts and Tuples"
   ]
  },
  {
   "cell_type": "markdown",
   "id": "073bc959-c712-4a02-adbc-fb0469fec51c",
   "metadata": {},
   "source": [
    "Manipulation de dictionnaires et tuples"
   ]
  },
  {
   "cell_type": "markdown",
   "id": "2acf7073-eada-4284-bda8-23b0010bb0a0",
   "metadata": {},
   "source": [
    "---"
   ]
  },
  {
   "cell_type": "markdown",
   "id": "f01757a9-3f3b-4e84-98bc-2de5349ad3ae",
   "metadata": {},
   "source": [
    "#### Tuples"
   ]
  },
  {
   "cell_type": "markdown",
   "id": "5426eae3-4499-4026-9f8c-ff42ace48b00",
   "metadata": {},
   "source": [
    "Les tuples sont comme des listes, sauf qu'ils ne sont pas mutables. on peut aussi transformer n'importe quel objet itérable en un tuple `tuple()`\\\n",
    "Toutes les méthodes qui ne modifient pas les listes peuvent donc être utilisés sur des tuples, par exemple:\n",
    "  - `len()`\n",
    "  - `count(var)`\n",
    "  - `index(var)`\n",
    "  - etc..."
   ]
  },
  {
   "cell_type": "markdown",
   "id": "73c68c55-14aa-48a4-bd6d-e4a1f2ec7ffb",
   "metadata": {},
   "source": [
    "Il est possible de \"unpack\" des items d'un tuple:"
   ]
  },
  {
   "cell_type": "code",
   "execution_count": 16,
   "id": "03932e87-6bbe-4198-9c26-c8701a908bcb",
   "metadata": {},
   "outputs": [
    {
     "name": "stdout",
     "output_type": "stream",
     "text": [
      "2 3\n"
     ]
    }
   ],
   "source": [
    "a = (2, 3)\n",
    "b, c = a\n",
    "\n",
    "print(b, c)"
   ]
  },
  {
   "cell_type": "markdown",
   "id": "7ea20b07-b49d-4517-b9cc-ae445fa8e5bb",
   "metadata": {},
   "source": [
    "---"
   ]
  },
  {
   "cell_type": "markdown",
   "id": "02ddf2ec-83e5-451b-b299-f2d6b734c8de",
   "metadata": {},
   "source": [
    "#### Dictionaries"
   ]
  },
  {
   "cell_type": "markdown",
   "id": "ee788aee-c217-4998-ac39-130c65ae67a3",
   "metadata": {},
   "source": [
    "Ils agissent comme les listes et ne stockent que des pointeurs vers les valeurs stockées, les clés doivent être **uniques** et **non-mutables** car elles vont être hashées.\\\n",
    "Il est aussi possible de créér un dictionnaire par la compréhension: `{i: j for i, j in enumerate(foo)}`"
   ]
  },
  {
   "cell_type": "markdown",
   "id": "796c2285-a0fe-4653-b624-34ae3c7cf964",
   "metadata": {},
   "source": [
    "Il y a quelque méthodes associées aux dictionnaires:\n",
    "  - `d.get(key)` : retourne la valeur assossiée à la clé `key`, `None` si la clé n'existe pas\n",
    "  - `del d[key]` : supprime la paire située à `key` (aussi possible: `d.pop(key)`)\n",
    "  - `d.values()` : itérable contenant toutes les valeurs de `d`\n",
    "  - `d.keys()` : itérable contenant toutes les clés de `d`\n",
    "  - `d.items()` : itérable contenant des tuples `(clé, valeur)`"
   ]
  },
  {
   "cell_type": "markdown",
   "id": "75f22311-989e-4477-813e-3f259ee8c8c3",
   "metadata": {},
   "source": [
    "---"
   ]
  },
  {
   "cell_type": "markdown",
   "id": "52fd52b6-d689-4db9-bffc-a74980716cb4",
   "metadata": {
    "jp-MarkdownHeadingCollapsed": true
   },
   "source": [
    "## Exceptions"
   ]
  },
  {
   "cell_type": "markdown",
   "id": "e0958986-1d91-426c-8162-503efaa04714",
   "metadata": {},
   "source": [
    "Il faut distinguer les erreurs (`SyntaxError`) dues à une erreur de syntaxe, et toute autre exception, ici on parle des exceptions"
   ]
  },
  {
   "cell_type": "markdown",
   "id": "5e14ffc9-a002-473e-9d0e-ea4a8677cc04",
   "metadata": {},
   "source": [
    "---"
   ]
  },
  {
   "cell_type": "markdown",
   "id": "7cba37df-4346-400d-8ebe-11d0df38b315",
   "metadata": {},
   "source": [
    "#### Hierarchy"
   ]
  },
  {
   "cell_type": "markdown",
   "id": "99a6de91-0d7b-4f47-82ce-b8800fab8c9f",
   "metadata": {},
   "source": [
    "Il existe toute une série d'exceptions qui sont classées sous forme de groupes et sous-groupes:\\\n",
    "(Une exception comme `ModuleNotFoundError` est aussi une `ImportError`, une `Exception` et une `BaseException` par exemple)"
   ]
  },
  {
   "cell_type": "raw",
   "id": "ac6125de-a0f2-45d2-8865-7af06db6038e",
   "metadata": {},
   "source": [
    "BaseException\n",
    " ├── BaseExceptionGroup\n",
    " ├── GeneratorExit\n",
    " ├── KeyboardInterrupt\n",
    " ├── SystemExit\n",
    " └── Exception\n",
    "      ├── ArithmeticError\n",
    "      │    ├── FloatingPointError\n",
    "      │    ├── OverflowError\n",
    "      │    └── ZeroDivisionError\n",
    "      ├── AssertionError\n",
    "      ├── AttributeError\n",
    "      ├── BufferError\n",
    "      ├── EOFError\n",
    "      ├── ExceptionGroup [BaseExceptionGroup]\n",
    "      ├── ImportError\n",
    "      │    └── ModuleNotFoundError\n",
    "      ├── LookupError\n",
    "      │    ├── IndexError\n",
    "      │    └── KeyError\n",
    "      ├── MemoryError\n",
    "      ├── NameError\n",
    "      │    └── UnboundLocalError\n",
    "      ├── OSError\n",
    "      │    ├── BlockingIOError\n",
    "      │    ├── ChildProcessError\n",
    "      │    ├── ConnectionError\n",
    "      │    │    ├── BrokenPipeError\n",
    "      │    │    ├── ConnectionAbortedError\n",
    "      │    │    ├── ConnectionRefusedError\n",
    "      │    │    └── ConnectionResetError\n",
    "      │    ├── FileExistsError\n",
    "      │    ├── FileNotFoundError\n",
    "      │    ├── InterruptedError\n",
    "      │    ├── IsADirectoryError\n",
    "      │    ├── NotADirectoryError\n",
    "      │    ├── PermissionError\n",
    "      │    ├── ProcessLookupError\n",
    "      │    └── TimeoutError\n",
    "      ├── ReferenceError\n",
    "      ├── RuntimeError\n",
    "      │    ├── NotImplementedError\n",
    "      │    ├── PythonFinalizationError\n",
    "      │    └── RecursionError\n",
    "      ├── StopAsyncIteration\n",
    "      ├── StopIteration\n",
    "      ├── SyntaxError\n",
    "      │    └── IndentationError\n",
    "      │         └── TabError\n",
    "      ├── SystemError\n",
    "      ├── TypeError\n",
    "      ├── ValueError\n",
    "      │    └── UnicodeError\n",
    "      │         ├── UnicodeDecodeError\n",
    "      │         ├── UnicodeEncodeError\n",
    "      │         └── UnicodeTranslateError\n",
    "      └── Warning\n",
    "           ├── BytesWarning\n",
    "           ├── DeprecationWarning\n",
    "           ├── EncodingWarning\n",
    "           ├── FutureWarning\n",
    "           ├── ImportWarning\n",
    "           ├── PendingDeprecationWarning\n",
    "           ├── ResourceWarning\n",
    "           ├── RuntimeWarning\n",
    "           ├── SyntaxWarning\n",
    "           ├── UnicodeWarning\n",
    "           └── UserWarning"
   ]
  },
  {
   "cell_type": "markdown",
   "id": "aa59f8ff-905a-4c51-a432-366c22a6b5a8",
   "metadata": {},
   "source": [
    "---"
   ]
  },
  {
   "cell_type": "markdown",
   "id": "c5311b8f-40e7-4d7f-b5b9-52b57979b550",
   "metadata": {},
   "source": [
    "#### Try"
   ]
  },
  {
   "cell_type": "markdown",
   "id": "6fd59576-8b8e-4626-89c2-07ea229c4bf0",
   "metadata": {},
   "source": [
    "Pour gérer les exceptions, on utilise la syntaxe `try: ... except:`"
   ]
  },
  {
   "cell_type": "code",
   "execution_count": 17,
   "id": "b8e0f0a2-4bdc-4039-ba0f-2de377389f5c",
   "metadata": {},
   "outputs": [],
   "source": [
    "try:\n",
    "    '''Things to do that might fail'''\n",
    "except IndexError: # or any other exception\n",
    "    '''Do this if it fails'''\n",
    "except (OtherException, TooPoorError, TryHarderError): # any tuple of exceptions\n",
    "    '''Do smth else'''\n",
    "else: # optionnal\n",
    "    '''Do this if none of the except blocks were triggered'''\n",
    "finally: # optionnal\n",
    "    '''What to do after the try block'''"
   ]
  },
  {
   "cell_type": "markdown",
   "id": "10d68663-d85a-43c6-8f82-090ed9ea619a",
   "metadata": {},
   "source": [
    "Le bloc `finally` est **toujours** exécuté même si un statement `return`, `exit()` ou autre est appelé par `except` ou `else`"
   ]
  },
  {
   "cell_type": "markdown",
   "id": "61366ca8-797e-4f80-a36b-7c5f53284528",
   "metadata": {},
   "source": [
    "---"
   ]
  },
  {
   "cell_type": "markdown",
   "id": "024ec5fc-da26-4e26-a993-c9893bc514e9",
   "metadata": {},
   "source": [
    "#### Raise and `Exception()`"
   ]
  },
  {
   "cell_type": "markdown",
   "id": "07650979-b43c-498e-9cc2-968eeab670f1",
   "metadata": {},
   "source": [
    "Il est possible de créér une exception non-vanilla en utilisant `raise` dans le bloc `try`"
   ]
  },
  {
   "cell_type": "code",
   "execution_count": 18,
   "id": "61dbaf49-fc7f-4083-b8b2-f18aa5559edd",
   "metadata": {},
   "outputs": [],
   "source": [
    "try:\n",
    "    '''do stuff here'''\n",
    "    something_went_wrong = True\n",
    "    \n",
    "    if something_went_wrong:\n",
    "        raise Exception(\"Description: the user is stoopid\")\n",
    "except Exception:\n",
    "    '''what to do if Exception'''"
   ]
  },
  {
   "cell_type": "markdown",
   "id": "c576deb5-bc0e-4a7e-865f-a229915ed326",
   "metadata": {},
   "source": [
    "Il est aussi possible de récupérer la description de n'importe quelle exception:"
   ]
  },
  {
   "cell_type": "code",
   "execution_count": 19,
   "id": "6021efdf-ba9c-49f0-9e2c-c8dfd8d0038e",
   "metadata": {},
   "outputs": [
    {
     "name": "stdout",
     "output_type": "stream",
     "text": [
      "The user is stoopid\n"
     ]
    }
   ],
   "source": [
    "try:\n",
    "    '''do stuff here'''\n",
    "    something_went_wrong = True\n",
    "    \n",
    "    if something_went_wrong:\n",
    "        raise Exception(\"The user is stoopid\")\n",
    "except Exception as string:\n",
    "    print(string)"
   ]
  },
  {
   "cell_type": "markdown",
   "id": "ab381f8a-dfb7-4c43-a740-1025aa63beb9",
   "metadata": {},
   "source": [
    "---"
   ]
  },
  {
   "cell_type": "markdown",
   "id": "f2438263-de0a-4a1a-afe7-1ae5da415d9b",
   "metadata": {
    "jp-MarkdownHeadingCollapsed": true
   },
   "source": [
    "## Numpy and Matplotlib"
   ]
  },
  {
   "cell_type": "markdown",
   "id": "731988af-6a3d-4d6d-a824-51abe96c6ee5",
   "metadata": {},
   "source": [
    "Introduction à numpy et matplotlib"
   ]
  },
  {
   "cell_type": "markdown",
   "id": "795e0ea7-14f2-44c8-9355-bc0473ed2eeb",
   "metadata": {},
   "source": [
    "---"
   ]
  },
  {
   "cell_type": "markdown",
   "id": "625f3dcb-182b-4598-bced-c419ab774e78",
   "metadata": {},
   "source": [
    "#### Numpy"
   ]
  },
  {
   "cell_type": "markdown",
   "id": "d3c0841e-662d-4c6b-ad65-68a74346c9fc",
   "metadata": {},
   "source": [
    "\"The fundamental package for scientific computing with Python\", utilisé pour toute sorte d'opérations mathématiques avec des variables"
   ]
  },
  {
   "cell_type": "code",
   "execution_count": 20,
   "id": "77e62d45-68db-4762-bf8e-e5b84a404c14",
   "metadata": {},
   "outputs": [],
   "source": [
    "import numpy as np"
   ]
  },
  {
   "cell_type": "markdown",
   "id": "1d78234c-5f0c-407e-adc3-23a101c09365",
   "metadata": {},
   "source": [
    "Fondamentalement, numpy introduit un nouveau type de données: `ndarray`, qui se comporte comme un vecteur/matrice, on peut par exemple appliquer n'importe quelle fonction sur tous les éléments d'un array d'un coup"
   ]
  },
  {
   "cell_type": "code",
   "execution_count": 21,
   "id": "6df64ba5-c5b1-486f-8e30-897165ef3538",
   "metadata": {},
   "outputs": [
    {
     "name": "stdout",
     "output_type": "stream",
     "text": [
      "[ 1  4  9 16]\n"
     ]
    }
   ],
   "source": [
    "arr = np.array([1, 2, 3, 4])\n",
    "square = lambda x: x**2\n",
    "print(square(arr))"
   ]
  },
  {
   "cell_type": "markdown",
   "id": "0721de00-d092-40f4-adf4-eaae3b329b72",
   "metadata": {},
   "source": [
    "Noter que la taille d'un `ndarray` est non-mutable et doit être définie à sa création! De plus, un array va se régler au type le plus général dans l'itérable utilisé pour sa création"
   ]
  },
  {
   "cell_type": "code",
   "execution_count": 22,
   "id": "cf90a900-33f4-41cd-884a-8ef7d2252706",
   "metadata": {},
   "outputs": [
    {
     "name": "stdout",
     "output_type": "stream",
     "text": [
      "['1' '2' '3']\n"
     ]
    }
   ],
   "source": [
    "print(np.array([1, 2, \"3\"]))"
   ]
  },
  {
   "cell_type": "markdown",
   "id": "64f79361-70c8-4895-b5f2-2ba45028045c",
   "metadata": {},
   "source": [
    "---"
   ]
  },
  {
   "cell_type": "markdown",
   "id": "af524e91-376e-47a6-b25a-2f6c7e02260f",
   "metadata": {},
   "source": [
    "##### One-dimensional arrays"
   ]
  },
  {
   "cell_type": "markdown",
   "id": "e73e2cd6-07b7-413a-ad35-dc276e0b2526",
   "metadata": {},
   "source": [
    "Il y a plusieurs méthodes pour créer des vecteurs à une dimension (une ligne)"
   ]
  },
  {
   "cell_type": "code",
   "execution_count": 23,
   "id": "75c6d0e1-b119-4b9f-882d-205a1729c175",
   "metadata": {},
   "outputs": [
    {
     "name": "stdout",
     "output_type": "stream",
     "text": [
      "[0. 0. 0. 0. 0. 0.]\n",
      "[1. 1. 1. 1. 1. 1.]\n",
      "['aaa' 'aaa' 'aaa' 'aaa' 'aaa' 'aaa']\n",
      "[1. 1. 1. 1. 1. 1.]\n",
      "[0.         1.66666667 3.33333333 5.        ]\n"
     ]
    }
   ],
   "source": [
    "dim = 6\n",
    "val = \"aaa\"\n",
    "print(np.zeros(dim))\n",
    "print(np.ones(dim))\n",
    "print(np.full(dim, val))\n",
    "print(np.empty(dim)) # valeurs aléatoires\n",
    "print(np.linspace(start=0, stop=5, num=4)) # distibution régulière ~ \"range\""
   ]
  },
  {
   "cell_type": "markdown",
   "id": "69378136-b1db-4b52-8fc5-2747b051d712",
   "metadata": {},
   "source": [
    "---"
   ]
  },
  {
   "cell_type": "markdown",
   "id": "102884bb-ddca-4ed8-b932-084865e37b01",
   "metadata": {},
   "source": [
    "##### Multi-dimensional arrays"
   ]
  },
  {
   "cell_type": "markdown",
   "id": "64839554-7ff3-455d-8791-4f95481fb4db",
   "metadata": {},
   "source": [
    "Noter que `dim` peut être autre chose qu'un simple `int`"
   ]
  },
  {
   "cell_type": "code",
   "execution_count": 24,
   "id": "503edf42-b69d-46d2-bc8d-b4fbe03ef578",
   "metadata": {},
   "outputs": [
    {
     "name": "stdout",
     "output_type": "stream",
     "text": [
      "[[[0. 0.]\n",
      "  [0. 0.]\n",
      "  [0. 0.]]\n",
      "\n",
      " [[0. 0.]\n",
      "  [0. 0.]\n",
      "  [0. 0.]]]\n"
     ]
    }
   ],
   "source": [
    "dim = [2, 3, 2]\n",
    "print(np.zeros(dim))"
   ]
  },
  {
   "cell_type": "markdown",
   "id": "fe278bbe-494c-41d5-b009-c16dc8aed296",
   "metadata": {},
   "source": [
    "Il est possible d'adresser différentes parties d'un array via du \"slicing étendu\" "
   ]
  },
  {
   "cell_type": "code",
   "execution_count": 25,
   "id": "cc0cf0f6-38d5-449f-a5b5-c44e11cf1567",
   "metadata": {},
   "outputs": [
    {
     "name": "stdout",
     "output_type": "stream",
     "text": [
      "[['a' 'b' 'c']\n",
      " ['d' 'e' 'f']\n",
      " ['g' 'h' 'i']]\n",
      "\n",
      "[['d' 'e' 'f']\n",
      " ['g' 'h' 'i']]\n",
      "\n",
      "['b' 'e' 'h']\n"
     ]
    }
   ],
   "source": [
    "arr = np.array([[\"a\", \"b\", \"c\"], [\"d\", \"e\", \"f\"], [\"g\", \"h\", \"i\"]])\n",
    "print(arr)\n",
    "print()\n",
    "print(arr[1:, :]) # lignes 3 et 4\n",
    "print()\n",
    "print(arr[:, 1]) # deuxièmme colonne"
   ]
  },
  {
   "cell_type": "markdown",
   "id": "e9f6e965-e9ff-4116-8126-226e0ea5ff0d",
   "metadata": {},
   "source": [
    "On peut connaître le nombre de dimensions (\"profondeur\") ou la forme d'un array"
   ]
  },
  {
   "cell_type": "code",
   "execution_count": 26,
   "id": "0503d4b4-e10b-4f64-bcf3-524d014e3ce7",
   "metadata": {},
   "outputs": [
    {
     "name": "stdout",
     "output_type": "stream",
     "text": [
      "2\n",
      "(3, 3)\n"
     ]
    }
   ],
   "source": [
    "print(arr.ndim)\n",
    "print(arr.shape)"
   ]
  },
  {
   "cell_type": "markdown",
   "id": "ef791a8f-6a3b-43e5-85c0-1e2ec48087e2",
   "metadata": {},
   "source": [
    "Et même créer des matrices identités"
   ]
  },
  {
   "cell_type": "code",
   "execution_count": 27,
   "id": "65f19116-fca1-4987-96d0-c4930025cf41",
   "metadata": {},
   "outputs": [
    {
     "name": "stdout",
     "output_type": "stream",
     "text": [
      "[[1. 0. 0.]\n",
      " [0. 1. 0.]\n",
      " [0. 0. 1.]]\n"
     ]
    }
   ],
   "source": [
    "print(np.eye(3))"
   ]
  },
  {
   "cell_type": "markdown",
   "id": "e859417c-36a6-452c-858d-c5925e5d4a7c",
   "metadata": {},
   "source": [
    "---"
   ]
  },
  {
   "cell_type": "markdown",
   "id": "09ed1131-4eed-40f8-a959-b3221832577a",
   "metadata": {},
   "source": [
    "##### Array operations"
   ]
  },
  {
   "cell_type": "markdown",
   "id": "8a72f83e-df8f-4434-828c-197a11b9e6e6",
   "metadata": {},
   "source": [
    "Comme vu au dessus, les opérations simultanées sur tous les éléments sont très faciles avec numpy\\\n",
    "Pour effectuer des opérations comme un produit matriciel, il faut utiliser les méthodes de `np.linalg`"
   ]
  },
  {
   "cell_type": "code",
   "execution_count": 28,
   "id": "2878889c-76ea-48e9-a8b7-8de39b3eea86",
   "metadata": {},
   "outputs": [
    {
     "name": "stdout",
     "output_type": "stream",
     "text": [
      "1.0\n",
      "[1. 1. 1.]\n"
     ]
    }
   ],
   "source": [
    "matrix = np.eye(3)\n",
    "print(np.linalg.det(matrix)) # détérminant\n",
    "print(np.linalg.eigvals(matrix)) # valeurs propres"
   ]
  },
  {
   "cell_type": "markdown",
   "id": "adde132d-e383-459c-9aa1-2d158f843f9d",
   "metadata": {},
   "source": [
    "Il est aussi possible d'effectuer des opérations booléennes"
   ]
  },
  {
   "cell_type": "code",
   "execution_count": 29,
   "id": "126afe2b-e6eb-4eb4-93d3-015c452d57e5",
   "metadata": {},
   "outputs": [
    {
     "name": "stdout",
     "output_type": "stream",
     "text": [
      "[[0.73169968 0.50562071 0.59146094 0.95915134]\n",
      " [0.54010315 0.16747568 0.79797053 0.35078326]\n",
      " [0.44831089 0.82853023 0.05187763 0.74432475]\n",
      " [0.07321843 0.77500409 0.8882274  0.4653113 ]]\n",
      "\n",
      "[[ True  True  True  True]\n",
      " [ True False  True  True]\n",
      " [ True  True False  True]\n",
      " [False  True  True  True]]\n"
     ]
    }
   ],
   "source": [
    "arr = np.random.rand(4, 4)\n",
    "print(arr)\n",
    "print()\n",
    "print(arr > 0.3)"
   ]
  },
  {
   "cell_type": "code",
   "execution_count": 30,
   "id": "064168d7-99dc-4ed6-9356-efc851d9dd6e",
   "metadata": {},
   "outputs": [
    {
     "name": "stdout",
     "output_type": "stream",
     "text": [
      "[[1. 1. 1. 1.]\n",
      " [1. 0. 1. 0.]\n",
      " [0. 1. 0. 1.]\n",
      " [0. 1. 1. 0.]]\n"
     ]
    }
   ],
   "source": [
    "rounded = np.empty_like(arr)\n",
    "rounded[arr >= 0.5] = 1; rounded[arr < 0.5] = 0\n",
    "print(rounded)"
   ]
  },
  {
   "cell_type": "markdown",
   "id": "f85f4ea0-fdce-4397-8aa7-2f1a1877d6b9",
   "metadata": {},
   "source": [
    "On peut `reshape` des arrays si le nombre d'éléments reste le même"
   ]
  },
  {
   "cell_type": "code",
   "execution_count": 31,
   "id": "35e4d0a1-96d0-40a0-b0e2-bcc8e3abe704",
   "metadata": {},
   "outputs": [
    {
     "name": "stdout",
     "output_type": "stream",
     "text": [
      "[[[0.73169968 0.50562071 0.59146094 0.95915134]\n",
      "  [0.54010315 0.16747568 0.79797053 0.35078326]]\n",
      "\n",
      " [[0.44831089 0.82853023 0.05187763 0.74432475]\n",
      "  [0.07321843 0.77500409 0.8882274  0.4653113 ]]]\n"
     ]
    }
   ],
   "source": [
    "arr = np.reshape(arr, [2, 2, 4]) # noter que 4x4 = 16 = 2x2x4\n",
    "print(arr)"
   ]
  },
  {
   "cell_type": "markdown",
   "id": "b2c3a1d9-292a-49ad-9fc4-5f6bf90b6f4d",
   "metadata": {},
   "source": [
    "Enfin, on peut concaténer des arrays entre eux"
   ]
  },
  {
   "cell_type": "code",
   "execution_count": 32,
   "id": "cd7f1c6d-d12a-4480-aa72-12d79756dde7",
   "metadata": {},
   "outputs": [
    {
     "name": "stdout",
     "output_type": "stream",
     "text": [
      "[1 2 3 4 5 6]\n"
     ]
    }
   ],
   "source": [
    "x = np.array([1, 2, 3])\n",
    "y = np.array([4, 5, 6])\n",
    "print(np.concatenate((x, y)))"
   ]
  },
  {
   "cell_type": "code",
   "execution_count": 33,
   "id": "92db82e4-8eb0-4eee-98d5-5964de4b09ad",
   "metadata": {},
   "outputs": [
    {
     "name": "stdout",
     "output_type": "stream",
     "text": [
      "[[1 2]\n",
      " [3 4]\n",
      " [5 6]\n",
      " [7 8]]\n",
      "[[1 2 5 6]\n",
      " [3 4 7 8]]\n"
     ]
    }
   ],
   "source": [
    "a = np.array([[1, 2], [3, 4]])\n",
    "b = np.array([[5, 6], [7, 8]])\n",
    "print(np.concatenate((a, b), axis=0))\n",
    "print(np.concatenate((a, b), axis=1))"
   ]
  },
  {
   "cell_type": "markdown",
   "id": "5854db27-e598-4e1a-854a-df97a1c17f9a",
   "metadata": {},
   "source": [
    "---"
   ]
  },
  {
   "cell_type": "markdown",
   "id": "86a660ea-c695-4195-82fe-4d56b2c674a0",
   "metadata": {},
   "source": [
    "#### Matplotlib"
   ]
  },
  {
   "cell_type": "markdown",
   "id": "072f2701-fcb4-4f74-a397-4337da9d7581",
   "metadata": {},
   "source": [
    "\"Matplotlib is a comprehensive library for creating static, animated, and interactive visualizations in Python. Matplotlib makes easy things easy and hard things possible.\""
   ]
  },
  {
   "cell_type": "code",
   "execution_count": 34,
   "id": "716342a7-afe8-411b-855d-b6021fbbdd46",
   "metadata": {},
   "outputs": [],
   "source": [
    "import matplotlib.pyplot as plt"
   ]
  },
  {
   "cell_type": "markdown",
   "id": "54818222-61a1-4da3-a188-f5d9a91d8e64",
   "metadata": {},
   "source": [
    "##### Multiple line plot"
   ]
  },
  {
   "cell_type": "code",
   "execution_count": 35,
   "id": "1cb6ea15-4593-48db-9b93-d2c525e0b20d",
   "metadata": {},
   "outputs": [
    {
     "data": {
      "image/png": "[encoded data removed]",
      "text/plain": [
       "<Figure size 640x480 with 1 Axes>"
      ]
     },
     "metadata": {},
     "output_type": "display_data"
    }
   ],
   "source": [
    "x = np.linspace(0, 10, 100)\n",
    "y1 = np.sin(x)\n",
    "y2 = np.cos(x)\n",
    "\n",
    "plt.figure()\n",
    "plt.plot(x, y1, label='Sine Wave', color='blue')\n",
    "plt.plot(x, y2, label='Cosine Wave', color='red')\n",
    "\n",
    "# Add title and labels\n",
    "plt.title('Multiple Line Plots with Gridlines')\n",
    "plt.xlabel('X-axis')\n",
    "plt.ylabel('Y-axis')\n",
    "\n",
    "# Display legend\n",
    "plt.legend()\n",
    "\n",
    "# Enable gridlines\n",
    "plt.grid()\n",
    "\n",
    "# Show the plot\n",
    "plt.show()"
   ]
  },
  {
   "cell_type": "markdown",
   "id": "40c36472-a7a1-4b6f-ac76-ea648a2cfa64",
   "metadata": {},
   "source": [
    "##### Scatter plot"
   ]
  },
  {
   "cell_type": "code",
   "execution_count": 36,
   "id": "14bbab19-1f5c-4df7-b2ad-471befc5c6a8",
   "metadata": {},
   "outputs": [
    {
     "data": {
      "image/png": "[encoded data removed]",
      "text/plain": [
       "<Figure size 640x480 with 1 Axes>"
      ]
     },
     "metadata": {},
     "output_type": "display_data"
    }
   ],
   "source": [
    "x = np.random.rand(100)\n",
    "y = np.random.rand(100)\n",
    "\n",
    "plt.figure()\n",
    "plt.scatter(x, y, color='navy', marker='x', linewidth=0.75, label='Data Points')\n",
    "\n",
    "# Add title and labels\n",
    "plt.title('Scatter Plot')\n",
    "plt.xlabel('X-axis')\n",
    "plt.ylabel('Y-axis')\n",
    "\n",
    "# Display legend\n",
    "plt.legend(loc='lower left')\n",
    "\n",
    "# Show the plot\n",
    "plt.show()"
   ]
  },
  {
   "cell_type": "markdown",
   "id": "73a0d3eb-5411-4918-b572-3920f8e14894",
   "metadata": {},
   "source": [
    "##### Histogram plot"
   ]
  },
  {
   "cell_type": "code",
   "execution_count": 37,
   "id": "99643a8e-232c-44ec-aa32-641b3f79534e",
   "metadata": {},
   "outputs": [
    {
     "data": {
      "image/png": "[encoded data removed]",
      "text/plain": [
       "<Figure size 640x480 with 1 Axes>"
      ]
     },
     "metadata": {},
     "output_type": "display_data"
    }
   ],
   "source": [
    "categories = ['A', 'B', 'C', 'D']\n",
    "values = np.random.rand(4)\n",
    "\n",
    "plt.figure()\n",
    "plt.bar(categories, values, color='none', edgecolor='black', hatch='///')\n",
    "\n",
    "# Add title and labels\n",
    "plt.title('Bar Plot')\n",
    "plt.xlabel('Categories')\n",
    "plt.ylabel('Values')\n",
    "\n",
    "# Display the plot\n",
    "plt.show()"
   ]
  },
  {
   "cell_type": "markdown",
   "id": "6db289a3-7c9e-4438-b037-713ce8e79e6d",
   "metadata": {},
   "source": [
    "##### Subplots"
   ]
  },
  {
   "cell_type": "code",
   "execution_count": 38,
   "id": "dc78114a-1708-471d-964e-838640c54e31",
   "metadata": {},
   "outputs": [
    {
     "data": {
      "image/png": "[encoded data removed]",
      "text/plain": [
       "<Figure size 640x480 with 2 Axes>"
      ]
     },
     "metadata": {},
     "output_type": "display_data"
    }
   ],
   "source": [
    "x = np.linspace(0, 10, 100)\n",
    "\n",
    "# Create a figure with two subplots\n",
    "fig = plt.figure()\n",
    "\n",
    "# First subplot (top-left corner)\n",
    "plt.subplot(2, 1, 1)\n",
    "plt.plot(x, np.sin(x))\n",
    "plt.title('Sine')\n",
    "\n",
    "# Second subplot (bottom-left corner)\n",
    "plt.subplot(2, 1, 2)\n",
    "plt.plot(x, np.cos(x))\n",
    "plt.title('Cosine')\n",
    "\n",
    "fig.subplots_adjust(wspace=0.3, hspace=0.4)\n",
    "\n",
    "# Show the plot\n",
    "plt.show()"
   ]
  },
  {
   "cell_type": "markdown",
   "id": "cc333bd1-8287-4ac4-88c4-3e3286963651",
   "metadata": {},
   "source": [
    "##### Heatmap"
   ]
  },
  {
   "cell_type": "code",
   "execution_count": 39,
   "id": "d0c59405-d366-4c10-9bb0-30ccc40ee302",
   "metadata": {},
   "outputs": [
    {
     "data": {
      "image/png": "[encoded data removed]",
      "text/plain": [
       "<Figure size 640x480 with 2 Axes>"
      ]
     },
     "metadata": {},
     "output_type": "display_data"
    }
   ],
   "source": [
    "import matplotlib.pyplot as plt\n",
    "import numpy as np\n",
    "\n",
    "# Sample data: A 2D array where each row and column is indexed by variables, and the value of the array represents the intensity\n",
    "data = np.random.rand(10, 10)\n",
    "\n",
    "# Create a figure and axis\n",
    "fig, ax = plt.subplots()\n",
    "\n",
    "# Create the heatmap\n",
    "cax = ax.imshow(data, cmap='viridis', interpolation='nearest')\n",
    "\n",
    "# Add colorbar to represent values\n",
    "fig.colorbar(cax)\n",
    "\n",
    "# Add titles and labels\n",
    "ax.set_title('Heatmap')\n",
    "ax.set_xlabel('Variable 1')\n",
    "ax.set_ylabel('Variable 2')\n",
    "\n",
    "# Display the heatmap\n",
    "plt.show()"
   ]
  },
  {
   "cell_type": "markdown",
   "id": "7105fa51-88e8-48d7-bffd-ebc47b96cfdd",
   "metadata": {},
   "source": [
    "##### Advanced usage"
   ]
  },
  {
   "cell_type": "code",
   "execution_count": 40,
   "id": "62fb95f2-8da3-48df-8e11-1fb8ee797438",
   "metadata": {},
   "outputs": [
    {
     "data": {
      "image/png": "[encoded data removed]",
      "text/plain": [
       "<Figure size 640x640 with 1 Axes>"
      ]
     },
     "metadata": {},
     "output_type": "display_data"
    }
   ],
   "source": [
    "from matplotlib import colors\n",
    "\n",
    "# variables 1\n",
    "v_density = 30\n",
    "l_density = 80\n",
    "p_density = 80\n",
    "d_density = 500\n",
    "c_pos = (1, 1)\n",
    "c_radius = 0.95\n",
    "\n",
    "# variables 2\n",
    "l_viscosity = 148.1408929\n",
    "rho_a = 7850\n",
    "rho_g = 1260\n",
    "radius = 0.0005\n",
    "pi = np.pi\n",
    "g = 9.81\n",
    "sum_f = (\n",
    "    (\n",
    "        -\n",
    "        (rho_g * 2 * (4/3) * pi * radius**3 * g)\n",
    "        -\n",
    "        (6 * pi * radius * l_viscosity)\n",
    "        +\n",
    "        (rho_a * (4/3) * 2 * pi * radius**3 * g)\n",
    "    )\n",
    ")\n",
    "\n",
    "# main\n",
    "def flow(psi, mask = None, x=np.linspace(-4, 4, d_density), y=np.linspace(-4, 4, d_density), h=1e-10):\n",
    "    x_axis, y_axis = np.meshgrid(x, y)\n",
    "    if mask:\n",
    "        x_axis, y_axis = (\n",
    "            np.ma.masked_where(mask(x_axis, y_axis), x_axis),\n",
    "            np.ma.masked_where(mask(x_axis, y_axis), y_axis)\n",
    "        )\n",
    "\n",
    "    # complex analysis navier-stokes\n",
    "    u_axis = - (psi(x_axis, y_axis + h) - psi(x_axis, y_axis - h)) / (2 * h)\n",
    "    v_axis = (psi(x_axis + h, y_axis) - psi(x_axis - h, y_axis)) / (2 * h)\n",
    "\n",
    "    plt.figure(figsize=(8, 8), dpi=p_density)\n",
    "    plt.quiver(\n",
    "        x_axis[::v_density, ::v_density],\n",
    "        y_axis[::v_density, ::v_density],\n",
    "        u_axis[::v_density, ::v_density],\n",
    "        v_axis[::v_density, ::v_density],\n",
    "        alpha=0.8\n",
    "    )\n",
    "    cmap = colors.ListedColormap(['black', 'black'])\n",
    "    bounds = [0, 0, 0]\n",
    "    norm = colors.BoundaryNorm(bounds, cmap.N)\n",
    "    plt.contour(\n",
    "        x_axis,\n",
    "        y_axis,\n",
    "        psi(x_axis, y_axis),\n",
    "        levels=l_density,\n",
    "        cmap='hot',\n",
    "        norm=norm,\n",
    "        alpha=0.5\n",
    "    )\n",
    "    \n",
    "    plt.axis('equal')\n",
    "\n",
    "    centre = plt.Circle((0, 0), 0.95, color='gray')\n",
    "    plt.gca().add_patch(centre)\n",
    "\n",
    "# flow lines functions\n",
    "ball = lambda y, x : y - y / (x**2 + y**2)\n",
    "ball_mask = lambda y, x : x**2 + y**2 < 0.95\n",
    "flow(ball, ball_mask)\n",
    "\n",
    "plt.show()"
   ]
  },
  {
   "cell_type": "markdown",
   "id": "6c197169-6759-477e-83c4-f77e9108bbb0",
   "metadata": {
    "jp-MarkdownHeadingCollapsed": true
   },
   "source": [
    "## Useful tricks"
   ]
  },
  {
   "cell_type": "markdown",
   "id": "8ee40ed4-d3d5-44cb-84bd-b61f6159ea5a",
   "metadata": {},
   "source": [
    "De multiples manières d'accélérer l'écriture de certaines opérations"
   ]
  },
  {
   "cell_type": "markdown",
   "id": "27fb145d-a900-4ad5-a722-e44ce8ad239e",
   "metadata": {},
   "source": [
    "---"
   ]
  },
  {
   "cell_type": "markdown",
   "id": "22cddf7c-c839-473c-a3d8-f6f7f6a3b787",
   "metadata": {},
   "source": [
    "#### Walrus operator"
   ]
  },
  {
   "cell_type": "markdown",
   "id": "81163109-2fcb-4e62-a310-d3f73e3f6ba6",
   "metadata": {},
   "source": [
    "Assigne une valeur à l'intérieur d'une expression"
   ]
  },
  {
   "cell_type": "code",
   "execution_count": 41,
   "id": "7648e2e4-56a7-4755-8403-36288343d52b",
   "metadata": {},
   "outputs": [
    {
     "name": "stdout",
     "output_type": "stream",
     "text": [
      "5\n",
      "4\n",
      "3\n",
      "2\n",
      "1\n"
     ]
    }
   ],
   "source": [
    "numbers = [1, 2, 3, 4, 5]\n",
    "\n",
    "while (n := len(numbers)) > 0:\n",
    "    print(numbers.pop())"
   ]
  },
  {
   "cell_type": "markdown",
   "id": "d14daf06-0474-4f1e-a6c7-afbc47e899ea",
   "metadata": {},
   "source": [
    "---"
   ]
  },
  {
   "cell_type": "markdown",
   "id": "6153f92a-407d-4553-b646-6f1cde624a49",
   "metadata": {},
   "source": [
    "#### Ternary operator"
   ]
  },
  {
   "cell_type": "markdown",
   "id": "f3e2fa49-a56f-4e26-a665-0e70e6826ccf",
   "metadata": {},
   "source": [
    "Comme pour la compréhension de listes, permet l'utilisation de `if-else` sur une ligne"
   ]
  },
  {
   "cell_type": "code",
   "execution_count": 42,
   "id": "e7b1971a-531e-4c17-a1e6-dd5417d7babb",
   "metadata": {},
   "outputs": [
    {
     "name": "stdout",
     "output_type": "stream",
     "text": [
      "Adult\n"
     ]
    }
   ],
   "source": [
    "status = \"Adult\" if (age := 20) >= 18 else \"Minor\"  \n",
    "print(status)"
   ]
  },
  {
   "cell_type": "markdown",
   "id": "d29b2438-25ac-42fb-9580-d376533834f9",
   "metadata": {},
   "source": [
    "---"
   ]
  },
  {
   "cell_type": "markdown",
   "id": "7e49951e-f4e6-4bad-ae76-32d2d6ab5c52",
   "metadata": {},
   "source": [
    "#### Set & Dict comprehension"
   ]
  },
  {
   "cell_type": "markdown",
   "id": "b23d9022-bc7f-47a6-b2dc-f92a41bef21f",
   "metadata": {},
   "source": [
    "Comme pour les listes, permet de créer des dictionnaires et ensembles en une ligne"
   ]
  },
  {
   "cell_type": "code",
   "execution_count": 43,
   "id": "e2d1cb2c-b452-46cd-8394-cda547aee49d",
   "metadata": {},
   "outputs": [],
   "source": [
    "num_set = {x for x in [1, 2, 2, 3]}  # {1, 2, 3}  \n",
    "squared_dict = {x:x**2 for x in range(3)}  # {0: 0, 1: 1, 2: 4}  "
   ]
  },
  {
   "cell_type": "markdown",
   "id": "ae709ccc-6d5f-4cc7-94ce-f4e4358ff8c3",
   "metadata": {},
   "source": [
    "---"
   ]
  },
  {
   "cell_type": "markdown",
   "id": "ff914e98-3c73-460e-82fa-3f096adae25f",
   "metadata": {},
   "source": [
    "#### Variable unpacking"
   ]
  },
  {
   "cell_type": "markdown",
   "id": "2a8e66b7-9222-4c85-9a22-413f865e9e50",
   "metadata": {},
   "source": [
    "Il est possible d'assigner des valeurs à plusieurs variables à la fois"
   ]
  },
  {
   "cell_type": "code",
   "execution_count": 44,
   "id": "7afce607-4435-4722-a808-c400761b78ab",
   "metadata": {},
   "outputs": [
    {
     "name": "stdout",
     "output_type": "stream",
     "text": [
      "1 2 3\n"
     ]
    }
   ],
   "source": [
    "a, b, c = [1, 2, 3]  \n",
    "print(a, b, c)"
   ]
  },
  {
   "cell_type": "code",
   "execution_count": 45,
   "id": "d91a7b24-8203-4093-96d5-ee08fa101578",
   "metadata": {},
   "outputs": [
    {
     "name": "stdout",
     "output_type": "stream",
     "text": [
      "1 [2, 3, 4] 5\n"
     ]
    }
   ],
   "source": [
    "first, *middle, last = [1, 2, 3, 4, 5]  \n",
    "print(first, middle, last)"
   ]
  },
  {
   "cell_type": "markdown",
   "id": "ca2e041b-3426-4e72-933c-90b84b055cb8",
   "metadata": {},
   "source": [
    "Et d'échanger des variables"
   ]
  },
  {
   "cell_type": "code",
   "execution_count": 46,
   "id": "37559f9a-6813-4b00-a34a-d5523167fe0e",
   "metadata": {},
   "outputs": [
    {
     "name": "stdout",
     "output_type": "stream",
     "text": [
      "20 10\n"
     ]
    }
   ],
   "source": [
    "x, y = 10, 20  \n",
    "x, y = y, x  \n",
    "print(x, y)"
   ]
  },
  {
   "cell_type": "markdown",
   "id": "3f775cc2-f7e7-49d6-80b2-03b339bfe4a4",
   "metadata": {},
   "source": [
    "Ainsi que d'assigner des valeurs par défaut"
   ]
  },
  {
   "cell_type": "code",
   "execution_count": 47,
   "id": "d13a81af-ddb3-4e53-a2b7-cb6ce130ca06",
   "metadata": {},
   "outputs": [
    {
     "name": "stdout",
     "output_type": "stream",
     "text": [
      "Guest\n"
     ]
    }
   ],
   "source": [
    "user_input = \"\"  \n",
    "name = user_input or \"Guest\"  \n",
    "print(name)"
   ]
  },
  {
   "cell_type": "markdown",
   "id": "c8ea180c-3476-4680-a7a5-839fb31a9467",
   "metadata": {},
   "source": [
    "---"
   ]
  },
  {
   "cell_type": "markdown",
   "id": "90d97c6b-44b4-4b8f-aae3-b41d943c1fb6",
   "metadata": {},
   "source": [
    "#### Iterable tricks"
   ]
  },
  {
   "cell_type": "markdown",
   "id": "aadf21ab-9c33-4f50-9cfc-b6de24078195",
   "metadata": {},
   "source": [
    "`zip()` permet de combiner deux itérables élément par élément"
   ]
  },
  {
   "cell_type": "code",
   "execution_count": 48,
   "id": "7864ad42-4f1f-4e45-a308-e800d87f9603",
   "metadata": {},
   "outputs": [
    {
     "name": "stdout",
     "output_type": "stream",
     "text": [
      "[(1, 'a'), (2, 'b'), (3, 'c')]\n"
     ]
    }
   ],
   "source": [
    "list1 = [1, 2, 3]\n",
    "list2 = ['a', 'b', 'c']\n",
    "zipped = zip(list1, list2)\n",
    "print(list(zipped))"
   ]
  },
  {
   "cell_type": "markdown",
   "id": "990a7970-e511-4f64-bd8f-76bc5df0a56b",
   "metadata": {},
   "source": [
    "`enumerate()` retourne une liste qui associe chaque élément d'une liste à son index dans un tuple"
   ]
  },
  {
   "cell_type": "code",
   "execution_count": 49,
   "id": "3f6c9a68-07c8-40bd-a5cd-dc18e1c79a54",
   "metadata": {},
   "outputs": [
    {
     "name": "stdout",
     "output_type": "stream",
     "text": [
      "0 Alice\n",
      "1 Bob\n",
      "2 Charlie\n"
     ]
    }
   ],
   "source": [
    "names = ['Alice', 'Bob', 'Charlie']\n",
    "for idx, name in enumerate(names):\n",
    "    print(idx, name)"
   ]
  },
  {
   "cell_type": "markdown",
   "id": "6a95e5f1-ef48-4d15-9851-74c13830fa50",
   "metadata": {},
   "source": [
    "`all()` vérifie si tous les éléments d'un set sont `True`"
   ]
  },
  {
   "cell_type": "code",
   "execution_count": 50,
   "id": "9d67a9e4-cf16-4f97-925b-eb2e43e97e8d",
   "metadata": {},
   "outputs": [
    {
     "name": "stdout",
     "output_type": "stream",
     "text": [
      "True\n"
     ]
    }
   ],
   "source": [
    "numbers = [2, 4, 6, 8]\n",
    "print(all(x % 2 == 0 for x in numbers))"
   ]
  },
  {
   "cell_type": "markdown",
   "id": "bf5042d2-d245-417e-ac29-5bcaf48290a3",
   "metadata": {},
   "source": [
    "`any()` vérifie si au moins un des éléments d'une liste est `True`"
   ]
  },
  {
   "cell_type": "code",
   "execution_count": 51,
   "id": "2d6e735a-4da9-49b5-a386-749488defbcd",
   "metadata": {},
   "outputs": [
    {
     "name": "stdout",
     "output_type": "stream",
     "text": [
      "True\n"
     ]
    }
   ],
   "source": [
    "numbers = [0, 1, 2, 3]\n",
    "print(any(x % 2 == 0 for x in numbers))"
   ]
  },
  {
   "cell_type": "markdown",
   "id": "95b63341-5311-4070-992c-7c261aa81d65",
   "metadata": {},
   "source": [
    "`map()` applique une fonction à chaque élément d'une liste, peut prendre une lambda function comme argument aussi"
   ]
  },
  {
   "cell_type": "code",
   "execution_count": 52,
   "id": "c6b03f35-e268-4d74-8ab3-50e84d01174c",
   "metadata": {},
   "outputs": [
    {
     "name": "stdout",
     "output_type": "stream",
     "text": [
      "[1, 4, 9, 16]\n"
     ]
    }
   ],
   "source": [
    "numbers = [1, 2, 3, 4]\n",
    "squared = map(lambda x: x ** 2, numbers)\n",
    "print(list(squared))"
   ]
  },
  {
   "cell_type": "markdown",
   "id": "33858935-8346-4c19-b2fe-aec8d6c573b6",
   "metadata": {},
   "source": [
    "`filter()` applique une fonction à chaque élément et retourne une liste qui ne contient que les éléments pour lequels la fonction retourne `True`"
   ]
  },
  {
   "cell_type": "code",
   "execution_count": 53,
   "id": "6903b5ba-fc27-4ca2-9268-080a8a47d6a4",
   "metadata": {},
   "outputs": [
    {
     "name": "stdout",
     "output_type": "stream",
     "text": [
      "[2, 4]\n"
     ]
    }
   ],
   "source": [
    "numbers = [1, 2, 3, 4, 5]\n",
    "even_numbers = filter(lambda x: x % 2 == 0, numbers)\n",
    "print(list(even_numbers))"
   ]
  },
  {
   "cell_type": "markdown",
   "id": "f0f5651f-1815-4f92-86b1-681975344ca2",
   "metadata": {},
   "source": [
    "`sorted()` trie et retourne une liste"
   ]
  },
  {
   "cell_type": "code",
   "execution_count": 54,
   "id": "a110ce21-4e87-42d6-9d4b-f8820c0d7cad",
   "metadata": {},
   "outputs": [
    {
     "name": "stdout",
     "output_type": "stream",
     "text": [
      "[1, 2, 3, 4, 5]\n"
     ]
    }
   ],
   "source": [
    "unsorted_list = [3, 1, 4, 5, 2]\n",
    "print(sorted(unsorted_list))"
   ]
  },
  {
   "cell_type": "markdown",
   "id": "57b0d28f-d461-4381-b226-4665496dbfc6",
   "metadata": {},
   "source": [
    "`reversed()` inverse une liste, équivaut à `lst[::-1]`"
   ]
  },
  {
   "cell_type": "code",
   "execution_count": 55,
   "id": "c5a8763b-c479-4d9a-a211-c029696bac33",
   "metadata": {},
   "outputs": [
    {
     "name": "stdout",
     "output_type": "stream",
     "text": [
      "[5, 4, 3, 2, 1]\n"
     ]
    }
   ],
   "source": [
    "seq = [1, 2, 3, 4, 5]\n",
    "print(list(reversed(seq)))"
   ]
  },
  {
   "cell_type": "markdown",
   "id": "efe8048f-fb94-4812-b1c8-11b92fd98c01",
   "metadata": {},
   "source": [
    "`reduce()` applique une fonction arbitraire au deux premiers éléments d'une liste, et les remplace par l'output de la fontion jusqu'à avoir condensé la liste originale à un seul élément"
   ]
  },
  {
   "cell_type": "code",
   "execution_count": 56,
   "id": "5852d510-bb69-4cff-9c8c-c5f8b1278444",
   "metadata": {},
   "outputs": [
    {
     "name": "stdout",
     "output_type": "stream",
     "text": [
      "24\n"
     ]
    }
   ],
   "source": [
    "from functools import reduce\n",
    "numbers = [1, 2, 3, 4]\n",
    "product = reduce(lambda x, y: x * y, numbers)\n",
    "print(product)"
   ]
  },
  {
   "cell_type": "markdown",
   "id": "45e414d6-acf4-4f91-b04e-61c9209dea80",
   "metadata": {},
   "source": [
    "---"
   ]
  },
  {
   "cell_type": "markdown",
   "id": "f87e6fd2-39ad-4b40-a2c7-737fc2313e30",
   "metadata": {},
   "source": [
    "# Algorithmics"
   ]
  },
  {
   "cell_type": "markdown",
   "id": "5b283f32-bb70-4052-b6e3-b046c927e928",
   "metadata": {},
   "source": [
    "Un *algorithme* est une série d'étapes logiques qui établissent une procédure réalisant un objectif, un *programme* est une *implémentation* d'un algorithme"
   ]
  },
  {
   "cell_type": "markdown",
   "id": "d1ea15f9-936c-4466-bedc-d113505c4c6e",
   "metadata": {},
   "source": [
    "---"
   ]
  },
  {
   "cell_type": "markdown",
   "id": "29a68ac3-47a2-4698-9298-209987d5747b",
   "metadata": {
    "jp-MarkdownHeadingCollapsed": true
   },
   "source": [
    "## Evaluation criteria"
   ]
  },
  {
   "cell_type": "markdown",
   "id": "7dfa7483-c288-4939-92f2-8b5d7a089c99",
   "metadata": {},
   "source": [
    "Il existe plusieurs critères pour évaluer la qualité d'un algorithme:\n",
    "  - Précision\n",
    "  - Performance\n",
    "  - Coût\n",
    "  - ..."
   ]
  },
  {
   "cell_type": "markdown",
   "id": "507d97b2-87c2-4e9c-a2cc-9ced4ab56295",
   "metadata": {},
   "source": [
    "---"
   ]
  },
  {
   "cell_type": "markdown",
   "id": "de264586-dcde-44d9-9d8f-c842e5ce62c7",
   "metadata": {
    "jp-MarkdownHeadingCollapsed": true
   },
   "source": [
    "## Time complexity"
   ]
  },
  {
   "cell_type": "markdown",
   "id": "d5a7f3c6-2bca-48f3-b683-6db632a88a5d",
   "metadata": {},
   "source": [
    "Un programme prend un certain temps à exécuter, ce temps dépend de la performance du programme ainsi que du nombre d'itérations ou d'opérations qu'il doit effectuer\\\n",
    "La relation entre le temps pris et le nombre `n` d'opération, est appelé le complexité temporelle"
   ]
  },
  {
   "cell_type": "markdown",
   "id": "1ed6431d-c56a-4370-ade7-1d9bb6b52255",
   "metadata": {},
   "source": [
    "Si un programme évolue en un temps $T(n)$ (où `n` est soit l'input size, le nombre d'itérations), il est possible de majorer et minorer cette fonction $T(n)$\\\n",
    "C'est à dire: \"$T(n)$ ne prendra jamais plus/moins de temps que...\"\\\n",
    "Cela permet de caractériser le *comportement asymptotique* de $T(n)$"
   ]
  },
  {
   "cell_type": "markdown",
   "id": "2ea4e135-ce77-48e4-a24c-f077363482ec",
   "metadata": {},
   "source": [
    "---"
   ]
  },
  {
   "cell_type": "markdown",
   "id": "df0db1e9-08fc-455d-8f40-07df6120041b",
   "metadata": {},
   "source": [
    "#### Big $\\mathcal{O}(\\cdot)$"
   ]
  },
  {
   "cell_type": "markdown",
   "id": "79be9128-045e-4d22-8bbd-01ebf2b4183a",
   "metadata": {},
   "source": [
    "Soient $n \\in \\mathbb{N}$ et $g(n)$, une fonction positive de $n$, on dit que $T(n)$ est $\\mathcal{O}(g(n))$, si:\\\n",
    "$\\exists\\; C>0 \\in \\mathbb{R}$ et $N>0 \\in \\mathbb{N}$ tels que $\\forall\\; n>N$, $T(n)\\le C\\cdot g(n)$"
   ]
  },
  {
   "cell_type": "markdown",
   "id": "263c7264-2c8e-4db1-9c98-a0ecf14c4681",
   "metadata": {},
   "source": [
    "Ici, $g(n)$ <ins>majore</ins> $T(n)$ "
   ]
  },
  {
   "cell_type": "markdown",
   "id": "60c18c0e-4cd1-42d8-abe5-56eafd51f022",
   "metadata": {},
   "source": [
    "#### Big $\\Omega(\\cdot)$"
   ]
  },
  {
   "cell_type": "markdown",
   "id": "7d2e1b29-5983-483a-a766-35fb12a344ff",
   "metadata": {},
   "source": [
    "Soient $n \\in \\mathbb{N}$ et $g(n)$, une fonction positive de $n$, on dit que $T(n)$ est $\\Omega(g(n))$, si:\\\n",
    "$\\exists\\; C>0 \\in \\mathbb{R}$ et $N>0 \\in \\mathbb{N}$ tels que $\\forall\\; n>N$, $T(n)\\ge C\\cdot g(n)$"
   ]
  },
  {
   "cell_type": "markdown",
   "id": "a25c103c-3f52-42b6-8ed3-f040c8de349a",
   "metadata": {},
   "source": [
    "Ici, $g(n)$ <ins>minore</ins> $T(n)$ "
   ]
  },
  {
   "cell_type": "markdown",
   "id": "7bf32e2a-caa0-47bd-bbc0-c9645b840b2c",
   "metadata": {},
   "source": [
    "#### Big $\\Theta(\\cdot)$"
   ]
  },
  {
   "cell_type": "markdown",
   "id": "29e14358-8eab-47ff-a5f4-2d39acc66cd5",
   "metadata": {},
   "source": [
    "Si $T(n)$ est à la fois $\\mathcal{O}(g(n))$ et $\\Omega(g(n))$, on dit alors qu'elle est $\\Theta(g(n))$"
   ]
  },
  {
   "cell_type": "markdown",
   "id": "c2839116-00a9-47c1-8aca-8586f3169a75",
   "metadata": {},
   "source": [
    "La progression temporelle de l'implémentation evolue exactement comme $g(n)$ "
   ]
  },
  {
   "cell_type": "markdown",
   "id": "5ead0448-48b9-42e6-9afd-9fa6399a79dd",
   "metadata": {},
   "source": [
    "---"
   ]
  },
  {
   "cell_type": "markdown",
   "id": "8a71070f-8e9e-4974-bf57-8d2d4e2a1f2c",
   "metadata": {},
   "source": [
    "#### What is actually used"
   ]
  },
  {
   "cell_type": "markdown",
   "id": "ba4ae68c-e30d-4aac-9120-e85a4b9213e6",
   "metadata": {},
   "source": [
    "En pratique, il est souvent trop compliqué de définir une limite inférieure $\\Omega(g(n))$ à un algorithme (on ne sait souvent pas si on peut faire mieux entre autres), et il est surtout plus utile de donner un \"worst case scenario\", donc il est conventionnel de caractériser le temps d'évolution avec une borne supérieure le plus proche $\\mathcal{O}(g(n))$"
   ]
  },
  {
   "cell_type": "markdown",
   "id": "577628e4-8299-46a4-aac8-0577703633d9",
   "metadata": {},
   "source": [
    "---"
   ]
  },
  {
   "cell_type": "markdown",
   "id": "4c1ae2a7-387a-4de4-b22c-69a9d3fa6c94",
   "metadata": {},
   "source": [
    "#### Evaluating time complexitiy of actual code"
   ]
  },
  {
   "cell_type": "markdown",
   "id": "4cf6cddc-8fc6-4a78-83d6-9024def79783",
   "metadata": {},
   "source": [
    "Pour évaluer la complexité temporelle d'un programme, il suffit d'évaluer la complexité temporelle de chaque ligne du code, puis de combiner les complexités de chaque instructions (pour ce qui nous concerne, il suffit de prendre un polynôme du plus grand degré de `n`)"
   ]
  },
  {
   "cell_type": "markdown",
   "id": "2150713a-c504-4815-b139-d7d773391446",
   "metadata": {},
   "source": [
    "1. **Constant time - $\\mathcal{O}(1)$**"
   ]
  },
  {
   "cell_type": "code",
   "execution_count": 57,
   "id": "eaeb6ae1-9aa3-462f-b9aa-8d570820c629",
   "metadata": {},
   "outputs": [],
   "source": [
    "def constant_time():\n",
    "    return True"
   ]
  },
  {
   "cell_type": "markdown",
   "id": "f552eb71-ad30-441e-8b62-207608cd4d2b",
   "metadata": {},
   "source": [
    "2. **Linear Time - $\\mathcal{O}(n)$**"
   ]
  },
  {
   "cell_type": "code",
   "execution_count": 58,
   "id": "6148f162-7a6e-4159-9035-4d5fb6ec18a0",
   "metadata": {},
   "outputs": [],
   "source": [
    "def linear_time(arr):\n",
    "    for i in arr:\n",
    "        print(i)"
   ]
  },
  {
   "cell_type": "markdown",
   "id": "2a48c73e-f098-4ec5-a123-ba57f2b8f647",
   "metadata": {},
   "source": [
    "3. **Logarithmic Time Complexity - $\\mathcal{O}(\\log{n})$**"
   ]
  },
  {
   "cell_type": "code",
   "execution_count": 59,
   "id": "19caaba7-782e-4bdf-830b-a59987e61c0b",
   "metadata": {},
   "outputs": [],
   "source": [
    "def logarithmic_time(n):\n",
    "    return int(math.log2(n))"
   ]
  },
  {
   "cell_type": "markdown",
   "id": "abfe6069-c3c5-4e7c-b680-b323420cf654",
   "metadata": {},
   "source": [
    "4. **Quadratic Time Complexity - $\\mathcal{O}(n^{2})$**"
   ]
  },
  {
   "cell_type": "code",
   "execution_count": 60,
   "id": "53fa317f-6240-4e96-9c03-359998b3fe81",
   "metadata": {},
   "outputs": [],
   "source": [
    "def quadratic_time(arr):\n",
    "    for i in arr:\n",
    "        for j in arr:\n",
    "            print(i, j)"
   ]
  },
  {
   "cell_type": "markdown",
   "id": "cedf30c2-727b-4214-9ad6-8f7ca64c1e20",
   "metadata": {},
   "source": [
    "5. **Cubic Time Complexity - $\\mathcal{O}(n^{3})$**"
   ]
  },
  {
   "cell_type": "code",
   "execution_count": 61,
   "id": "4928a346-e602-4a20-989d-e4eed81b04a6",
   "metadata": {},
   "outputs": [],
   "source": [
    "def cubic_time(arr):\n",
    "    for i in arr:\n",
    "        for j in arr:\n",
    "            for k in arr:\n",
    "                print(i, j, k)"
   ]
  },
  {
   "cell_type": "markdown",
   "id": "a0121e48-2cc8-4d04-90aa-ecba34df90f1",
   "metadata": {},
   "source": [
    "Un bout de code contenant tous ces morceaux de code aurait donc une complexité de $\\mathcal{O}(n^{3})$"
   ]
  },
  {
   "cell_type": "markdown",
   "id": "24c11be4-e496-469a-a4a9-e9378178481c",
   "metadata": {},
   "source": [
    "---"
   ]
  },
  {
   "cell_type": "markdown",
   "id": "04f26b80-baa1-48e5-be52-f48d8a85bce7",
   "metadata": {},
   "source": [
    "#### Some more examples"
   ]
  },
  {
   "cell_type": "markdown",
   "id": "1f0205e6-5c5f-4c94-9dff-74e6fd953152",
   "metadata": {},
   "source": [
    "`append` est de type $\\mathcal{O}(n)$, on voit que l'implémentation de numpy prend plus de temps (toujours $\\mathcal{O}(n)$) car l'array doit être aggrandi à chaque fois:"
   ]
  },
  {
   "cell_type": "code",
   "execution_count": 62,
   "id": "ed3c46de-ba91-45f3-bb18-a192227fa7f6",
   "metadata": {},
   "outputs": [],
   "source": [
    "import time as tm\n",
    "\n",
    "ntest = 1000\n",
    "time_array = np.empty(ntest)\n",
    "time_array_np = np.empty_like(time_array)\n",
    "\n",
    "# Python lst.append()\n",
    "for i in range(ntest):\n",
    "    lst = []\n",
    "    a = tm.time()\n",
    "    for k in range(i):\n",
    "        lst.append(k)\n",
    "    b = tm.time()\n",
    "    time_array[i] = b - a\n",
    "\n",
    "# Numpy np.append()\n",
    "for i in range(ntest):\n",
    "    arr = np.empty(0)\n",
    "    a = tm.time()\n",
    "    for k in range(i):\n",
    "        np.append(arr, k)\n",
    "    b = tm.time()\n",
    "    time_array_np[i] = b - a"
   ]
  },
  {
   "cell_type": "code",
   "execution_count": 63,
   "id": "af084442-1de8-4ada-9d6c-e5cf9f205728",
   "metadata": {},
   "outputs": [
    {
     "data": {
      "image/png": "[encoded data removed]",
      "text/plain": [
       "<Figure size 640x480 with 1 Axes>"
      ]
     },
     "metadata": {},
     "output_type": "display_data"
    }
   ],
   "source": [
    "plt.plot(time_array, color='navy')\n",
    "plt.plot(time_array_np, color='red')\n",
    "plt.xlabel('n iterations')\n",
    "plt.ylabel('seconds')\n",
    "plt.show()"
   ]
  },
  {
   "cell_type": "markdown",
   "id": "b7c1d056-e38f-4d8f-bfea-ad4bee551408",
   "metadata": {},
   "source": [
    "Sommer des cubes dans trois boucles a une complexité de $\\mathcal{O}(n^{3})$:"
   ]
  },
  {
   "cell_type": "code",
   "execution_count": 64,
   "id": "ce34a3cb-0407-47bd-8737-be76a9f8d59f",
   "metadata": {},
   "outputs": [],
   "source": [
    "ntest = 150\n",
    "time_array_cubic = np.empty(ntest)\n",
    "\n",
    "# Cubic Time Complexity function: sum of squares using nested loops\n",
    "for i in range(ntest):\n",
    "    a = tm.time()\n",
    "    sum_of_squares = 0\n",
    "    for j in range(i):\n",
    "        for k in range(j):\n",
    "            for l in range(k):\n",
    "                sum_of_squares += (j ** 2)\n",
    "    b = tm.time()\n",
    "    time_array_cubic[i] = b - a"
   ]
  },
  {
   "cell_type": "code",
   "execution_count": 65,
   "id": "83bc7b61-cb86-47f2-87af-b749355f4504",
   "metadata": {},
   "outputs": [
    {
     "data": {
      "image/png": "[encoded data removed]",
      "text/plain": [
       "<Figure size 640x480 with 1 Axes>"
      ]
     },
     "metadata": {},
     "output_type": "display_data"
    }
   ],
   "source": [
    "plt.plot(time_array_cubic, color='navy')\n",
    "plt.xlabel('n iterations')\n",
    "plt.ylabel('seconds')\n",
    "plt.show()"
   ]
  },
  {
   "cell_type": "markdown",
   "id": "41d395ff-5123-4f96-bebe-475507dbdd3c",
   "metadata": {},
   "source": [
    "---"
   ]
  },
  {
   "cell_type": "markdown",
   "id": "34448b1b-10ca-42ae-942e-fb905f86153f",
   "metadata": {
    "jp-MarkdownHeadingCollapsed": true
   },
   "source": [
    "## Searching and sorting"
   ]
  },
  {
   "cell_type": "markdown",
   "id": "b878f01b-f4b9-4912-91e2-b3ccf0f9bda1",
   "metadata": {},
   "source": [
    "Regardons quelques algorithmes"
   ]
  },
  {
   "cell_type": "markdown",
   "id": "c48e46cc-2dce-46ef-bd60-24140f7ea1a9",
   "metadata": {},
   "source": [
    "---"
   ]
  },
  {
   "cell_type": "markdown",
   "id": "e0b6ac8c-9785-478c-84da-6953652b5609",
   "metadata": {
    "jp-MarkdownHeadingCollapsed": true
   },
   "source": [
    "#### List search"
   ]
  },
  {
   "cell_type": "markdown",
   "id": "1f6679e2-b22b-4892-bff9-d34e690288bf",
   "metadata": {},
   "source": [
    "On veut une fonction qui retourne l'indice `i` de la première occurence d'un élément `x` si la liste le contient, `None` sinon"
   ]
  },
  {
   "cell_type": "code",
   "execution_count": 68,
   "id": "34f69b60-0b1e-488c-92ef-4bed6c59f88b",
   "metadata": {},
   "outputs": [],
   "source": [
    "def list_search(lst, x):\n",
    "    length = len(lst)\n",
    "    \n",
    "    for index in range(length):\n",
    "        if x == lst[index]:\n",
    "            return index\n",
    "\n",
    "    return None"
   ]
  },
  {
   "cell_type": "code",
   "execution_count": 110,
   "id": "e26d4777-f86b-4c86-9ded-3de9aecf54d4",
   "metadata": {},
   "outputs": [
    {
     "data": {
      "text/plain": [
       "6"
      ]
     },
     "execution_count": 110,
     "metadata": {},
     "output_type": "execute_result"
    }
   ],
   "source": [
    "list_search(sorted([1, 5, 8, 9, 3, 2, 4, 5]), 8)"
   ]
  },
  {
   "cell_type": "markdown",
   "id": "f43e2eac-a99e-4722-b295-d89f34c4c46d",
   "metadata": {},
   "source": [
    "Cette fonction est de complexité temporelle $\\mathcal{O}(n)$"
   ]
  },
  {
   "cell_type": "markdown",
   "id": "fab312d1-f506-43e9-994b-5d7ca57e738d",
   "metadata": {},
   "source": [
    "---"
   ]
  },
  {
   "cell_type": "markdown",
   "id": "c7306065-2883-4eac-bd3b-20d6004844f4",
   "metadata": {
    "jp-MarkdownHeadingCollapsed": true
   },
   "source": [
    "#### Dichotomic search (Binary search)"
   ]
  },
  {
   "cell_type": "markdown",
   "id": "3e49d910-7d83-4207-96a2-b6c6bfd936f8",
   "metadata": {},
   "source": [
    "Pour trouver un certain elément dans un ensemble, on:\n",
    "  1. Vérifie si il est dans l'ensemble\n",
    "  2. Si oui, on divise l'ensemble en deux\n",
    "  3. On continue l'opération avec le demi-ensemble conteneant l'élément\n",
    "  4. On finit par arriver à l'élément lui-même\n",
    "\n",
    "*Note: on peut diviser différement qu'en deux (en 3, 4, ...)*"
   ]
  },
  {
   "cell_type": "markdown",
   "id": "978e1f2a-84e9-43c7-9bb7-fd08cd082955",
   "metadata": {},
   "source": [
    "**Attention! la liste en entrée doit avoir été triée préalablement pour pouvoir détérminer où x se trouve**"
   ]
  },
  {
   "cell_type": "code",
   "execution_count": 2,
   "id": "0f98aac8-f28f-4f2e-9226-dcf9a0eed443",
   "metadata": {},
   "outputs": [],
   "source": [
    "def binary_search(lst, x): \n",
    "    length = len(lst)\n",
    "    lower_bound = 0\n",
    "    upper_bound = length - 1\n",
    "    \n",
    "    while upper_bound >= lower_bound:        \n",
    "        middle = (upper_bound + lower_bound) // 2\n",
    "\n",
    "        if lst[middle] == x:\n",
    "            return middle\n",
    "        elif lst[middle] > x:\n",
    "            upper_bound = middle - 1\n",
    "        else:\n",
    "            lower_bound = middle + 1\n",
    "\n",
    "    return None"
   ]
  },
  {
   "cell_type": "code",
   "execution_count": 3,
   "id": "c9c25cbb-9c16-4c99-be92-e28ca5a00158",
   "metadata": {},
   "outputs": [
    {
     "data": {
      "text/plain": [
       "6"
      ]
     },
     "execution_count": 3,
     "metadata": {},
     "output_type": "execute_result"
    }
   ],
   "source": [
    "binary_search(sorted([1, 5, 8, 9, 3, 2, 4, 5]), 8)"
   ]
  },
  {
   "cell_type": "markdown",
   "id": "7c6041f6-428b-4d58-9341-6b02989e2654",
   "metadata": {},
   "source": [
    "Cette fonction est de complexité temporelle $\\mathcal{O}(\\log_{2}{n})$, sachant qu'il est possible de trier une liste en minimum $\\mathcal{O}(n\\cdot\\log{n})$, cette méthode n'a aucun avantage si les listes ne sont pas déjà triées"
   ]
  },
  {
   "cell_type": "markdown",
   "id": "ec812003-6b34-461e-9f9a-a7c97e0aefb4",
   "metadata": {},
   "source": [
    "---"
   ]
  },
  {
   "cell_type": "markdown",
   "id": "2e35dc64-c4a6-492e-aef0-f08af09fe0eb",
   "metadata": {
    "jp-MarkdownHeadingCollapsed": true
   },
   "source": [
    "#### Search times"
   ]
  },
  {
   "cell_type": "markdown",
   "id": "a5f1f87a-f4c6-4e7b-abe7-fddfd569d8b9",
   "metadata": {},
   "source": [
    "Regardons expérimentalement les complexités temporelles de ces deux algorithmes"
   ]
  },
  {
   "cell_type": "code",
   "execution_count": 154,
   "id": "88fe8d4f-7bfb-4745-80d6-1de67986388a",
   "metadata": {},
   "outputs": [],
   "source": [
    "import random as rd\n",
    "\n",
    "n_tests = 2000\n",
    "\n",
    "list_search_times = []\n",
    "binary_search_times = []\n",
    "\n",
    "for n in range(n_tests):\n",
    "    temp_list = sorted([rd.randint(0, n) for _ in range(n)])\n",
    "    random_find = rd.randint(0, n)\n",
    "    \n",
    "    # list_search\n",
    "    a = tm.time()\n",
    "    list_search(temp_list, random_find)\n",
    "    b = tm.time()\n",
    "    \n",
    "    list_search_times.append(b - a)\n",
    "    \n",
    "    # binary_search\n",
    "    a = tm.time()\n",
    "    binary_search(temp_list, random_find)\n",
    "    b = tm.time()\n",
    "    \n",
    "    binary_search_times.append(b - a)"
   ]
  },
  {
   "cell_type": "code",
   "execution_count": 155,
   "id": "795f4ce5-0316-4841-ae5e-f6709e8938c9",
   "metadata": {},
   "outputs": [
    {
     "data": {
      "image/png": "[encoded data removed]",
      "text/plain": [
       "<Figure size 640x480 with 1 Axes>"
      ]
     },
     "metadata": {},
     "output_type": "display_data"
    }
   ],
   "source": [
    "plt.plot(list_search_times, color='red', label='list_search', linewidth=0.5)\n",
    "plt.plot(binary_search_times, color='blue', label='binary_search', linewidth=0.5)\n",
    "plt.legend()\n",
    "plt.ylabel('Time [s]')\n",
    "plt.xlabel('n')\n",
    "plt.show()"
   ]
  },
  {
   "cell_type": "markdown",
   "id": "beb9873d-3249-4b07-897e-a422c75c4f73",
   "metadata": {},
   "source": [
    "On voit clairement que la recherche binaire performe beaucoup mieux!"
   ]
  },
  {
   "cell_type": "markdown",
   "id": "cf908d83-dc9a-4568-abe0-2e453145ec14",
   "metadata": {},
   "source": [
    "---"
   ]
  },
  {
   "cell_type": "markdown",
   "id": "f4f2e9d7-1794-47c1-b5dd-4368fac4e3d5",
   "metadata": {
    "jp-MarkdownHeadingCollapsed": true
   },
   "source": [
    "#### Selection sort"
   ]
  },
  {
   "cell_type": "markdown",
   "id": "c17049f9-d09c-412b-b2ef-de46c9cec126",
   "metadata": {},
   "source": [
    "Cet algorithme procède ainsi:\n",
    "  1. Trouver le plus petit élément de la liste\n",
    "  2. Le placer au début\n",
    "  3. Trouver le second plus petit élément\n",
    "  4. etc..."
   ]
  },
  {
   "cell_type": "code",
   "execution_count": 123,
   "id": "a2433732-7d27-4d77-b7a0-3b0768d7f1a2",
   "metadata": {},
   "outputs": [],
   "source": [
    "def selection_sort(lst):\n",
    "    length = len(lst)\n",
    "\n",
    "    for i in range(length):\n",
    "        m = lst[i]\n",
    "        m_index = i\n",
    "        for j in range(i + 1, length):\n",
    "            if lst[j] < m:\n",
    "                m = lst[j]\n",
    "                m_index = j\n",
    "                lst[i], lst[m_index] = lst[m_index], lst[i]\n",
    "    return lst"
   ]
  },
  {
   "cell_type": "code",
   "execution_count": 124,
   "id": "4dc8d488-cfce-4e30-97a2-95649f7f9e76",
   "metadata": {},
   "outputs": [
    {
     "data": {
      "text/plain": [
       "[1, 2, 3, 4, 5, 5, 8, 9]"
      ]
     },
     "execution_count": 124,
     "metadata": {},
     "output_type": "execute_result"
    }
   ],
   "source": [
    "selection_sort([1, 5, 8, 9, 3, 2, 4, 5])"
   ]
  },
  {
   "cell_type": "markdown",
   "id": "2df6e924-ef26-4678-b136-ba424c27c005",
   "metadata": {},
   "source": [
    "Cette fonction est de complexité temporelle $\\mathcal{O}(n^{2})$"
   ]
  },
  {
   "cell_type": "markdown",
   "id": "cd675a8d-4bf4-4e5d-80fd-5234d64ad9e9",
   "metadata": {},
   "source": [
    "---"
   ]
  },
  {
   "cell_type": "markdown",
   "id": "5d64a433-442e-4352-a3c1-5b4f4fea5924",
   "metadata": {
    "jp-MarkdownHeadingCollapsed": true
   },
   "source": [
    "#### Insertion sort"
   ]
  },
  {
   "cell_type": "code",
   "execution_count": 132,
   "id": "79af992e-73b9-4444-bdb3-0b109b7b3eff",
   "metadata": {},
   "outputs": [],
   "source": [
    "def insertion_sort(lst):\n",
    "    length = len(lst)\n",
    "    for i in range(length):\n",
    "        j = i\n",
    "        while j > 0 and lst[j] < lst[j-1]:\n",
    "            lst[j], lst[j-1] = lst[j-1], lst[j]\n",
    "            j -= 1\n",
    "    return lst"
   ]
  },
  {
   "cell_type": "code",
   "execution_count": 133,
   "id": "a0764a9b-fc0c-45c8-ab17-4ee846276f4f",
   "metadata": {},
   "outputs": [
    {
     "data": {
      "text/plain": [
       "[1, 2, 3, 4, 5, 5, 8, 9]"
      ]
     },
     "execution_count": 133,
     "metadata": {},
     "output_type": "execute_result"
    }
   ],
   "source": [
    "insertion_sort([1, 5, 8, 9, 3, 2, 4, 5])"
   ]
  },
  {
   "cell_type": "markdown",
   "id": "4726499c-c4c0-46d8-b61e-f43d63de8893",
   "metadata": {},
   "source": [
    "Cette fonction est de complexité temporelle $\\mathcal{O}(n^{2})$ aussi (dans le pire des cas)"
   ]
  },
  {
   "cell_type": "markdown",
   "id": "2a754703-df1f-491d-8584-b488cfb56ed1",
   "metadata": {},
   "source": [
    "---"
   ]
  },
  {
   "cell_type": "markdown",
   "id": "dc30656e-b488-473d-85ee-a35ae036e3ba",
   "metadata": {
    "jp-MarkdownHeadingCollapsed": true
   },
   "source": [
    "#### Sort times"
   ]
  },
  {
   "cell_type": "markdown",
   "id": "bcf44acc-3e86-483d-86ac-84991f134329",
   "metadata": {},
   "source": [
    "Regardons expérimentalement les complexités temporelles de ces deux algorithmes de tri"
   ]
  },
  {
   "cell_type": "code",
   "execution_count": 156,
   "id": "71b1091a-7d55-4cea-a6b3-6816dd524f9b",
   "metadata": {},
   "outputs": [],
   "source": [
    "n_tests = 500\n",
    "\n",
    "selection_sort_times = []\n",
    "insertion_sort_times = []\n",
    "\n",
    "for n in range(n_tests):\n",
    "    temp_list1 = [rd.randint(0, n) for _ in range(n)]\n",
    "    temp_list2 = temp_list1.copy()\n",
    "    \n",
    "    # selection_sort\n",
    "    a = tm.time()\n",
    "    selection_sort(temp_list1)\n",
    "    b = tm.time()\n",
    "    \n",
    "    selection_sort_times.append(b - a)\n",
    "    \n",
    "    # insertion_sort\n",
    "    a = tm.time()\n",
    "    insertion_sort(temp_list2)\n",
    "    b = tm.time()\n",
    "    \n",
    "    insertion_sort_times.append(b - a)"
   ]
  },
  {
   "cell_type": "code",
   "execution_count": 157,
   "id": "b4442a2a-069c-4a47-aedd-3a1ce90e7cd5",
   "metadata": {},
   "outputs": [
    {
     "data": {
      "image/png": "[encoded data removed]",
      "text/plain": [
       "<Figure size 640x480 with 1 Axes>"
      ]
     },
     "metadata": {},
     "output_type": "display_data"
    }
   ],
   "source": [
    "plt.plot(selection_sort_times, color='red', label='selection_sort', linewidth=0.5)\n",
    "plt.plot(insertion_sort_times, color='blue', label='insertion_sort', linewidth=0.5)\n",
    "plt.legend()\n",
    "plt.ylabel('Time [s]')\n",
    "plt.xlabel('n')\n",
    "plt.show()"
   ]
  },
  {
   "cell_type": "markdown",
   "id": "438ce804-42ce-4226-8cb6-5bb367fb1754",
   "metadata": {},
   "source": [
    "---"
   ]
  },
  {
   "cell_type": "markdown",
   "id": "a4b38e73-ed0c-4160-9665-c55451c496bb",
   "metadata": {},
   "source": [
    "## Numerical methods"
   ]
  },
  {
   "cell_type": "markdown",
   "id": "96ab5ecf-6bad-4b26-bf92-c7f9dd24494a",
   "metadata": {},
   "source": [
    "Pour résoudre certaines équations très complexes, il nous faut des méthodes d'approximation des solutions. On va essayer de construire une suite $(a_{n})_{n\\ge 0}$ telle que $\\lim_{n\\to\\infty}a_{n}=\\alpha$ où $\\alpha$ est le zéro recherché."
   ]
  },
  {
   "cell_type": "markdown",
   "id": "a74a8600-74e0-44c4-bd0f-5473f339074a",
   "metadata": {},
   "source": [
    "Bien sûr, un ordinateur ne pourra pas effectuer une infinité d'itération, donc on n'obtiendra jamais une solution exacte"
   ]
  },
  {
   "cell_type": "markdown",
   "id": "03fb19a2-5e90-4e0e-acc3-67ee32cda5a8",
   "metadata": {},
   "source": [
    "#### Numerical error"
   ]
  },
  {
   "cell_type": "markdown",
   "id": "0a52f61f-9339-4b2a-b447-c5a2368aaa42",
   "metadata": {},
   "source": [
    "On définit l'erreur absolue à la k-ième itération comme:\\\n",
    "$e_{abs,k}=|a_{k}-\\alpha|$"
   ]
  },
  {
   "cell_type": "markdown",
   "id": "490bbaa7-88f4-4d85-82eb-16a31c051c2b",
   "metadata": {},
   "source": [
    "Et l'erreur relative:\\\n",
    "$e_{rel,k}=\\frac{e_{abs,k}}{a_{k}}$"
   ]
  },
  {
   "cell_type": "markdown",
   "id": "ca6c3890-ee7f-4c43-a020-6a1d6413967e",
   "metadata": {},
   "source": [
    "#### Bissection"
   ]
  },
  {
   "cell_type": "markdown",
   "id": "b9ba457e-dd04-4a52-990a-99a9d23e17f0",
   "metadata": {
    "jp-MarkdownHeadingCollapsed": true
   },
   "source": [
    "Une méthode de résolution numérique est la méthode de bissection, et elle procède comme cela:\n",
    "  1. Choix d'un intervalle de départ $[a, b]$ tel que la condition de Bolzano soit satisfaite ($f(a)\\cdot f(b)<0$)\n",
    "  2. Trouver le point milieu $a_{k}=\\frac{a+b}{2}$\n",
    "  3. Dans vérifier lequel deux demi-intervalles satisfait la condition de Bolzano\n",
    "  4. Répéter tant que une condition d'arrêt n'est pas satisfaite (nombre d'itérations limite, ou tolérance $\\epsilon$)"
   ]
  },
  {
   "cell_type": "markdown",
   "id": "5028987c-7889-4424-9081-c1c3dca91f7d",
   "metadata": {},
   "source": [
    "Cette méthode a des désavantages:\n",
    "  1. Convergence lente\n",
    "  2. Possibilité de perdre des solutions\n",
    "  3. À chaque intération, il est possible de diviser l'intervalle plus inteligemment que par deux pour optimiser la convergence"
   ]
  },
  {
   "cell_type": "code",
   "execution_count": null,
   "id": "a6fd9afd-7448-457c-9c26-17e187b4878f",
   "metadata": {},
   "outputs": [],
   "source": []
  }
 ],
 "metadata": {
  "kernelspec": {
   "display_name": "Python 3 (ipykernel)",
   "language": "python",
   "name": "python3"
  },
  "language_info": {
   "codemirror_mode": {
    "name": "ipython",
    "version": 3
   },
   "file_extension": ".py",
   "mimetype": "text/x-python",
   "name": "python",
   "nbconvert_exporter": "python",
   "pygments_lexer": "ipython3",
   "version": "3.13.0"
  }
 },
 "nbformat": 4,
 "nbformat_minor": 5
}
