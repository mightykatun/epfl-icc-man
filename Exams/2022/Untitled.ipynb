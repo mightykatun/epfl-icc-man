{
 "cells": [
  {
   "cell_type": "markdown",
   "id": "deb9a921-36a2-44a4-b2e1-137a99b9aa0a",
   "metadata": {},
   "source": [
    "# Examen 2022"
   ]
  },
  {
   "cell_type": "markdown",
   "id": "cb29d6a7-9515-4758-b935-c4e134de09bf",
   "metadata": {},
   "source": [
    "## Partie I"
   ]
  },
  {
   "cell_type": "markdown",
   "id": "1ff2018c-4658-4d0f-87a9-4aa06fdbe79e",
   "metadata": {},
   "source": [
    "#### Exercice 1"
   ]
  },
  {
   "cell_type": "markdown",
   "id": "55ed9239-32d2-4835-b8e8-a374311cc74a",
   "metadata": {},
   "source": [
    "Partie 1\\\n",
    "`id(li1) == id(li2)` True\\\n",
    "`id(li1) == id(li3)` False\\\n",
    "`id(li1) == id(li4)` False\\\n",
    "Partie 2\\\n",
    "`li2[0]` 100\\\n",
    "`li3[0]` 10\\\n",
    "`li4[0]` 10\\\n",
    "Partie 3\\\n",
    "`li1[1].append(13)` returns nothing\\\n",
    "`li2[1]` \\[11, 12, 13]\\\n",
    "`li3[1]` \\[11, 12, 13]\\\n",
    "`li4[1]` \\[11, 12]\\\n",
    "Partie 4\\\n",
    "`li1[2].upper()` \"HELLO\"\\\n",
    "`li2[2]` \"hello\"\\\n",
    "`li3[2]` \"hello\"\\\n",
    "`li4[2]` \"hello\"\n"
   ]
  },
  {
   "cell_type": "markdown",
   "id": "f9eb04d3-891b-4552-99f0-59c19a277d56",
   "metadata": {},
   "source": [
    "#### Exercice 2"
   ]
  },
  {
   "cell_type": "markdown",
   "id": "a05def0a-8c6d-4be1-a3f7-370446f93d7b",
   "metadata": {},
   "source": [
    "pas fait en cours"
   ]
  },
  {
   "cell_type": "markdown",
   "id": "f281cbdb-0f1f-4827-b198-bdaf4a494354",
   "metadata": {},
   "source": [
    "#### Exercice 3"
   ]
  },
  {
   "cell_type": "markdown",
   "id": "3dd19e6e-6c30-4c57-aee8-4d29a26b49f8",
   "metadata": {},
   "source": [
    "pas fait en cours"
   ]
  },
  {
   "cell_type": "markdown",
   "id": "66951141-ad07-45a7-912f-a06fb27fb834",
   "metadata": {},
   "source": [
    "## Partie II"
   ]
  },
  {
   "cell_type": "markdown",
   "id": "8f0b1a74-36a8-478a-84bd-d5e67e44cc92",
   "metadata": {},
   "source": [
    "#### Exercice 4"
   ]
  },
  {
   "cell_type": "markdown",
   "id": "d326c099-431c-4f12-bb39-a4303d61dbda",
   "metadata": {},
   "source": [
    "pas fait en cours"
   ]
  },
  {
   "cell_type": "markdown",
   "id": "fb808346-377d-4b8f-861f-ffc47245668c",
   "metadata": {},
   "source": [
    "#### Exercice 5"
   ]
  },
  {
   "cell_type": "code",
   "execution_count": null,
   "id": "9dbe1352-10d7-4042-bf27-726d1097d02e",
   "metadata": {},
   "outputs": [],
   "source": []
  }
 ],
 "metadata": {
  "kernelspec": {
   "display_name": "Python 3 (ipykernel)",
   "language": "python",
   "name": "python3"
  },
  "language_info": {
   "codemirror_mode": {
    "name": "ipython",
    "version": 3
   },
   "file_extension": ".py",
   "mimetype": "text/x-python",
   "name": "python",
   "nbconvert_exporter": "python",
   "pygments_lexer": "ipython3",
   "version": "3.13.0"
  }
 },
 "nbformat": 4,
 "nbformat_minor": 5
}
